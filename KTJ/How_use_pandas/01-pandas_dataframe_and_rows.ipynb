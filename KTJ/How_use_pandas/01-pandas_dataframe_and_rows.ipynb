{
 "cells": [
  {
   "cell_type": "markdown",
   "metadata": {
    "colab_type": "text",
    "id": "_fNbcjkS79gS"
   },
   "source": [
    "# Syntax – Creating DataFrames\n",
    "* https://pandas.pydata.org/Pandas_Cheat_Sheet.pdf"
   ]
  },
  {
   "cell_type": "markdown",
   "metadata": {
    "colab_type": "text",
    "id": "8WHTcU_kUOID"
   },
   "source": []
  },
  {
   "cell_type": "markdown",
   "metadata": {
    "colab_type": "text",
    "id": "JekhIkV4UOmz"
   },
   "source": []
  },
  {
   "cell_type": "code",
   "execution_count": 2,
   "metadata": {
    "ExecuteTime": {
     "end_time": "2020-06-19T18:09:34.655890Z",
     "start_time": "2020-06-19T18:09:34.426654Z"
    },
    "colab": {},
    "colab_type": "code",
    "id": "heszr06H79gU"
   },
   "outputs": [],
   "source": [
    "import pandas as pd"
   ]
  },
  {
   "cell_type": "code",
   "execution_count": 3,
   "metadata": {
    "ExecuteTime": {
     "end_time": "2020-06-19T18:09:35.714604Z",
     "start_time": "2020-06-19T18:09:35.707428Z"
    },
    "colab": {},
    "colab_type": "code",
    "id": "2VpzOWfE79gZ"
   },
   "outputs": [],
   "source": [
    "df = pd.DataFrame(\n",
    "        {\"a\" : (4 ,5, 6),\n",
    "        \"b\" : (7, 8, 9),\n",
    "        \"c\" : (10, 11, 12)},\n",
    "        index = [1, 2, 3])"
   ]
  },
  {
   "cell_type": "code",
   "execution_count": 7,
   "metadata": {
    "ExecuteTime": {
     "end_time": "2020-06-19T18:10:12.027685Z",
     "start_time": "2020-06-19T18:10:12.017893Z"
    },
    "colab": {
     "base_uri": "https://localhost:8080/",
     "height": 142
    },
    "colab_type": "code",
    "executionInfo": {
     "elapsed": 790,
     "status": "ok",
     "timestamp": 1555773765168,
     "user": {
      "displayName": "오세준",
      "photoUrl": "https://lh3.googleusercontent.com/-JqI16WECra4/AAAAAAAAAAI/AAAAAAABCd4/S5AlMvnHihc/s64/photo.jpg",
      "userId": "00792515079676565343"
     },
     "user_tz": -540
    },
    "id": "Yl-a3BG-79gd",
    "outputId": "4f884f94-6127-4016-c868-edea35a919ce",
    "scrolled": false
   },
   "outputs": [
    {
     "data": {
      "text/html": [
       "<div>\n",
       "<style scoped>\n",
       "    .dataframe tbody tr th:only-of-type {\n",
       "        vertical-align: middle;\n",
       "    }\n",
       "\n",
       "    .dataframe tbody tr th {\n",
       "        vertical-align: top;\n",
       "    }\n",
       "\n",
       "    .dataframe thead th {\n",
       "        text-align: right;\n",
       "    }\n",
       "</style>\n",
       "<table border=\"1\" class=\"dataframe\">\n",
       "  <thead>\n",
       "    <tr style=\"text-align: right;\">\n",
       "      <th></th>\n",
       "      <th>a</th>\n",
       "      <th>b</th>\n",
       "      <th>c</th>\n",
       "    </tr>\n",
       "  </thead>\n",
       "  <tbody>\n",
       "    <tr>\n",
       "      <th>1</th>\n",
       "      <td>4</td>\n",
       "      <td>7</td>\n",
       "      <td>10</td>\n",
       "    </tr>\n",
       "    <tr>\n",
       "      <th>2</th>\n",
       "      <td>5</td>\n",
       "      <td>8</td>\n",
       "      <td>11</td>\n",
       "    </tr>\n",
       "    <tr>\n",
       "      <th>3</th>\n",
       "      <td>6</td>\n",
       "      <td>9</td>\n",
       "      <td>12</td>\n",
       "    </tr>\n",
       "  </tbody>\n",
       "</table>\n",
       "</div>"
      ],
      "text/plain": [
       "   a  b   c\n",
       "1  4  7  10\n",
       "2  5  8  11\n",
       "3  6  9  12"
      ]
     },
     "execution_count": 7,
     "metadata": {},
     "output_type": "execute_result"
    }
   ],
   "source": [
    "df"
   ]
  },
  {
   "cell_type": "code",
   "execution_count": 6,
   "metadata": {},
   "outputs": [
    {
     "ename": "NameError",
     "evalue": "name 'df' is not defined",
     "output_type": "error",
     "traceback": [
      "\u001b[0;31m---------------------------------------------------------------------------\u001b[0m",
      "\u001b[0;31mNameError\u001b[0m                                 Traceback (most recent call last)",
      "\u001b[0;32m<ipython-input-6-00cf07b74dcd>\u001b[0m in \u001b[0;36m<module>\u001b[0;34m\u001b[0m\n\u001b[0;32m----> 1\u001b[0;31m \u001b[0mdf\u001b[0m\u001b[0;34m\u001b[0m\u001b[0;34m\u001b[0m\u001b[0m\n\u001b[0m",
      "\u001b[0;31mNameError\u001b[0m: name 'df' is not defined"
     ]
    }
   ],
   "source": [
    "df"
   ]
  },
  {
   "cell_type": "code",
   "execution_count": 0,
   "metadata": {
    "colab": {
     "base_uri": "https://localhost:8080/",
     "height": 142
    },
    "colab_type": "code",
    "executionInfo": {
     "elapsed": 1108,
     "status": "ok",
     "timestamp": 1555773905160,
     "user": {
      "displayName": "오세준",
      "photoUrl": "https://lh3.googleusercontent.com/-JqI16WECra4/AAAAAAAAAAI/AAAAAAABCd4/S5AlMvnHihc/s64/photo.jpg",
      "userId": "00792515079676565343"
     },
     "user_tz": -540
    },
    "id": "PVLbTOy2WAFZ",
    "outputId": "27399de9-6b40-4a5c-8334-33483c0ade39",
    "scrolled": true
   },
   "outputs": [
    {
     "data": {
      "text/html": [
       "<div>\n",
       "<style scoped>\n",
       "    .dataframe tbody tr th:only-of-type {\n",
       "        vertical-align: middle;\n",
       "    }\n",
       "\n",
       "    .dataframe tbody tr th {\n",
       "        vertical-align: top;\n",
       "    }\n",
       "\n",
       "    .dataframe thead th {\n",
       "        text-align: right;\n",
       "    }\n",
       "</style>\n",
       "<table border=\"1\" class=\"dataframe\">\n",
       "  <thead>\n",
       "    <tr style=\"text-align: right;\">\n",
       "      <th></th>\n",
       "      <th>a</th>\n",
       "      <th>b</th>\n",
       "    </tr>\n",
       "  </thead>\n",
       "  <tbody>\n",
       "    <tr>\n",
       "      <th>1</th>\n",
       "      <td>4</td>\n",
       "      <td>7</td>\n",
       "    </tr>\n",
       "    <tr>\n",
       "      <th>2</th>\n",
       "      <td>5</td>\n",
       "      <td>8</td>\n",
       "    </tr>\n",
       "    <tr>\n",
       "      <th>3</th>\n",
       "      <td>6</td>\n",
       "      <td>9</td>\n",
       "    </tr>\n",
       "  </tbody>\n",
       "</table>\n",
       "</div>"
      ],
      "text/plain": [
       "   a  b\n",
       "1  4  7\n",
       "2  5  8\n",
       "3  6  9"
      ]
     },
     "execution_count": 16,
     "metadata": {
      "tags": []
     },
     "output_type": "execute_result"
    }
   ],
   "source": [
    "df[[\"a\", \"b\"]]"
   ]
  },
  {
   "cell_type": "code",
   "execution_count": 0,
   "metadata": {
    "colab": {},
    "colab_type": "code",
    "id": "X79ZcCnxsKdS"
   },
   "outputs": [],
   "source": []
  },
  {
   "cell_type": "markdown",
   "metadata": {
    "colab_type": "text",
    "id": "yvlnlDoTsLab"
   },
   "source": [
    "# 새 섹션"
   ]
  },
  {
   "cell_type": "code",
   "execution_count": 0,
   "metadata": {
    "colab": {
     "base_uri": "https://localhost:8080/",
     "height": 34
    },
    "colab_type": "code",
    "executionInfo": {
     "elapsed": 906,
     "status": "ok",
     "timestamp": 1555773467093,
     "user": {
      "displayName": "오세준",
      "photoUrl": "https://lh3.googleusercontent.com/-JqI16WECra4/AAAAAAAAAAI/AAAAAAABCd4/S5AlMvnHihc/s64/photo.jpg",
      "userId": "00792515079676565343"
     },
     "user_tz": -540
    },
    "id": "cjCvcY4v79gg",
    "outputId": "49a12b03-4b99-43c6-93a8-9dce2b8eb8fa"
   },
   "outputs": [
    {
     "data": {
      "text/plain": [
       "6"
      ]
     },
     "execution_count": 4,
     "metadata": {
      "tags": []
     },
     "output_type": "execute_result"
    }
   ],
   "source": [
    "df.loc[3, \"a\"]"
   ]
  },
  {
   "cell_type": "code",
   "execution_count": 0,
   "metadata": {
    "colab": {
     "base_uri": "https://localhost:8080/",
     "height": 111
    },
    "colab_type": "code",
    "executionInfo": {
     "elapsed": 1013,
     "status": "ok",
     "timestamp": 1555773487574,
     "user": {
      "displayName": "오세준",
      "photoUrl": "https://lh3.googleusercontent.com/-JqI16WECra4/AAAAAAAAAAI/AAAAAAABCd4/S5AlMvnHihc/s64/photo.jpg",
      "userId": "00792515079676565343"
     },
     "user_tz": -540
    },
    "id": "dgLnYkC279gj",
    "outputId": "618c63bb-e943-4bc9-d3a7-3d71864d56fc"
   },
   "outputs": [
    {
     "data": {
      "text/html": [
       "<div>\n",
       "<style scoped>\n",
       "    .dataframe tbody tr th:only-of-type {\n",
       "        vertical-align: middle;\n",
       "    }\n",
       "\n",
       "    .dataframe tbody tr th {\n",
       "        vertical-align: top;\n",
       "    }\n",
       "\n",
       "    .dataframe thead th {\n",
       "        text-align: right;\n",
       "    }\n",
       "</style>\n",
       "<table border=\"1\" class=\"dataframe\">\n",
       "  <thead>\n",
       "    <tr style=\"text-align: right;\">\n",
       "      <th></th>\n",
       "      <th>a</th>\n",
       "      <th>b</th>\n",
       "    </tr>\n",
       "  </thead>\n",
       "  <tbody>\n",
       "    <tr>\n",
       "      <th>1</th>\n",
       "      <td>4</td>\n",
       "      <td>7</td>\n",
       "    </tr>\n",
       "    <tr>\n",
       "      <th>2</th>\n",
       "      <td>5</td>\n",
       "      <td>8</td>\n",
       "    </tr>\n",
       "  </tbody>\n",
       "</table>\n",
       "</div>"
      ],
      "text/plain": [
       "   a  b\n",
       "1  4  7\n",
       "2  5  8"
      ]
     },
     "execution_count": 5,
     "metadata": {
      "tags": []
     },
     "output_type": "execute_result"
    }
   ],
   "source": [
    "df.loc[[1, 2], [\"a\", \"b\"]]"
   ]
  },
  {
   "cell_type": "code",
   "execution_count": 15,
   "metadata": {
    "ExecuteTime": {
     "end_time": "2020-06-18T17:25:46.570581Z",
     "start_time": "2020-06-18T17:25:46.562088Z"
    }
   },
   "outputs": [
    {
     "name": "stdout",
     "output_type": "stream",
     "text": [
      "[(10, 8), (10, 14), (10, 21), (10, 24), (10, 37), (10, 53), (10, 64), (10, 83), (10, 85), (10, 86), (10, 93), (11, 44), (11, 81), (11, 91), (11, 98), (12, 4), (12, 12), (12, 17), (12, 32), (12, 33), (12, 34), (12, 50), (12, 72), (12, 82), (12, 96), (13, 0), (13, 6), (13, 25), (13, 31), (13, 45), (13, 57), (13, 60), (13, 68), (13, 69), (13, 71), (13, 87), (14, 7), (14, 30), (14, 38), (14, 39), (14, 42), (14, 77), (14, 84), (14, 88), (14, 89), (15, 2), (15, 3), (15, 15), (15, 35), (15, 43), (15, 74), (15, 76), (15, 90), (16, 9), (16, 28), (16, 41), (16, 56), (16, 65), (16, 67), (16, 70), (16, 73), (16, 75), (16, 80), (16, 94), (16, 95), (17, 19), (17, 20), (17, 23), (17, 46), (17, 47), (17, 48), (17, 51), (17, 52), (17, 54), (17, 59), (17, 62), (17, 92), (18, 16), (18, 18), (18, 26), (18, 40), (18, 49), (18, 58), (18, 63), (19, 1), (19, 5), (19, 10), (19, 11), (19, 13), (19, 22), (19, 27), (19, 78), (19, 97), (19, 99), (20, 29), (20, 36), (20, 55), (20, 61), (20, 66), (20, 79)]\n"
     ]
    },
    {
     "data": {
      "text/plain": [
       "<module 'pandas' from '/home/markcha/anaconda3/envs/py366/lib/python3.6/site-packages/pandas/__init__.py'>"
      ]
     },
     "execution_count": 15,
     "metadata": {},
     "output_type": "execute_result"
    }
   ],
   "source": [
    "import random as rd\n",
    "from operator import itemgetter\n",
    "import itertools as it\n",
    "import pandas as pd\n",
    "\n",
    "rd.randrange(100,201)\n",
    "r = range(100)\n",
    "k = [rd.randrange(10, 21) for i in r]\n",
    "a = list(zip(k,r))\n",
    "a.sort(key=itemgetter(0))\n",
    "print(a)\n",
    "pd.DataFrame(a, columns=[\"a\", \"b\"], index=r)\n",
    "pd"
   ]
  },
  {
   "cell_type": "code",
   "execution_count": null,
   "metadata": {
    "ExecuteTime": {
     "start_time": "2020-06-18T18:38:35.526Z"
    },
    "colab": {
     "base_uri": "https://localhost:8080/",
     "height": 142
    },
    "colab_type": "code",
    "executionInfo": {
     "elapsed": 1186,
     "status": "ok",
     "timestamp": 1555773500538,
     "user": {
      "displayName": "오세준",
      "photoUrl": "https://lh3.googleusercontent.com/-JqI16WECra4/AAAAAAAAAAI/AAAAAAABCd4/S5AlMvnHihc/s64/photo.jpg",
      "userId": "00792515079676565343"
     },
     "user_tz": -540
    },
    "id": "_c8At3sK79gn",
    "outputId": "9386d901-ff2e-4971-c7cb-90438f68bfa3"
   },
   "outputs": [],
   "source": [
    "df = pd.DataFrame(\n",
    "        [(4, 7, 10),\n",
    "        (5, 8, 11),\n",
    "        (6, 9, 12)],\n",
    "        index=[1, 2, 3],\n",
    "        columns=['a', 'b', 'c'])\n",
    "df"
   ]
  },
  {
   "cell_type": "code",
   "execution_count": null,
   "metadata": {
    "ExecuteTime": {
     "start_time": "2020-06-18T18:39:12.776Z"
    },
    "colab": {
     "base_uri": "https://localhost:8080/",
     "height": 235
    },
    "colab_type": "code",
    "executionInfo": {
     "elapsed": 951,
     "status": "ok",
     "timestamp": 1555773560685,
     "user": {
      "displayName": "오세준",
      "photoUrl": "https://lh3.googleusercontent.com/-JqI16WECra4/AAAAAAAAAAI/AAAAAAABCd4/S5AlMvnHihc/s64/photo.jpg",
      "userId": "00792515079676565343"
     },
     "user_tz": -540
    },
    "id": "PlkEQ86d79gq",
    "outputId": "7ced520a-5da3-49d0-9b0d-3f25596c1cfe"
   },
   "outputs": [],
   "source": [
    "import numpy as np\n",
    "df = pd.DataFrame(\n",
    "        {\"a\" : [4 ,5, 6, 6, np.nan],\n",
    "        \"b\" : [7, 8, np.nan, 9, 9],\n",
    "        \"c\" : [10, 11, 12, np.nan, 12]},\n",
    "        index = pd.MultiIndex.from_tuples(\n",
    "        [('d',1),('d',2),('e',2),('e',3),('e',4)],\n",
    "        names=['n','v']))\n",
    "df"
   ]
  },
  {
   "cell_type": "markdown",
   "metadata": {
    "colab_type": "text",
    "id": "ItCNlet879gt"
   },
   "source": [
    "## Subset Observations (Rows)"
   ]
  },
  {
   "cell_type": "code",
   "execution_count": 0,
   "metadata": {
    "colab": {},
    "colab_type": "code",
    "id": "Im8QEKxssMam"
   },
   "outputs": [],
   "source": []
  },
  {
   "cell_type": "code",
   "execution_count": 0,
   "metadata": {
    "colab": {},
    "colab_type": "code",
    "id": "p5gEz9Eh79gu"
   },
   "outputs": [],
   "source": [
    "df[df['c'] >= 7]"
   ]
  },
  {
   "cell_type": "code",
   "execution_count": 0,
   "metadata": {
    "colab": {},
    "colab_type": "code",
    "id": "8FqdXd2s79gy"
   },
   "outputs": [],
   "source": [
    "df"
   ]
  },
  {
   "cell_type": "code",
   "execution_count": 0,
   "metadata": {
    "colab": {},
    "colab_type": "code",
    "id": "JtCUMWQj79g2"
   },
   "outputs": [],
   "source": [
    "df = df.drop_duplicates(keep='last')\n",
    "df"
   ]
  },
  {
   "cell_type": "code",
   "execution_count": 0,
   "metadata": {
    "colab": {},
    "colab_type": "code",
    "id": "k9-YZ28p79g7"
   },
   "outputs": [],
   "source": [
    "df.head()"
   ]
  },
  {
   "cell_type": "code",
   "execution_count": 0,
   "metadata": {
    "colab": {},
    "colab_type": "code",
    "id": "Tzmi4L0v79g-"
   },
   "outputs": [],
   "source": [
    "df[df[\"b\"] != 7]"
   ]
  },
  {
   "cell_type": "code",
   "execution_count": 0,
   "metadata": {
    "colab": {},
    "colab_type": "code",
    "id": "87JVQQsg79hC"
   },
   "outputs": [],
   "source": [
    "df['a'].isin([5])"
   ]
  },
  {
   "cell_type": "code",
   "execution_count": 0,
   "metadata": {
    "colab": {},
    "colab_type": "code",
    "id": "TY8-h8H479hF"
   },
   "outputs": [],
   "source": [
    "pd.isnull(df)"
   ]
  },
  {
   "cell_type": "code",
   "execution_count": 0,
   "metadata": {
    "colab": {},
    "colab_type": "code",
    "id": "WH8bmAPl79hI"
   },
   "outputs": [],
   "source": [
    "df['a'].isnull().sum()"
   ]
  },
  {
   "cell_type": "code",
   "execution_count": 0,
   "metadata": {
    "colab": {},
    "colab_type": "code",
    "id": "EjTInSSc79hM"
   },
   "outputs": [],
   "source": [
    "pd.notnull(df)"
   ]
  },
  {
   "cell_type": "code",
   "execution_count": 13,
   "metadata": {
    "ExecuteTime": {
     "end_time": "2020-06-18T17:23:03.428280Z",
     "start_time": "2020-06-18T17:23:03.420447Z"
    },
    "colab": {},
    "colab_type": "code",
    "id": "XUioQPRe79hP"
   },
   "outputs": [
    {
     "data": {
      "text/plain": [
       "a    3\n",
       "b    3\n",
       "c    3\n",
       "dtype: int64"
      ]
     },
     "execution_count": 13,
     "metadata": {},
     "output_type": "execute_result"
    }
   ],
   "source": [
    "df.notnull().sum()"
   ]
  },
  {
   "cell_type": "code",
   "execution_count": 0,
   "metadata": {
    "colab": {},
    "colab_type": "code",
    "id": "igfKand779hT"
   },
   "outputs": [],
   "source": [
    "df.a.notnull()"
   ]
  },
  {
   "cell_type": "markdown",
   "metadata": {
    "colab_type": "text",
    "id": "kF-wgqD_79hX"
   },
   "source": [
    "* &,|,~,^,df.any(),df.all() \n",
    "* and, or, not, xor, any, all"
   ]
  },
  {
   "cell_type": "code",
   "execution_count": 0,
   "metadata": {
    "colab": {},
    "colab_type": "code",
    "id": "HiDrTO7m79hY"
   },
   "outputs": [],
   "source": [
    "df[df.b == 7] | df[df.a == 5]"
   ]
  },
  {
   "cell_type": "code",
   "execution_count": 0,
   "metadata": {
    "colab": {},
    "colab_type": "code",
    "id": "oBNKXdXf79hd"
   },
   "outputs": [],
   "source": [
    "df.head(2)"
   ]
  },
  {
   "cell_type": "code",
   "execution_count": 0,
   "metadata": {
    "colab": {},
    "colab_type": "code",
    "id": "QeJJhneT79hh"
   },
   "outputs": [],
   "source": [
    "df.sample(frac=0.3)"
   ]
  },
  {
   "cell_type": "code",
   "execution_count": 0,
   "metadata": {
    "colab": {},
    "colab_type": "code",
    "id": "v7JPx6go79hl"
   },
   "outputs": [],
   "source": [
    "df.sample(n=5)"
   ]
  },
  {
   "cell_type": "code",
   "execution_count": 0,
   "metadata": {
    "colab": {},
    "colab_type": "code",
    "id": "DXJaxjhu79ho"
   },
   "outputs": [],
   "source": [
    "df"
   ]
  },
  {
   "cell_type": "code",
   "execution_count": 0,
   "metadata": {
    "colab": {},
    "colab_type": "code",
    "id": "G8NUsIDE79hu"
   },
   "outputs": [],
   "source": [
    "df.iloc[-2:]"
   ]
  },
  {
   "cell_type": "code",
   "execution_count": 0,
   "metadata": {
    "colab": {},
    "colab_type": "code",
    "id": "Ttc-1kmg79hx"
   },
   "outputs": [],
   "source": [
    "df = pd.DataFrame({'a': [1, 10, 8, 11, -1],\n",
    "                'b': list('abdce'),\n",
    "                'c': [1.0, 2.0, np.nan, 3.0, 4.0]})\n",
    "df"
   ]
  },
  {
   "cell_type": "code",
   "execution_count": 0,
   "metadata": {
    "colab": {},
    "colab_type": "code",
    "id": "dVZRF_S979h1",
    "scrolled": true
   },
   "outputs": [],
   "source": [
    "df.nlargest(1, 'a')"
   ]
  },
  {
   "cell_type": "code",
   "execution_count": 0,
   "metadata": {
    "colab": {},
    "colab_type": "code",
    "id": "JoWNDsxR79h3"
   },
   "outputs": [],
   "source": [
    "df.nsmallest(3, 'a')"
   ]
  },
  {
   "cell_type": "code",
   "execution_count": 0,
   "metadata": {
    "colab": {},
    "colab_type": "code",
    "id": "mDqXSoPM79h6"
   },
   "outputs": [],
   "source": []
  }
 ],
 "metadata": {
  "colab": {
   "name": "01-pandas_dataframe_and_rows.ipynb",
   "provenance": [],
   "version": "0.3.2"
  },
  "kernelspec": {
   "display_name": "Python 3",
   "language": "python",
   "name": "python3"
  },
  "language_info": {
   "codemirror_mode": {
    "name": "ipython",
    "version": 3
   },
   "file_extension": ".py",
   "mimetype": "text/x-python",
   "name": "python",
   "nbconvert_exporter": "python",
   "pygments_lexer": "ipython3",
   "version": "3.6.6"
  },
  "varInspector": {
   "cols": {
    "lenName": 16,
    "lenType": 16,
    "lenVar": 40
   },
   "kernels_config": {
    "python": {
     "delete_cmd_postfix": "",
     "delete_cmd_prefix": "del ",
     "library": "var_list.py",
     "varRefreshCmd": "print(var_dic_list())"
    },
    "r": {
     "delete_cmd_postfix": ") ",
     "delete_cmd_prefix": "rm(",
     "library": "var_list.r",
     "varRefreshCmd": "cat(var_dic_list()) "
    }
   },
   "types_to_exclude": [
    "module",
    "function",
    "builtin_function_or_method",
    "instance",
    "_Feature"
   ],
   "window_display": false
  }
 },
 "nbformat": 4,
 "nbformat_minor": 1
}
