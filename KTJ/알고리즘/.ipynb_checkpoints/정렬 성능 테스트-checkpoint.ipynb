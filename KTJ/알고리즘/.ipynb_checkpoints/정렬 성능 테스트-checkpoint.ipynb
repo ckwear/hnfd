{
 "cells": [
  {
   "cell_type": "markdown",
   "metadata": {},
   "source": [
    "# 기본 라이르러리 함수가 가장 성능이 좋다..\n",
    "- list.sort\n",
    "- heapq"
   ]
  },
  {
   "cell_type": "code",
   "execution_count": 14,
   "metadata": {
    "ExecuteTime": {
     "end_time": "2020-06-18T16:14:41.864637Z",
     "start_time": "2020-06-18T16:14:41.858903Z"
    }
   },
   "outputs": [],
   "source": [
    "arr = [12235,23,346,457,456,34,34567,346,45367,4356,45,456,5647,7456,5346,3456,568,87,4567,7456,5246,23546,4657,6785,567,62345,3456,5678,3456,34567,475,43576,24567,4537,62354,3574,456,5246,3674,6245,2564,2346,4562,3567]"
   ]
  },
  {
   "cell_type": "code",
   "execution_count": 230,
   "metadata": {
    "ExecuteTime": {
     "end_time": "2020-06-18T16:25:11.665422Z",
     "start_time": "2020-06-18T16:25:11.641766Z"
    }
   },
   "outputs": [
    {
     "name": "stdout",
     "output_type": "stream",
     "text": [
      "\n"
     ]
    }
   ],
   "source": [
    "import math\n",
    "def merge_sort(list):\n",
    "    if len(list) <= 1:\n",
    "        return list\n",
    "    mid = len(list) // 2\n",
    "    leftList = list[:mid]\n",
    "    rightList = list[mid:]\n",
    "    leftList = merge_sort(leftList)\n",
    "    rightList = merge_sort(rightList)\n",
    "    return merge(leftList, rightList)\n",
    "\n",
    "def merge(left, right):\n",
    "    result = []\n",
    "    while len(left) > 0 or len(right) > 0:\n",
    "        if len(left) > 0 and len(right) > 0:\n",
    "            if left[0] <= right[0]:\n",
    "                result.append(left[0])\n",
    "                left = left[1:]\n",
    "            else:\n",
    "                result.append(right[0])\n",
    "                right = right[1:]\n",
    "        elif len(left) > 0:\n",
    "            result.append(left[0])\n",
    "            left = left[1:]\n",
    "        elif len(right) > 0:\n",
    "            result.append(right[0])\n",
    "            right = right[1:]\n",
    "    return result\n",
    "\n",
    "arr = [12235,23,346,457,456,34,34567,346,45367,4356,45,456,5647,7456,5346,3456,568,87,4567,7456,5246,23546,4657,6785,567,62345,3456,5678,3456,34567,475,43576,24567,4537,62354,3574,456,5246,3674,6245,2564,2346,4562,3567]\n",
    "\n",
    "merge_sort(arr)\n",
    "#print()\n",
    "#17ms\n"
   ]
  },
  {
   "cell_type": "code",
   "execution_count": 257,
   "metadata": {
    "ExecuteTime": {
     "end_time": "2020-06-18T16:25:27.359164Z",
     "start_time": "2020-06-18T16:25:27.351759Z"
    }
   },
   "outputs": [
    {
     "data": {
      "text/plain": [
       "<function list.sort>"
      ]
     },
     "execution_count": 257,
     "metadata": {},
     "output_type": "execute_result"
    }
   ],
   "source": [
    "arr = [12235,23,346,457,456,34,34567,346,45367,4356,45,456,5647,7456,5346,3456,568,87,4567,7456,5246,23546,4657,6785,567,62345,3456,5678,3456,34567,475,43576,24567,4537,62354,3574,456,5246,3674,6245,2564,2346,4562,3567]\n",
    "arr.sort\n",
    "#10ms"
   ]
  },
  {
   "cell_type": "code",
   "execution_count": 278,
   "metadata": {
    "ExecuteTime": {
     "end_time": "2020-06-18T16:25:52.233365Z",
     "start_time": "2020-06-18T16:25:52.225019Z"
    }
   },
   "outputs": [],
   "source": [
    "import heapq as hpq\n",
    "arr = [12235,23,346,457,456,34,34567,346,45367,4356,45,456,5647,7456,5346,3456,568,87,4567,7456,5246,23546,4657,6785,567,62345,3456,5678,3456,34567,475,43576,24567,4537,62354,3574,456,5246,3674,6245,2564,2346,4562,3567]\n",
    "hpq.heapify(arr)\n",
    "hpq.heapify(arr)\n",
    "for i in range(len(arr)):\n",
    "    hpq.heappop(arr)\n",
    "#8ms"
   ]
  },
  {
   "cell_type": "code",
   "execution_count": 313,
   "metadata": {
    "ExecuteTime": {
     "end_time": "2020-06-18T16:26:10.011288Z",
     "start_time": "2020-06-18T16:26:09.998548Z"
    }
   },
   "outputs": [
    {
     "data": {
      "text/plain": [
       "[23,\n",
       " 34,\n",
       " 45,\n",
       " 87,\n",
       " 346,\n",
       " 346,\n",
       " 456,\n",
       " 456,\n",
       " 456,\n",
       " 457,\n",
       " 475,\n",
       " 567,\n",
       " 568,\n",
       " 2346,\n",
       " 2564,\n",
       " 3456,\n",
       " 3456,\n",
       " 3456,\n",
       " 3567,\n",
       " 3574,\n",
       " 3674,\n",
       " 4356,\n",
       " 4537,\n",
       " 4562,\n",
       " 4567,\n",
       " 4657,\n",
       " 5246,\n",
       " 5246,\n",
       " 5346,\n",
       " 5647,\n",
       " 5678,\n",
       " 6245,\n",
       " 6785,\n",
       " 7456,\n",
       " 7456,\n",
       " 12235,\n",
       " 23546,\n",
       " 24567,\n",
       " 34567,\n",
       " 34567,\n",
       " 43576,\n",
       " 45367,\n",
       " 62345,\n",
       " 62354]"
      ]
     },
     "execution_count": 313,
     "metadata": {},
     "output_type": "execute_result"
    }
   ],
   "source": [
    "def quick_sort(arr):\n",
    "    if len(arr) <= 1:\n",
    "        return arr\n",
    "    pivot = arr[len(arr) // 2]\n",
    "    lesser_arr, equal_arr, greater_arr = [], [], []\n",
    "    for num in arr:\n",
    "        if num < pivot:\n",
    "            lesser_arr.append(num)\n",
    "        elif num > pivot:\n",
    "            greater_arr.append(num)\n",
    "        else:\n",
    "            equal_arr.append(num)\n",
    "    return quick_sort(lesser_arr) + equal_arr + quick_sort(greater_arr)\n",
    "\n",
    "arr = [12235,23,346,457,456,34,34567,346,45367,4356,45,456,5647,7456,5346,3456,568,87,4567,7456,5246,23546,4657,6785,567,62345,3456,5678,3456,34567,475,43576,24567,4537,62354,3574,456,5246,3674,6245,2564,2346,4562,3567]\n",
    "\n",
    "quick_sort(arr)\n",
    "\n",
    "#15ms\n"
   ]
  }
 ],
 "metadata": {
  "kernelspec": {
   "display_name": "Python 3",
   "language": "python",
   "name": "python3"
  },
  "language_info": {
   "codemirror_mode": {
    "name": "ipython",
    "version": 3
   },
   "file_extension": ".py",
   "mimetype": "text/x-python",
   "name": "python",
   "nbconvert_exporter": "python",
   "pygments_lexer": "ipython3",
   "version": "3.6.6"
  },
  "varInspector": {
   "cols": {
    "lenName": 16,
    "lenType": 16,
    "lenVar": 40
   },
   "kernels_config": {
    "python": {
     "delete_cmd_postfix": "",
     "delete_cmd_prefix": "del ",
     "library": "var_list.py",
     "varRefreshCmd": "print(var_dic_list())"
    },
    "r": {
     "delete_cmd_postfix": ") ",
     "delete_cmd_prefix": "rm(",
     "library": "var_list.r",
     "varRefreshCmd": "cat(var_dic_list()) "
    }
   },
   "types_to_exclude": [
    "module",
    "function",
    "builtin_function_or_method",
    "instance",
    "_Feature"
   ],
   "window_display": false
  }
 },
 "nbformat": 4,
 "nbformat_minor": 4
}
