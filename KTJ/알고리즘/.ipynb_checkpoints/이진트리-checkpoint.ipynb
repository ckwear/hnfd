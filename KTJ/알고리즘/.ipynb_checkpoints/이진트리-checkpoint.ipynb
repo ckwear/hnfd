{
 "cells": [
  {
   "cell_type": "code",
   "execution_count": 4,
   "metadata": {},
   "outputs": [
    {
     "name": "stdout",
     "output_type": "stream",
     "text": [
      "21\n",
      "14\n",
      "11\n",
      "18\n",
      "15\n",
      "19\n",
      "28\n",
      "25\n",
      "32\n",
      "30\n"
     ]
    }
   ],
   "source": [
    "class TNode:\n",
    "    def __init__(self, data=None):\n",
    "        self.data = data\n",
    "        self.left = None\n",
    "        self.right = None\n",
    "        self.p = 2\n",
    "    \n",
    "SIZE = 15\n",
    "#전위 순회\n",
    "def preorder(root):\n",
    "    if root != None:\n",
    "        print('%d' % root.data)\n",
    "        preorder(root.left)\n",
    "        preorder(root.right)\n",
    "\n",
    "class Tree:\n",
    "    \n",
    "    def __init__(self, cnt):\n",
    "        self.root = None\n",
    "        self.node_cnt = cnt\n",
    "        \n",
    "    def addNode(self, data):\n",
    "        \n",
    "        prevn = None\n",
    "        if not self.root:\n",
    "            self.root = TNode(data)\n",
    "            self.node_cnt += 1\n",
    "        else:\n",
    "            curn = self.root\n",
    "            while curn:\n",
    "                if data >= curn.data:\n",
    "                    prevn = curn\n",
    "                    prevn.p = 1\n",
    "                    curn = curn.right\n",
    "                else:\n",
    "                    prevn = curn\n",
    "                    curn = curn.left\n",
    "                    prevn.p = 0\n",
    "            if prevn.p == 0:\n",
    "                prevn.left = TNode(data)\n",
    "            else:\n",
    "                prevn.right = TNode(data)\n",
    "        \n",
    "\n",
    "def main():\n",
    "    data = [21, 28, 14, 32, 25, 18, 11, 30, 19, 15]\n",
    "    SIZE= len(data)\n",
    "    tr = Tree(SIZE)\n",
    "    nodes = [tr.addNode(i) for i in data]\n",
    "    preorder(tr.root)\n",
    "\n",
    "def cut():\n",
    "    for i in range(1, SIZE+1):\n",
    "        if i%2 == 0:\n",
    "            nodes[i//2].left = nodes[i] \n",
    "        else:\n",
    "            nodes[i//2].right = nodes[i] \n",
    "    preorder(nodes[1])\n",
    "    \n",
    "if __name__=='__main__':\n",
    "    main()"
   ]
  }
 ],
 "metadata": {
  "kernelspec": {
   "display_name": "Python 3",
   "language": "python",
   "name": "python3"
  },
  "language_info": {
   "codemirror_mode": {
    "name": "ipython",
    "version": 3
   },
   "file_extension": ".py",
   "mimetype": "text/x-python",
   "name": "python",
   "nbconvert_exporter": "python",
   "pygments_lexer": "ipython3",
   "version": "3.6.6"
  }
 },
 "nbformat": 4,
 "nbformat_minor": 4
}
