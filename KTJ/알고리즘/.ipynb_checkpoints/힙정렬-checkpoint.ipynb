{
 "cells": [
  {
   "cell_type": "markdown",
   "metadata": {},
   "source": [
    "# 힙 정렬\n",
    "\n",
    "- [나동빈 힙 정렬]: https://m.blog.naver.com/ndb796/221228342808\n",
    "- [Python 표준 라이브러리]: https://docs.python.org/ko/3/library/heapq.html"
   ]
  },
  {
   "cell_type": "code",
   "execution_count": 12,
   "metadata": {},
   "outputs": [
    {
     "name": "stdout",
     "output_type": "stream",
     "text": [
      "[347, 67, 346, 53, 26, 65, 34, 3, 6, 7, 6, 6, 5, 5, 3, 3, 3, 1, 4, 2, 2, 2, 3, 1]\n"
     ]
    }
   ],
   "source": [
    "l = [3,5,26,3,2,1,5,65,1,2,53,6,347,34,3,67,3,6,4,7,2,3,6,346]\n",
    "\n",
    "def main():\n",
    "    for i in range(1, len(l)):\n",
    "        child = i\n",
    "        while True:\n",
    "            root = (child-1)//2\n",
    "            #print('%d %d' % (root, child))\n",
    "            if l[root] < l[child]:\n",
    "                tmp = l[root]\n",
    "                l[root] = l[child]\n",
    "                l[child] = tmp\n",
    "            child = root\n",
    "            if child == 0:\n",
    "                break\n",
    "    i = len(l)-1\n",
    "    print(l)\n",
    "def cut():\n",
    "    while i >= 0:\n",
    "        tmp = l[0]\n",
    "        l[0] = l[i]\n",
    "        l[i] = tmp\n",
    "        root = 0\n",
    "        c = 1\n",
    "        while True:\n",
    "            c = 2*root + 1\n",
    "            if l[c] < l[c+1] and c < i -1:\n",
    "                c += 1\n",
    "            if l[root] < l[c] and c < i:\n",
    "                tmp = l[root]\n",
    "                l[root] = l[c]\n",
    "                l[c] =  tmp\n",
    "            root = c\n",
    "            if c >= i:\n",
    "                break\n",
    "        i -= 1\n",
    "    \n",
    "if __name__=='__main__':\n",
    "    main()"
   ]
  },
  {
   "cell_type": "markdown",
   "metadata": {},
   "source": [
    "```python\n",
    "import heapq```\n",
    "\n",
    "```pyhton\n",
    "heap = []\n",
    "heapq.heappush(heap, 4)\n",
    "heapq.heappush(heap, 1)\n",
    "heapq.heappush(heap, 5)\n",
    "heapq.heappush(heap, 6)\n",
    "heapq.heappush(heap, 3)\n",
    "print(head)```\n",
    "- 리스트에 값을 추가 할 때마다 힙 구조 유지\n",
    "\n",
    "```phython\n",
    "heap = [6,3,7,7,2,4,78,3,2,34,6,1]\n",
    "heapq.heapify(heap)```\n",
    "\n",
    "- heap리스트를 힙 구조로 변환\n",
    "\n",
    "\n",
    " 기본적으로 힙을 만들었다고 해서 정렬이 되는 것은 아니다.\n",
    "힙에 root가 최소, 최대 값을 갖는다 heap[0] = min(heap) or max(heap)\n",
    "\n",
    "```python\n",
    "nums = [4, 1, 7, 3, 8, 5]\n",
    "heap = []\n",
    "\n",
    "for num in nums:\n",
    "    heapq.heappush(heap, num)  # (우선 순위, 값)\n",
    "\n",
    "\n",
    "print(heap)\n",
    "while heap:\n",
    "    print(heapq.heappop(heap))  # index 1```\n",
    "    \n",
    "- heapq.heappop(heap)은 heap 구조에서 root 노드 부터 꺼낸다\n",
    "- 노드를 꺼내면서 힙 구조 유지\n"
   ]
  },
  {
   "cell_type": "markdown",
   "metadata": {},
   "source": [
    "# 오름 차순 힙 정렬"
   ]
  },
  {
   "cell_type": "code",
   "execution_count": 6,
   "metadata": {},
   "outputs": [
    {
     "name": "stdout",
     "output_type": "stream",
     "text": [
      "[1, 3, 5, 4, 8, 7]\n",
      "1\n",
      "[3, 4, 5, 7, 8]\n",
      "3\n",
      "[4, 7, 5, 8]\n",
      "4\n",
      "[5, 7, 8]\n",
      "5\n",
      "[7, 8]\n",
      "7\n",
      "[8]\n",
      "8\n",
      "[]\n"
     ]
    }
   ],
   "source": [
    "import heapq\n",
    "\n",
    "nums = [4, 1, 7, 3, 8, 5]\n",
    "heap = []\n",
    "\n",
    "for num in nums:\n",
    "    heapq.heappush(heap, num)  # (우선 순위, 값)\n",
    "    \n",
    "\n",
    "\n",
    "print(heap)\n",
    "while heap:\n",
    "    print(heapq.heappop(heap))  # index 1\n",
    "    print(heap)"
   ]
  },
  {
   "cell_type": "markdown",
   "metadata": {},
   "source": [
    "내림 차순 힙 정렬"
   ]
  },
  {
   "cell_type": "code",
   "execution_count": 7,
   "metadata": {},
   "outputs": [
    {
     "name": "stdout",
     "output_type": "stream",
     "text": [
      "[(-8, 8), (-7, 7), (-5, 5), (-1, 1), (-3, 3), (-4, 4)]\n",
      "(-8, 8)\n",
      "[(-7, 7), (-4, 4), (-5, 5), (-1, 1), (-3, 3)]\n",
      "(-7, 7)\n",
      "[(-5, 5), (-4, 4), (-3, 3), (-1, 1)]\n",
      "(-5, 5)\n",
      "[(-4, 4), (-1, 1), (-3, 3)]\n",
      "(-4, 4)\n",
      "[(-3, 3), (-1, 1)]\n",
      "(-3, 3)\n",
      "[(-1, 1)]\n",
      "(-1, 1)\n",
      "[]\n"
     ]
    }
   ],
   "source": [
    "import heapq\n",
    "\n",
    "nums = [4, 1, 7, 3, 8, 5]\n",
    "heap = []\n",
    "\n",
    "for num in nums:\n",
    "    heapq.heappush(heap, (-num, num))  # (우선 순위, 값)\n",
    "    \n",
    "\n",
    "\n",
    "print(heap)\n",
    "while heap:\n",
    "    print(heapq.heappop(heap))  # index 1\n",
    "    print(heap)"
   ]
  },
  {
   "cell_type": "code",
   "execution_count": 8,
   "metadata": {},
   "outputs": [
    {
     "name": "stdout",
     "output_type": "stream",
     "text": [
      "(-4, 1)\n"
     ]
    }
   ],
   "source": [
    "a = (-4, 1)\n",
    "print(a)"
   ]
  }
 ],
 "metadata": {
  "kernelspec": {
   "display_name": "Python 3",
   "language": "python",
   "name": "python3"
  },
  "language_info": {
   "codemirror_mode": {
    "name": "ipython",
    "version": 3
   },
   "file_extension": ".py",
   "mimetype": "text/x-python",
   "name": "python",
   "nbconvert_exporter": "python",
   "pygments_lexer": "ipython3",
   "version": "3.6.6"
  }
 },
 "nbformat": 4,
 "nbformat_minor": 4
}
