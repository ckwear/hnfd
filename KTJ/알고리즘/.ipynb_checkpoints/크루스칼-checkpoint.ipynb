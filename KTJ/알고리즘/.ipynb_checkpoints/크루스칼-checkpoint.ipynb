{
 "cells": [
  {
   "cell_type": "code",
   "execution_count": 142,
   "metadata": {},
   "outputs": [
    {
     "name": "stdout",
     "output_type": "stream",
     "text": [
      "206\n",
      "[0, 0, 0, 0, 0, 2, 0, 7]\n"
     ]
    }
   ],
   "source": [
    "class Edge(object):\n",
    "    def __init__(self, frm, to, weight):\n",
    "        self.node = [frm, to]\n",
    "        self.weight = weight\n",
    "        self.next = None\n",
    "\n",
    "def getParent(arr, idx):\n",
    "    if arr[idx] == idx: \n",
    "        return idx\n",
    "    else:\n",
    "        k = arr[idx]\n",
    "        arr[idx] = getParent(arr, k)\n",
    "        return arr[idx]\n",
    "def unionParent(parent, a, b):\n",
    "    a = getParent(parent, a)\n",
    "    b = getParent(parent, b)\n",
    "    if a < b:\n",
    "        parent[b] = a\n",
    "    else:\n",
    "        parent[a] = b\n",
    "        \n",
    "def findParent(parent, a, b):\n",
    "    a = getParent(parent, a)\n",
    "    b = getParent(parent, b)\n",
    "    if a == b: return 1\n",
    "    else: return 0\n",
    "\n",
    "class Graph():\n",
    "    def __init__(self, SIZE):\n",
    "        self.SIZE = SIZE\n",
    "        self.gp = [[0 for i in range(SIZE)] for j in range(SIZE)]\n",
    "        self.dic = {}\n",
    "        self.edge_cnt = 0\n",
    "        \n",
    "    def addEdge(self, frm, to, weight):\n",
    "        self.gp[frm][to] = weight\n",
    "        self.gp[to][frm] = weight\n",
    "        self.dic[weight] = [frm, to]\n",
    "\n",
    "    def getDicKeys(self):\n",
    "        return self.dic.keys()\n",
    "    def printGraph(self):\n",
    "\n",
    "        for i in range(self.SIZE):\n",
    "            for j in range(self.SIZE):\n",
    "                print(\"%d \" % self.gp[i][j], end=\"\")\n",
    "            print()\n",
    "            \n",
    "    def getDic(self):\n",
    "        return self.dic\n",
    "    def printEdge(self):\n",
    "        curn = self.head\n",
    "        \n",
    "        while curn.next:\n",
    "            print(curn.weight)\n",
    "            curn = curn.next\n",
    "        \n",
    "def main():\n",
    "    gp = Graph(8)\n",
    "\n",
    "    gp.addEdge(1, 7, 12)\n",
    "    gp.addEdge(1,4,28)\n",
    "    gp.addEdge(1,2,67)\n",
    "    gp.addEdge(1,5,17)\n",
    "    gp.addEdge(2,4,24)\n",
    "    gp.addEdge(2,5,62)\n",
    "    gp.addEdge(3,6,37)\n",
    "    gp.addEdge(4,7,13)\n",
    "    gp.addEdge(5,6,45)\n",
    "    gp.addEdge(5,7,73)\n",
    "    parent = [i for i in range(8)]\n",
    "    dic = gp.getDic()\n",
    "    l = [i for i in dic.keys()]\n",
    "    sum = 0\n",
    "    for a in l:\n",
    "        if not findParent(parent, dic[a][0]-1, dic[a][1]-1):\n",
    "            sum += a\n",
    "            unionParent(parent, dic[a][0]-1, dic[a][1]-1)\n",
    "    #    print(i)\n",
    "    \n",
    "    print(sum)\n",
    "    #for i in range(8):\n",
    "        #if not findParent(parent, )\n",
    "    \n",
    "    print(parent)\n",
    "if __name__ =='__main__':\n",
    "    main()"
   ]
  },
  {
   "cell_type": "markdown",
   "metadata": {},
   "source": [
    "1|2|3|4|5|6|7|8\n",
    "--|::|::|::|::|::|::|::\n",
    "1|2|3|4|5|6|7|8\n",
    "\n",
    "1|2|3|4|5|6|7|8\n",
    "--|::|::|::|::|::|::|::\n",
    "1|2|3|4|5|6|1|8"
   ]
  },
  {
   "cell_type": "code",
   "execution_count": 109,
   "metadata": {},
   "outputs": [
    {
     "name": "stdout",
     "output_type": "stream",
     "text": [
      "dict_keys([3, 5, 6])\n"
     ]
    }
   ],
   "source": [
    "dic = {3: 1, 5: 5, 6: 2}\n",
    "print(dic.keys())"
   ]
  },
  {
   "cell_type": "code",
   "execution_count": null,
   "metadata": {},
   "outputs": [],
   "source": [
    "def aqwe(arr, idx):\n",
    "    if arr[idx] == idx: \n",
    "        return idx\n",
    "    else:\n",
    "        k = arr[idx]\n",
    "        arr[idx] = aqwe(arr, k)\n",
    "        return arr[idx]\n",
    "    \n",
    "\n",
    "l = [0,8,7,1,9,2,6,4,0,5]\n",
    "\n",
    "print(aqwe(l, 3))"
   ]
  },
  {
   "cell_type": "code",
   "execution_count": null,
   "metadata": {},
   "outputs": [],
   "source": []
  },
  {
   "cell_type": "code",
   "execution_count": null,
   "metadata": {},
   "outputs": [],
   "source": []
  },
  {
   "cell_type": "code",
   "execution_count": null,
   "metadata": {},
   "outputs": [],
   "source": []
  },
  {
   "cell_type": "code",
   "execution_count": null,
   "metadata": {},
   "outputs": [],
   "source": []
  },
  {
   "cell_type": "code",
   "execution_count": null,
   "metadata": {},
   "outputs": [],
   "source": []
  },
  {
   "cell_type": "code",
   "execution_count": null,
   "metadata": {},
   "outputs": [],
   "source": []
  },
  {
   "cell_type": "code",
   "execution_count": null,
   "metadata": {},
   "outputs": [],
   "source": []
  }
 ],
 "metadata": {
  "kernelspec": {
   "display_name": "Python 3",
   "language": "python",
   "name": "python3"
  },
  "language_info": {
   "codemirror_mode": {
    "name": "ipython",
    "version": 3
   },
   "file_extension": ".py",
   "mimetype": "text/x-python",
   "name": "python",
   "nbconvert_exporter": "python",
   "pygments_lexer": "ipython3",
   "version": "3.6.6"
  }
 },
 "nbformat": 4,
 "nbformat_minor": 4
}
