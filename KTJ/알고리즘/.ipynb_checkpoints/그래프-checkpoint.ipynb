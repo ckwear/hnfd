{
 "cells": [
  {
   "cell_type": "code",
   "execution_count": 76,
   "metadata": {},
   "outputs": [
    {
     "name": "stdout",
     "output_type": "stream",
     "text": [
      "[1, 3, 7, 6, 2, 5, 4]\n"
     ]
    }
   ],
   "source": [
    "import queue\n",
    "gp_size = 8\n",
    "gp = [[] for i in range(gp_size)]\n",
    "pVisited = [0 for i in range(gp_size)]\n",
    "rst = []\n",
    "\n",
    "def BFS(st_vt):\n",
    "    del rst[:]\n",
    "    q = []\n",
    "    q.append(st_vt)\n",
    "    pVisited = [0 for i in range(gp_size)]\n",
    "    pVisited[st_vt] = 1\n",
    "    while len(q):\n",
    "        #print(q)\n",
    "        tmp = q.pop(0)\n",
    "        #pVisited[tmp] = 1\n",
    "        rst.append(tmp)\n",
    "        #print(gp[tmp])\n",
    "        for i in gp[tmp]:\n",
    "            if not pVisited[i]:\n",
    "                q.append(i)\n",
    "                pVisited[i] = 1\n",
    "        \n",
    "def DFS(st_vt):\n",
    "    del rst[:]\n",
    "    st = []\n",
    "    st.append(st_vt)\n",
    "    pVisited = [0 for i in range(gp_size)]\n",
    "    pVisited[st_vt] = 1\n",
    "    while len(st):\n",
    "        tmp = st.pop()\n",
    "        rst.append(tmp)\n",
    "        for vertex in gp[tmp]:\n",
    "            if not pVisited[vertex]:\n",
    "                st.append(vertex)\n",
    "                pVisited[vertex] = 1\n",
    "                \n",
    "        \n",
    "    \n",
    "        \n",
    "    \n",
    "def main():\n",
    "    gp[1].append(2)\n",
    "    gp[2].append(1)\n",
    "    \n",
    "    gp[1].append(3)\n",
    "    gp[3].append(1)\n",
    "    \n",
    "    gp[2].append(3)\n",
    "    gp[3].append(2)\n",
    "    \n",
    "    gp[2].append(4)\n",
    "    gp[4].append(2)\n",
    "\n",
    "    gp[2].append(5)\n",
    "    gp[5].append(2)\n",
    "    \n",
    "    gp[3].append(6)\n",
    "    gp[6].append(3)\n",
    "    \n",
    "    gp[3].append(7)\n",
    "    gp[7].append(3)\n",
    "    \n",
    "    gp[4].append(5)\n",
    "    gp[5].append(4)\n",
    "    \n",
    "    gp[6].append(7)\n",
    "    gp[7].append(6)\n",
    "    \n",
    "    DFS(1)\n",
    "    print(rst)\n",
    "    \n",
    "if __name__ == '__main__':\n",
    "    main()"
   ]
  },
  {
   "cell_type": "code",
   "execution_count": 73,
   "metadata": {},
   "outputs": [
    {
     "data": {
      "text/plain": [
       "[2, 5, 23, 5, 2, 6]"
      ]
     },
     "execution_count": 73,
     "metadata": {},
     "output_type": "execute_result"
    }
   ],
   "source": [
    "z = [2,5,23,5,2,6,3]\n",
    "z.pop()\n",
    "z"
   ]
  }
 ],
 "metadata": {
  "kernelspec": {
   "display_name": "Python 3",
   "language": "python",
   "name": "python3"
  },
  "language_info": {
   "codemirror_mode": {
    "name": "ipython",
    "version": 3
   },
   "file_extension": ".py",
   "mimetype": "text/x-python",
   "name": "python",
   "nbconvert_exporter": "python",
   "pygments_lexer": "ipython3",
   "version": "3.6.6"
  }
 },
 "nbformat": 4,
 "nbformat_minor": 4
}
