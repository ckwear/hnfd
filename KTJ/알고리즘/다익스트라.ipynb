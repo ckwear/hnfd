{
 "cells": [
  {
   "cell_type": "code",
   "execution_count": 58,
   "metadata": {},
   "outputs": [],
   "source": [
    "import math\n",
    "\n",
    "\n",
    "class Grapha:\n",
    "    def __init__(self, tp, size):\n",
    "        self.tp = 1\n",
    "        self.size = size\n",
    "        self.cnt = 0\n",
    "        self.tb = [[0 for i in range(size)] for i in range(size)]\n",
    "        self.maps = [[0 for i in range(size)] for i in range(size)]\n",
    "        self.dic = {}\n",
    "        self.visited = [0 for i in range(size)]\n",
    "        \n",
    "    def addEdge(self, frm, to, weit):\n",
    "        self.maps[frm][to] = weit\n",
    "        if self.tp == 1:\n",
    "            self.maps[to][frm] = weit\n",
    "        \n",
    "        self.dic[weit] = [frm, to]\n",
    "        \n",
    "    def dijkstra(self, st_pt, end_pt):\n",
    "        self.visited[st_pt] = 1\n",
    "        curn = st_pt\n",
    "        #min = math.inf\n",
    "        sum = 0\n",
    "        while self.count(1) != self.size:\n",
    "            mi = min(self.tb[curn])\n",
    "            indx = self.tb[curn].index(mi)\n",
    "            sum += mi\n",
    "            if sum < \n",
    "            self.visited[indx] = 1\n",
    "            curn = indx\n",
    "\n",
    "    def makeCyc(self):\n",
    "        for i in range(self.size):\n",
    "            for j in range(self.size):\n",
    "                if self.maps[i][j] == 0:\n",
    "                    self.tb[i][j] =  math.inf\n",
    "                else:\n",
    "                    self.tb[i][j] = self.maps[i][j]\n",
    "        \n",
    "    \n",
    "def main():    \n",
    "    gp = Grapha(1, 10)\n",
    "    gp.addEdge(1, 2, 2)\n",
    "    gp.addEdge(1, 3, 5)\n",
    "    gp.addEdge(1, 4, 1)\n",
    "    gp.addEdge(2, 4, 2)\n",
    "    gp.addEdge(2, 3, 3)\n",
    "    gp.addEdge(5, 3, 1)\n",
    "    gp.addEdge(4, 3, 3)\n",
    "    gp.addEdge(5, 4, 1)\n",
    "    gp.addEdge(6, 5, 2)\n",
    "    gp.addEdge(6, 3, 5)\n",
    "    gp.makeCyc()\n",
    "    #print(gp.dic[1, 10])\n",
    "    #\n",
    "if __name__=='__main__':\n",
    "    main()"
   ]
  },
  {
   "cell_type": "markdown",
   "metadata": {},
   "source": [
    "1. 목적지와 연결되있는 노드를 찾는다.\n",
    "    2. sum에 목적지와 연결된 weight더한다.\n",
    "    1. 더한 값과 기존 출발지와 목적지 weight와 비교한다.\n",
    "    2. 작은 값을 테이블에 갱신한다.\n",
    "4. 최소 값을 찾는다.\n",
    "3. "
   ]
  },
  {
   "cell_type": "code",
   "execution_count": 8,
   "metadata": {},
   "outputs": [
    {
     "data": {
      "text/plain": [
       "[1, 5, 2, 10, 7, 4, 3]"
      ]
     },
     "execution_count": 8,
     "metadata": {},
     "output_type": "execute_result"
    }
   ],
   "source": [
    "import heapq\n",
    "\n",
    "heap = []\n",
    "heapq.heappush(heap, 5)\n",
    "heapq.heappush(heap, 1)\n",
    "heapq.heappush(heap, 4)\n",
    "heapq.heappush(heap, 10)\n",
    "heapq.heappush(heap, 7)\n",
    "heapq.heappush(heap, 3)\n",
    "heapq.heappush(heap, 2)\n",
    "heapq.heapify(heap)\n",
    "heap"
   ]
  },
  {
   "cell_type": "code",
   "execution_count": null,
   "metadata": {},
   "outputs": [],
   "source": []
  },
  {
   "cell_type": "code",
   "execution_count": null,
   "metadata": {},
   "outputs": [],
   "source": []
  },
  {
   "cell_type": "code",
   "execution_count": null,
   "metadata": {},
   "outputs": [],
   "source": []
  },
  {
   "cell_type": "code",
   "execution_count": null,
   "metadata": {},
   "outputs": [],
   "source": []
  },
  {
   "cell_type": "code",
   "execution_count": null,
   "metadata": {},
   "outputs": [],
   "source": []
  },
  {
   "cell_type": "code",
   "execution_count": null,
   "metadata": {},
   "outputs": [],
   "source": []
  }
 ],
 "metadata": {
  "kernelspec": {
   "display_name": "Python 3",
   "language": "python",
   "name": "python3"
  },
  "language_info": {
   "codemirror_mode": {
    "name": "ipython",
    "version": 3
   },
   "file_extension": ".py",
   "mimetype": "text/x-python",
   "name": "python",
   "nbconvert_exporter": "python",
   "pygments_lexer": "ipython3",
   "version": "3.6.6"
  }
 },
 "nbformat": 4,
 "nbformat_minor": 4
}
