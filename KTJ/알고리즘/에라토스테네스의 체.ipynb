{
 "cells": [
  {
   "cell_type": "markdown",
   "metadata": {},
   "source": [
    "# 하나의 숫자가 소수인자 판별할 때\n",
    "\n",
    "```python\n",
    "def isPrimeNumber(x):\n",
    "    for i in range(2, x):\n",
    "        if x%i == 0:return False\n",
    "    return True\n",
    "\n",
    "isPrimeNumber(97)```\n",
    "\n",
    "- 2부터 x전까지 하나씩 나눈다\n",
    "- 나머지가 0이면 True를 리턴한다\n",
    "\n",
    "```python\n",
    "def isPrimeNumber(x):\n",
    "    q = int(x**1/2)\n",
    "    for i in range(2, q):\n",
    "        if x%i == 0: return False\n",
    "    return True\n",
    "\n",
    "isPrimeNumber(97)```\n",
    "\n",
    "# 여러개의 숫자를 판별할 때\n",
    "```python\n",
    "def thereIsPrimeNumber(x):\n",
    "    l = [1 for i in range(1, x+1)]\n",
    "    n = int(x**0.5)\n",
    "    for i in range(2, n):\n",
    "        l[i-1::i] = [0]*(x//i)\n",
    "    return l\n",
    "print(thereIsPrimeNumber(100))```"
   ]
  },
  {
   "cell_type": "code",
   "execution_count": 6,
   "metadata": {},
   "outputs": [
    {
     "data": {
      "text/plain": [
       "True"
      ]
     },
     "execution_count": 6,
     "metadata": {},
     "output_type": "execute_result"
    }
   ],
   "source": [
    "def isPrimeNumber(x):\n",
    "    q = int(x**.5)\n",
    "    for i in range(2, q):\n",
    "        if x%i == 0: return False\n",
    "    return True\n",
    "\n",
    "isPrimeNumber(97)"
   ]
  },
  {
   "cell_type": "code",
   "execution_count": 64,
   "metadata": {},
   "outputs": [
    {
     "name": "stdout",
     "output_type": "stream",
     "text": [
      "[1, None, None, None, None, None, None, None, None, None, None, None, None, None, None, None, None, None, None, None, None, None, None, None, None, None, None, None, None, None, None, None, None, None, None, None, None, None, None, None, None, None, None, None, None, None, None, None, None, None, None]\n"
     ]
    }
   ],
   "source": [
    "def thereIsPrimeNumber(x):\n",
    "    s = set()\n",
    "    l = [i for i in range(1, x+1)]\n",
    "    n = int(x**0.5)\n",
    "    for i in range(2, n):\n",
    "        l[i-1::i] = [0]*(x//i)\n",
    "    l = [i if i!=0 else l.remove(i) for i in l]\n",
    "    \n",
    "    return l\n",
    "print(thereIsPrimeNumber(100))"
   ]
  },
  {
   "cell_type": "code",
   "execution_count": 43,
   "metadata": {},
   "outputs": [
    {
     "data": {
      "text/plain": [
       "[1,\n",
       " 2,\n",
       " 0,\n",
       " 4,\n",
       " 5,\n",
       " 0,\n",
       " 7,\n",
       " 8,\n",
       " 0,\n",
       " 10,\n",
       " 11,\n",
       " 0,\n",
       " 13,\n",
       " 14,\n",
       " 0,\n",
       " 16,\n",
       " 17,\n",
       " 0,\n",
       " 19,\n",
       " 20,\n",
       " 0,\n",
       " 22,\n",
       " 23,\n",
       " 0,\n",
       " 25,\n",
       " 26,\n",
       " 0,\n",
       " 28,\n",
       " 29,\n",
       " 0,\n",
       " 31,\n",
       " 32,\n",
       " 0,\n",
       " 34,\n",
       " 35,\n",
       " 0,\n",
       " 37,\n",
       " 38,\n",
       " 0,\n",
       " 40,\n",
       " 41,\n",
       " 0,\n",
       " 43,\n",
       " 44,\n",
       " 0,\n",
       " 46,\n",
       " 47,\n",
       " 0,\n",
       " 49,\n",
       " 50,\n",
       " 0,\n",
       " 52,\n",
       " 53,\n",
       " 0,\n",
       " 55,\n",
       " 56,\n",
       " 0,\n",
       " 58,\n",
       " 59,\n",
       " 0,\n",
       " 61,\n",
       " 62,\n",
       " 0,\n",
       " 64,\n",
       " 65,\n",
       " 0,\n",
       " 67,\n",
       " 68,\n",
       " 0,\n",
       " 70,\n",
       " 71,\n",
       " 0,\n",
       " 73,\n",
       " 74,\n",
       " 0,\n",
       " 76,\n",
       " 77,\n",
       " 0,\n",
       " 79,\n",
       " 80,\n",
       " 0,\n",
       " 82,\n",
       " 83,\n",
       " 0,\n",
       " 85,\n",
       " 86,\n",
       " 0,\n",
       " 88,\n",
       " 89,\n",
       " 0,\n",
       " 91,\n",
       " 92,\n",
       " 0,\n",
       " 94,\n",
       " 95,\n",
       " 0,\n",
       " 97,\n",
       " 98,\n",
       " 0,\n",
       " 100]"
      ]
     },
     "execution_count": 43,
     "metadata": {},
     "output_type": "execute_result"
    }
   ],
   "source": [
    "l = list(range(1, 101))\n",
    "#l[1::2] = [0]*50\n",
    "l[2::3] = [0]*(100//3)\n",
    "l"
   ]
  }
 ],
 "metadata": {
  "kernelspec": {
   "display_name": "Python 3",
   "language": "python",
   "name": "python3"
  },
  "language_info": {
   "codemirror_mode": {
    "name": "ipython",
    "version": 3
   },
   "file_extension": ".py",
   "mimetype": "text/x-python",
   "name": "python",
   "nbconvert_exporter": "python",
   "pygments_lexer": "ipython3",
   "version": "3.6.6"
  }
 },
 "nbformat": 4,
 "nbformat_minor": 4
}
