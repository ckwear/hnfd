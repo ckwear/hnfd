{
 "cells": [
  {
   "cell_type": "code",
   "execution_count": 4,
   "metadata": {
    "ExecuteTime": {
     "end_time": "2020-07-24T03:41:22.886942Z",
     "start_time": "2020-07-24T03:41:22.880625Z"
    }
   },
   "outputs": [
    {
     "name": "stdout",
     "output_type": "stream",
     "text": [
      "과일 는 비쌉입니다.\n",
      "Test1:   123, price:        122141241.12\n"
     ]
    }
   ],
   "source": [
    "\n",
    "\n",
    "print(\"{0} 는 {1}입니다.\".format('과일', '비쌉'))\n",
    "\n",
    "print(\"Test1: {0:5d}, price: {1:19.2f}\".format(123,122141241.124124124))"
   ]
  },
  {
   "cell_type": "code",
   "execution_count": null,
   "metadata": {},
   "outputs": [],
   "source": [
    "score = input('점수를 입력하세요 : ')\n",
    "rank = ''\n",
    "if 80 < score <= 100:\n",
    "    rank = 'A학점'\n",
    "elif 60 < score <= 80:\n",
    "    rank = 'B학점'\n",
    "elif 40 < score <= 60:\n",
    "    rank = 'C학점'\n",
    "elif 20 < score <= 40:\n",
    "    rank = 'D학점'\n",
    "else:\n",
    "    rank = 'A학점'\n",
    "    \n",
    "\n",
    "    "
   ]
  },
  {
   "cell_type": "code",
   "execution_count": 14,
   "metadata": {
    "ExecuteTime": {
     "end_time": "2020-07-24T07:57:03.537033Z",
     "start_time": "2020-07-24T07:57:03.532989Z"
    }
   },
   "outputs": [
    {
     "name": "stdout",
     "output_type": "stream",
     "text": [
      "['study', 'python', 'anaconda']\n",
      "['nice', 'hmmm', 'hmmm', 'hmmm']\n"
     ]
    }
   ],
   "source": [
    "q4= ['nice', 'study', 'python', 'anaconda']\n",
    "\n",
    "print([strr for strr in q4 if len(strr) >= 5])\n",
    "print(['hmmm' if len(strr) >= 5 else strr for strr in q4])"
   ]
  }
 ],
 "metadata": {
  "kernelspec": {
   "display_name": "Python 3",
   "language": "python",
   "name": "python3"
  },
  "language_info": {
   "codemirror_mode": {
    "name": "ipython",
    "version": 3
   },
   "file_extension": ".py",
   "mimetype": "text/x-python",
   "name": "python",
   "nbconvert_exporter": "python",
   "pygments_lexer": "ipython3",
   "version": "3.6.6"
  },
  "varInspector": {
   "cols": {
    "lenName": "1001000000",
    "lenType": "10000000",
    "lenVar": "1000000000"
   },
   "kernels_config": {
    "python": {
     "delete_cmd_postfix": "",
     "delete_cmd_prefix": "del ",
     "library": "var_list.py",
     "varRefreshCmd": "print(var_dic_list())"
    },
    "r": {
     "delete_cmd_postfix": ") ",
     "delete_cmd_prefix": "rm(",
     "library": "var_list.r",
     "varRefreshCmd": "cat(var_dic_list()) "
    }
   },
   "types_to_exclude": [
    "module",
    "function",
    "builtin_function_or_method",
    "instance",
    "_Feature"
   ],
   "window_display": true
  }
 },
 "nbformat": 4,
 "nbformat_minor": 4
}
