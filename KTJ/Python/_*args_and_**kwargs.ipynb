{
 "cells": [
  {
   "cell_type": "code",
   "execution_count": 1,
   "metadata": {
    "ExecuteTime": {
     "end_time": "2020-07-24T08:26:57.198473Z",
     "start_time": "2020-07-24T08:26:57.193734Z"
    }
   },
   "outputs": [
    {
     "name": "stdout",
     "output_type": "stream",
     "text": [
      "0 wefi\n",
      "1 wjeifoefj\n",
      "2 jwiefojwefio\n"
     ]
    }
   ],
   "source": [
    "def args_func(*args):\n",
    "    for i,v in enumerate(args):\n",
    "        print(i, v)\n",
    "\n",
    "args_func('wefi','wjeifoefj','jwiefojwefio')"
   ]
  },
  {
   "cell_type": "code",
   "execution_count": 3,
   "metadata": {
    "ExecuteTime": {
     "end_time": "2020-07-24T08:29:03.946633Z",
     "start_time": "2020-07-24T08:29:03.942238Z"
    }
   },
   "outputs": [
    {
     "name": "stdout",
     "output_type": "stream",
     "text": [
      "10 10 ('apple', 'grape', 'pine') {'exp': 33, 'exp1': 34, 'exp2': 44}\n"
     ]
    }
   ],
   "source": [
    "def example(arg_1, arg_2, *args, **kwargs):\n",
    "    print(arg_1, arg_2, args, kwargs)\n",
    "\n",
    "example(10, 10, 'apple', 'grape', 'pine', exp=33, exp1=34, exp2=44)"
   ]
  }
 ],
 "metadata": {
  "kernelspec": {
   "display_name": "Python 3",
   "language": "python",
   "name": "python3"
  },
  "language_info": {
   "codemirror_mode": {
    "name": "ipython",
    "version": 3
   },
   "file_extension": ".py",
   "mimetype": "text/x-python",
   "name": "python",
   "nbconvert_exporter": "python",
   "pygments_lexer": "ipython3",
   "version": "3.6.6"
  },
  "varInspector": {
   "cols": {
    "lenName": "1001000000",
    "lenType": "10000000",
    "lenVar": "1000000000"
   },
   "kernels_config": {
    "python": {
     "delete_cmd_postfix": "",
     "delete_cmd_prefix": "del ",
     "library": "var_list.py",
     "varRefreshCmd": "print(var_dic_list())"
    },
    "r": {
     "delete_cmd_postfix": ") ",
     "delete_cmd_prefix": "rm(",
     "library": "var_list.r",
     "varRefreshCmd": "cat(var_dic_list()) "
    }
   },
   "types_to_exclude": [
    "module",
    "function",
    "builtin_function_or_method",
    "instance",
    "_Feature"
   ],
   "window_display": true
  }
 },
 "nbformat": 4,
 "nbformat_minor": 4
}
