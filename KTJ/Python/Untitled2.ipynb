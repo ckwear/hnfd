{
 "cells": [
  {
   "cell_type": "code",
   "execution_count": 1,
   "metadata": {
    "ExecuteTime": {
     "end_time": "2020-07-27T01:12:05.670052Z",
     "start_time": "2020-07-27T01:12:05.664470Z"
    }
   },
   "outputs": [
    {
     "name": "stdout",
     "output_type": "stream",
     "text": [
      "3\n"
     ]
    }
   ],
   "source": [
    "my_func = lambda x, y: x + y\n",
    "\n",
    "print(my_func(1,2))"
   ]
  },
  {
   "cell_type": "code",
   "execution_count": 10,
   "metadata": {
    "ExecuteTime": {
     "end_time": "2020-07-27T01:40:49.298225Z",
     "start_time": "2020-07-27T01:40:48.024702Z"
    }
   },
   "outputs": [
    {
     "name": "stdout",
     "output_type": "stream",
     "text": [
      "1 2\n"
     ]
    },
    {
     "data": {
      "text/plain": [
       "3"
      ]
     },
     "execution_count": 10,
     "metadata": {},
     "output_type": "execute_result"
    }
   ],
   "source": [
    "sum(list(map(int, input().split())))"
   ]
  },
  {
   "cell_type": "code",
   "execution_count": 26,
   "metadata": {
    "ExecuteTime": {
     "end_time": "2020-07-27T01:46:02.464737Z",
     "start_time": "2020-07-27T01:46:01.587370Z"
    }
   },
   "outputs": [
    {
     "name": "stdout",
     "output_type": "stream",
     "text": [
      "5\n",
      "5\n",
      "1\n",
      "소수\n"
     ]
    }
   ],
   "source": [
    "a= list(map(int, input().split()))\n",
    "cnt = 0\n",
    "print(a[0])\n",
    "for i in range(1, a[0]):\n",
    "    if (a[0] % i) == 0:\n",
    "        cnt += 1\n",
    "if cnt ==1:\n",
    "    print('소수')"
   ]
  },
  {
   "cell_type": "code",
   "execution_count": 32,
   "metadata": {
    "ExecuteTime": {
     "end_time": "2020-07-27T01:52:47.628628Z",
     "start_time": "2020-07-27T01:52:45.453723Z"
    }
   },
   "outputs": [
    {
     "name": "stdout",
     "output_type": "stream",
     "text": [
      "1 2 31 31 \n",
      "16.25\n"
     ]
    }
   ],
   "source": [
    "a = list(map(int, input().split()))\n",
    "print(sum(a)/len(a))\n"
   ]
  },
  {
   "cell_type": "code",
   "execution_count": 30,
   "metadata": {
    "ExecuteTime": {
     "end_time": "2020-07-27T01:48:19.227538Z",
     "start_time": "2020-07-27T01:48:18.291983Z"
    }
   },
   "outputs": [
    {
     "name": "stdout",
     "output_type": "stream",
     "text": [
      "100\n",
      "2는 소수\n",
      "3는 소수\n",
      "5는 소수\n",
      "7는 소수\n",
      "11는 소수\n",
      "13는 소수\n",
      "17는 소수\n",
      "19는 소수\n",
      "23는 소수\n",
      "29는 소수\n",
      "31는 소수\n",
      "37는 소수\n",
      "41는 소수\n",
      "43는 소수\n",
      "47는 소수\n",
      "53는 소수\n",
      "59는 소수\n",
      "61는 소수\n",
      "67는 소수\n",
      "71는 소수\n",
      "73는 소수\n",
      "79는 소수\n",
      "83는 소수\n",
      "89는 소수\n",
      "97는 소수\n"
     ]
    }
   ],
   "source": [
    "a = int(input())\n",
    "for i in range(1, a):\n",
    "    cnt = 0\n",
    "    for j in range(1, i):\n",
    "        if i%j == 0:\n",
    "            cnt += 1\n",
    "    if cnt == 1:\n",
    "        print('%d는 소수' % i)"
   ]
  }
 ],
 "metadata": {
  "kernelspec": {
   "display_name": "Python 3",
   "language": "python",
   "name": "python3"
  },
  "language_info": {
   "codemirror_mode": {
    "name": "ipython",
    "version": 3
   },
   "file_extension": ".py",
   "mimetype": "text/x-python",
   "name": "python",
   "nbconvert_exporter": "python",
   "pygments_lexer": "ipython3",
   "version": "3.6.6"
  },
  "varInspector": {
   "cols": {
    "lenName": "1001000000",
    "lenType": "10000000",
    "lenVar": "1000000000"
   },
   "kernels_config": {
    "python": {
     "delete_cmd_postfix": "",
     "delete_cmd_prefix": "del ",
     "library": "var_list.py",
     "varRefreshCmd": "print(var_dic_list())"
    },
    "r": {
     "delete_cmd_postfix": ") ",
     "delete_cmd_prefix": "rm(",
     "library": "var_list.r",
     "varRefreshCmd": "cat(var_dic_list()) "
    }
   },
   "types_to_exclude": [
    "module",
    "function",
    "builtin_function_or_method",
    "instance",
    "_Feature"
   ],
   "window_display": false
  }
 },
 "nbformat": 4,
 "nbformat_minor": 4
}
