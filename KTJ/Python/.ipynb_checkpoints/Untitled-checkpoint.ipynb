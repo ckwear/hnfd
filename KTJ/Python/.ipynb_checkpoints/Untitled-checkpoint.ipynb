{
 "cells": [
  {
   "cell_type": "code",
   "execution_count": 21,
   "metadata": {
    "ExecuteTime": {
     "end_time": "2020-07-24T02:04:17.165354Z",
     "start_time": "2020-07-24T02:04:17.156452Z"
    }
   },
   "outputs": [
    {
     "name": "stdout",
     "output_type": "stream",
     "text": [
      "defaultdict(<class 'list'>, {'aa': [1, 2, 6, 2, 2, 2]})\n"
     ]
    }
   ],
   "source": [
    "from collections import defaultdict\n",
    "int_dict = defaultdict(list)\n",
    "int_dict['aa'].append(1)\n",
    "int_dict['aa'].append(2)\n",
    "int_dict['aa'].append(6)\n",
    "int_dict['aa'].append(2)\n",
    "int_dict['aa'].append(2)\n",
    "int_dict['aa'].append(2)\n",
    "print(int_dict)"
   ]
  },
  {
   "cell_type": "code",
   "execution_count": 23,
   "metadata": {
    "ExecuteTime": {
     "end_time": "2020-07-24T02:04:22.502912Z",
     "start_time": "2020-07-24T02:04:22.494406Z"
    }
   },
   "outputs": [
    {
     "name": "stdout",
     "output_type": "stream",
     "text": [
      "defaultdict(<class 'set'>, {'aa': {1, 2}})\n"
     ]
    }
   ],
   "source": [
    "from collections import defaultdict\n",
    "int_dict = defaultdict(set)\n",
    "int_dict['aa'].add(1)\n",
    "int_dict['aa'].add(2)\n",
    "int_dict['aa'].add(2)\n",
    "int_dict['aa'].add(2)\n",
    "int_dict['aa'].add(2)\n",
    "int_dict['aa'].add(10)\n",
    "print(int_dict)"
   ]
  }
 ],
 "metadata": {
  "kernelspec": {
   "display_name": "Python 3",
   "language": "python",
   "name": "python3"
  },
  "language_info": {
   "codemirror_mode": {
    "name": "ipython",
    "version": 3
   },
   "file_extension": ".py",
   "mimetype": "text/x-python",
   "name": "python",
   "nbconvert_exporter": "python",
   "pygments_lexer": "ipython3",
   "version": "3.6.6"
  },
  "varInspector": {
   "cols": {
    "lenName": "1001000000",
    "lenType": "10000000",
    "lenVar": "1000000000"
   },
   "kernels_config": {
    "python": {
     "delete_cmd_postfix": "",
     "delete_cmd_prefix": "del ",
     "library": "var_list.py",
     "varRefreshCmd": "print(var_dic_list())"
    },
    "r": {
     "delete_cmd_postfix": ") ",
     "delete_cmd_prefix": "rm(",
     "library": "var_list.r",
     "varRefreshCmd": "cat(var_dic_list()) "
    }
   },
   "types_to_exclude": [
    "module",
    "function",
    "builtin_function_or_method",
    "instance",
    "_Feature"
   ],
   "window_display": false
  }
 },
 "nbformat": 4,
 "nbformat_minor": 4
}
