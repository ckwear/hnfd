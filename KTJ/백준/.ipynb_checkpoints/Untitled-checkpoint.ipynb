{
 "cells": [
  {
   "cell_type": "markdown",
   "metadata": {},
   "source": [
    "<a href=\"https://www.acmicpc.net/problem/14890\"><img src=\"https://d2gd6pc034wcta.cloudfront.net/images/logo@2x.png\"/></a>"
   ]
  },
  {
   "cell_type": "code",
   "execution_count": 54,
   "metadata": {
    "ExecuteTime": {
     "end_time": "2020-07-04T15:32:42.291305Z",
     "start_time": "2020-07-04T15:32:42.269276Z"
    }
   },
   "outputs": [
    {
     "name": "stdout",
     "output_type": "stream",
     "text": [
      "[0, 0, 0, 0, 0, 0]\n",
      "[0, 0, 0, 0, 0, 0]\n",
      "[0, 0, 0, 0, 0, 0]\n",
      "[0, 0, 0, 0, 0, 0]\n",
      "[0, 0, 0, 0, 0, 0]\n",
      "[0, 0, 0, 0, 0, 0]\n"
     ]
    }
   ],
   "source": [
    "import itertools as it\n",
    "from operator import itemgetter\n",
    "\n",
    "file_name = \"14890.txt\"\n",
    "f = open(file_name, 'r')\n",
    "n = 0\n",
    "l = 0\n",
    "maps = []\n",
    "line = []\n",
    "def read():\n",
    "    return f.readline().strip()\n",
    "\n",
    "def main():\n",
    "    global line\n",
    "    cpd = line.copy()\n",
    "    for i in range(n):\n",
    "        culom = list(map(itemgetter(i), maps))\n",
    "        for j in range(n-1):\n",
    "            if culom[j] < culom[j+1] and j-l+1>=0:\n",
    "                if culom[j-l:j] == [culom[j]] * l:\n",
    "                    if line[j-l:j] == [0] * l:\n",
    "                        line = line[:j-l]+ ([1]*l) + line[j:]\n",
    "\n",
    "        culom = culom[::-1]\n",
    "\n",
    "        for j in range(n-1):\n",
    "            if culom[j] < culom[j+1] and j-l>=0:\n",
    "                if culom[j-l:j] == [culom[j]] * l:\n",
    "                    if line[j-l:j] == [0] * l:\n",
    "                        line = line[:j-l]+ ([1]*l) + line[j:]\n",
    "                        \n",
    "        print(line)\n",
    "                    \n",
    "                \n",
    "\n",
    "if __name__=='__main__':\n",
    "    n, l = list(map(int, read().split()))\n",
    "    [maps.append(list(map(int, read().split()))) for i in range(n)]\n",
    "    [line.append(0) for i in range(n)]\n",
    "    main()"
   ]
  },
  {
   "cell_type": "code",
   "execution_count": 46,
   "metadata": {
    "ExecuteTime": {
     "end_time": "2020-07-04T14:27:52.000520Z",
     "start_time": "2020-07-04T14:27:51.993710Z"
    }
   },
   "outputs": [
    {
     "name": "stdout",
     "output_type": "stream",
     "text": [
      "[0, 1, 2, 3, 4, 5, 6, 7, 8, 9]\n",
      "[0, 2, 4, 6, 8]\n"
     ]
    }
   ],
   "source": [
    "a = list(range(10))\n",
    "b= 7\n",
    "c = 4\n",
    "print(a)\n",
    "print(a[::2])"
   ]
  }
 ],
 "metadata": {
  "kernelspec": {
   "display_name": "Python 3",
   "language": "python",
   "name": "python3"
  },
  "language_info": {
   "codemirror_mode": {
    "name": "ipython",
    "version": 3
   },
   "file_extension": ".py",
   "mimetype": "text/x-python",
   "name": "python",
   "nbconvert_exporter": "python",
   "pygments_lexer": "ipython3",
   "version": "3.6.6"
  },
  "varInspector": {
   "cols": {
    "lenName": "1001000000",
    "lenType": "10000000",
    "lenVar": "1000000000"
   },
   "kernels_config": {
    "python": {
     "delete_cmd_postfix": "",
     "delete_cmd_prefix": "del ",
     "library": "var_list.py",
     "varRefreshCmd": "print(var_dic_list())"
    },
    "r": {
     "delete_cmd_postfix": ") ",
     "delete_cmd_prefix": "rm(",
     "library": "var_list.r",
     "varRefreshCmd": "cat(var_dic_list()) "
    }
   },
   "position": {
    "height": "144px",
    "left": "553px",
    "right": "20px",
    "top": "119px",
    "width": "350px"
   },
   "types_to_exclude": [
    "module",
    "function",
    "builtin_function_or_method",
    "instance",
    "_Feature"
   ],
   "window_display": true
  }
 },
 "nbformat": 4,
 "nbformat_minor": 4
}
