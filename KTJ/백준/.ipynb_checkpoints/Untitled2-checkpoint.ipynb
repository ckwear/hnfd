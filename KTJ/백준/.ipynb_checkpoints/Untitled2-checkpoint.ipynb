{
 "cells": [
  {
   "cell_type": "markdown",
   "metadata": {
    "ExecuteTime": {
     "end_time": "2020-08-19T11:03:10.704571Z",
     "start_time": "2020-08-19T11:03:10.698021Z"
    }
   },
   "source": [
    "<a href=\"https://www.acmicpc.net/problem/14503\">\n",
    "    <img src=\"https://d2gd6pc034wcta.cloudfront.net/images/logo@2x.png\"/>\n",
    "</a>"
   ]
  },
  {
   "cell_type": "code",
   "execution_count": 20,
   "metadata": {
    "ExecuteTime": {
     "end_time": "2020-08-19T11:12:44.577798Z",
     "start_time": "2020-08-19T11:12:44.566755Z"
    }
   },
   "outputs": [
    {
     "name": "stdout",
     "output_type": "stream",
     "text": [
      "[[2, 2, 2], [4, 4, 4], [8, 8, 8]]\n"
     ]
    }
   ],
   "source": [
    "import pandas as pd\n",
    "import itertools as it\n",
    "\n",
    "f = open('./text/untitled.txt', 'r')\n",
    "lmap = []\n",
    "\n",
    "def read():\n",
    "    return f.readline()\n",
    "\n",
    "\n",
    "def main():\n",
    "    \n",
    "    pass\n",
    "    \n",
    "if __name__=='__main__':\n",
    "    \n",
    "    for i in range(len(read())+1):\n",
    "        lmap.append(list(map(int, read().split())))\n",
    "    print(lmap)\n",
    "    main()\n",
    "\n",
    "\n"
   ]
  }
 ],
 "metadata": {
  "kernelspec": {
   "display_name": "Python 3",
   "language": "python",
   "name": "python3"
  },
  "language_info": {
   "codemirror_mode": {
    "name": "ipython",
    "version": 3
   },
   "file_extension": ".py",
   "mimetype": "text/x-python",
   "name": "python",
   "nbconvert_exporter": "python",
   "pygments_lexer": "ipython3",
   "version": "3.6.6"
  },
  "varInspector": {
   "cols": {
    "lenName": "1001000000",
    "lenType": "10000000",
    "lenVar": "1000000000"
   },
   "kernels_config": {
    "python": {
     "delete_cmd_postfix": "",
     "delete_cmd_prefix": "del ",
     "library": "var_list.py",
     "varRefreshCmd": "print(var_dic_list())"
    },
    "r": {
     "delete_cmd_postfix": ") ",
     "delete_cmd_prefix": "rm(",
     "library": "var_list.r",
     "varRefreshCmd": "cat(var_dic_list()) "
    }
   },
   "types_to_exclude": [
    "module",
    "function",
    "builtin_function_or_method",
    "instance",
    "_Feature"
   ],
   "window_display": false
  }
 },
 "nbformat": 4,
 "nbformat_minor": 4
}
