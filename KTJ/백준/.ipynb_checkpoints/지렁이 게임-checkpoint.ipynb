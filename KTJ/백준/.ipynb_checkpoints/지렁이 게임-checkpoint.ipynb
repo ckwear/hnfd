{
 "cells": [
  {
   "cell_type": "markdown",
   "metadata": {
    "ExecuteTime": {
     "end_time": "2020-06-20T13:55:11.811659Z",
     "start_time": "2020-06-20T13:55:11.783429Z"
    }
   },
   "source": [
    "<a href=\"https://www.acmicpc.net/problem/3190\"><img src=\"https://d2gd6pc034wcta.cloudfront.net/images/logo@2x.png\"/></a>"
   ]
  },
  {
   "cell_type": "code",
   "execution_count": 96,
   "metadata": {
    "ExecuteTime": {
     "end_time": "2020-08-20T06:33:11.163568Z",
     "start_time": "2020-08-20T06:33:11.133504Z"
    }
   },
   "outputs": [
    {
     "name": "stdout",
     "output_type": "stream",
     "text": [
      "  #  #  #  #  #  #  #  #\n",
      "  #                    #\n",
      "  #              @     #\n",
      "  #           @        #\n",
      "  #                    #\n",
      "  #        @           #\n",
      "  #                    #\n",
      "  #  #  #  #  #  #  #  #\n",
      "9\n"
     ]
    }
   ],
   "source": [
    "import itertools as it\n",
    "import math\n",
    "from collections import deque\n",
    "\n",
    "\n",
    "#maps = [[]]\n",
    "a = 1\n",
    "f = open('./text/untitled1.txt', 'r')\n",
    "# f = open(''.join([\"map\",str(a),\".txt\"]), 'r')\n",
    "turn = deque()\n",
    "snake = deque()\n",
    "size = 0\n",
    "\n",
    "class snape:\n",
    "    def __init__(self, y, x, count):\n",
    "        self.x = x\n",
    "        self.y = y\n",
    "        self.count = count\n",
    "\n",
    "def rdline():\n",
    "    return f.readline().strip()\n",
    "\n",
    "\n",
    "\n",
    "def move(maps):\n",
    "    # right : 3\n",
    "    # left  : 2\n",
    "    # Down  : 1\n",
    "    # up    : 0\n",
    "    # 3 D 1\n",
    "    # 2 D 0\n",
    "    # 1 D 2\n",
    "    # 0 D 3\n",
    "    # 3 L 0\n",
    "    # 2 L 1\n",
    "    # 1 L 3\n",
    "    dturn = {3 : 1, 2 : 0, 1 : 2, 0 : 3}\n",
    "    lturn = {3 : 0, 2 : 1, 1 : 3, 0 : 2}\n",
    "    dy = [-1, 1, 0, 0]\n",
    "    dx = [0, 0, -1, 1]\n",
    "    direct = 3\n",
    "    item = 0\n",
    "    turn_timing, directchar = turn.popleft()\n",
    "    snake.append(snape(1, 1, 0))\n",
    "    maps[1][1] = '#'\n",
    "    cnting_time = 0\n",
    "    while snake:\n",
    "        next_y = snake[-1].y + dy[direct]\n",
    "        next_x = snake[-1].x + dx[direct]\n",
    "        \n",
    "        if maps[next_y][next_x] == '@':\n",
    "            item = 1\n",
    "            \n",
    "        if maps[next_y][next_x] != '#':\n",
    "            snake.append(snape(next_y, next_x, 1))\n",
    "            maps[next_y][next_x] = '#'\n",
    "        else:\n",
    "            return cnting_time+1\n",
    "        \n",
    "        if item != 1:\n",
    "            tail = snake.popleft()\n",
    "            maps[tail.y][tail.x] = ' '\n",
    "        else:\n",
    "            item = 0\n",
    "        cnting_time += 1\n",
    "        \n",
    "        if cnting_time == turn_timing:\n",
    "            if directchar == 'D':\n",
    "                direct = dturn[direct]\n",
    "            else:\n",
    "                direct = lturn[direct]\n",
    "            if turn:\n",
    "                turn_timing, directchar = turn.popleft()\n",
    "        \n",
    "def main():\n",
    "    a = 1\n",
    "    \n",
    "    size = int(f.readline().strip())\n",
    "    maps =[['#' if i==0 or i== size+1 or j==0 or j==size+1 else ' ' for i in range(size+2)] for j in range(size+2)]\n",
    "    \n",
    "    #rdline = f.readline().strip\n",
    "    for i in range(0, int(rdline())):\n",
    "        y, x = list(map(int, rdline().split(' ')))\n",
    "        maps[y][x] = '@'\n",
    "    for i in range(size+2):\n",
    "        for j in range(size+2):\n",
    "            print(\"%3s\" % (maps[i][j]), end='')\n",
    "        print()\n",
    "    for i in range(int(rdline())):\n",
    "        sec, direct = rdline().split(' ')\n",
    "        turn.append([int(sec), direct])\n",
    "    #maps[1][1] = 'a'\n",
    "    print(move(maps))\n",
    "    \n",
    "if __name__==\"__main__\":\n",
    "    main()\n"
   ]
  },
  {
   "cell_type": "code",
   "execution_count": 139,
   "metadata": {
    "ExecuteTime": {
     "end_time": "2020-08-20T07:40:36.976705Z",
     "start_time": "2020-08-20T07:40:36.954389Z"
    }
   },
   "outputs": [
    {
     "name": "stdout",
     "output_type": "stream",
     "text": [
      "\n"
     ]
    }
   ],
   "source": [
    "import itertools as it\n",
    "from collections import deque\n",
    "\n",
    "class snape:\n",
    "    def __init__(self, y, x):\n",
    "        self.y = y\n",
    "        self.x = x\n",
    "dx = [0, 0, 1, -1]\n",
    "dy = [1, -1, 0, 0]\n",
    "dirc = 2\n",
    "move = []\n",
    "def turn_left():\n",
    "    global dirc\n",
    "    dic = {2:1, 1:3, 3:0, 0:2}\n",
    "    dirc = dic[dirc]\n",
    "\n",
    "def turn_right():\n",
    "    global dirc\n",
    "    dic = {0:3, 1:2, 2:0, 3:1}\n",
    "    dirc = dic[dirc]\n",
    "    \n",
    "    \n",
    "def go():\n",
    "    curn_y = snk[len(snk)-1].y\n",
    "    curn_x = snk[len(snk)-1].x\n",
    "\n",
    "    new_snape = snape(curn_y+dy[dirc], curn_x+dx[dirc])\n",
    "    snk.append(new_snape)\n",
    "\n",
    "    \n",
    "    \n",
    "\n",
    "\n",
    "f = open('./text/untitled1.txt', 'r')\n",
    "maps =[]\n",
    "snk = deque([snape(1, 1)])\n",
    "\n",
    "def read():\n",
    "    return f.readline()\n",
    "\n",
    "def main():\n",
    "\n",
    "    turn_cnt = int(read().split()[0])\n",
    "    print()\n",
    "    for i in range(turn_cnt):\n",
    "        sec, dic = read().strip().split()\n",
    "        move.append([int(sec), dic])\n",
    "    while move:\n",
    "        sec, dic = move.pop(0)\n",
    "        for i in range(sec):\n",
    "            go()\n",
    "            for snp in snk:\n",
    "                y = snp.y\n",
    "                x = snp.x\n",
    "                \n",
    "                maps[y][x] += 1\n",
    "            if maps.find\n",
    "            break\n",
    "if __name__=='__main__':\n",
    "    size = int(read().split()[0])\n",
    "    size += 2\n",
    "    maps = [[1 if i == 0 or i == size-1 or j == 0 or j == size-1 else 0 for j in range(size)] for i in range(size)]\n",
    "    item_cnt = int(read().split()[0])\n",
    "    items = [list(map(int, read().strip().split())) for i in range(item_cnt)]\n",
    "#     [maps[1][1] = '1' for i in range(1)]\n",
    "    for y, x in items:\n",
    "        maps[y][x] = -2\n",
    "#     for i in range(size):\n",
    "#         for j in range(size):\n",
    "#             print(\"%5d\" % (maps[i][j]), end='')\n",
    "#         print()\n",
    "    main()\n"
   ]
  },
  {
   "cell_type": "code",
   "execution_count": 140,
   "metadata": {
    "ExecuteTime": {
     "end_time": "2020-08-20T07:42:15.402264Z",
     "start_time": "2020-08-20T07:42:15.389402Z"
    }
   },
   "outputs": [
    {
     "data": {
      "text/plain": [
       "[[1, 1, 1, 1, 1, 1, 1, 1],\n",
       " [1, 3, 3, 2, 1, 0, 0, 1],\n",
       " [1, 0, 0, 0, 0, -2, 0, 1],\n",
       " [1, 0, 0, 0, -2, 0, 0, 1],\n",
       " [1, 0, 0, 0, 0, 0, 0, 1],\n",
       " [1, 0, 0, -2, 0, 0, 0, 1],\n",
       " [1, 0, 0, 0, 0, 0, 0, 1],\n",
       " [1, 1, 1, 1, 1, 1, 1, 1]]"
      ]
     },
     "execution_count": 140,
     "metadata": {},
     "output_type": "execute_result"
    }
   ],
   "source": [
    "maps.find()"
   ]
  }
 ],
 "metadata": {
  "kernelspec": {
   "display_name": "Python 3",
   "language": "python",
   "name": "python3"
  },
  "language_info": {
   "codemirror_mode": {
    "name": "ipython",
    "version": 3
   },
   "file_extension": ".py",
   "mimetype": "text/x-python",
   "name": "python",
   "nbconvert_exporter": "python",
   "pygments_lexer": "ipython3",
   "version": "3.6.6"
  },
  "varInspector": {
   "cols": {
    "lenName": "1001000000",
    "lenType": "10000000",
    "lenVar": "1000000000"
   },
   "kernels_config": {
    "python": {
     "delete_cmd_postfix": "",
     "delete_cmd_prefix": "del ",
     "library": "var_list.py",
     "varRefreshCmd": "print(var_dic_list())"
    },
    "r": {
     "delete_cmd_postfix": ") ",
     "delete_cmd_prefix": "rm(",
     "library": "var_list.r",
     "varRefreshCmd": "cat(var_dic_list()) "
    }
   },
   "position": {
    "height": "245px",
    "left": "721px",
    "right": "20px",
    "top": "84px",
    "width": "370px"
   },
   "types_to_exclude": [
    "module",
    "function",
    "builtin_function_or_method",
    "instance",
    "_Feature"
   ],
   "window_display": true
  }
 },
 "nbformat": 4,
 "nbformat_minor": 4
}
