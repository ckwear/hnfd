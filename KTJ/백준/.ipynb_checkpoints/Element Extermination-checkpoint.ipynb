{
 "cells": [
  {
   "cell_type": "markdown",
   "metadata": {},
   "source": [
    "<a href=\"https://codeforces.com/contest/1375/problem/C?f0a28=1\"><img src=\"https://sta.codeforces.com/s/87136/images/codeforces-vs-coronavirus-65.png\" /></a>"
   ]
  },
  {
   "cell_type": "markdown",
   "metadata": {},
   "source": [
    "최적 해를 구하는 문제\n",
    "\n",
    "- 배열이 주어지고 그 배열에 대한 2개의 순서쌍을 선택\n",
    "- 2개의 순서쌍 중 하나의 요소 삭제\n",
    "    - 과정 반복\n",
    "- 한개의 요소만 남을 수 있는 가?\n",
    "\n"
   ]
  },
  {
   "cell_type": "code",
   "execution_count": 11,
   "metadata": {
    "ExecuteTime": {
     "end_time": "2020-07-15T10:04:07.574281Z",
     "start_time": "2020-07-15T10:04:07.554000Z"
    }
   },
   "outputs": [
    {
     "name": "stdout",
     "output_type": "stream",
     "text": [
      "[1, 2, 3]\n",
      "[2, 3]\n",
      "\n",
      "[3, 1, 2, 4]\n",
      "[2, 4]\n",
      "\n",
      "[2, 3, 1]\n",
      "[3]\n",
      "\n",
      "[2, 4, 6, 1, 3, 5]\n",
      "[5, 6]\n",
      "\n"
     ]
    }
   ],
   "source": [
    "import itertools as it\n",
    "import heapq as hq\n",
    "#import collections\n",
    "\n",
    "\n",
    "file_name = 'ElementExtermination.txt'\n",
    "f = open('ElementExtermination.txt', 'r')\n",
    "n = []\n",
    "def read():\n",
    "    return f.readline().strip()\n",
    "\n",
    "def rmv(arr):\n",
    "    if len(arr) <= 2:\n",
    "        return arr\n",
    "    else:\n",
    "        arr_len = len(arr)\n",
    "        maps = set()\n",
    "        for i in range(arr_len):\n",
    "            if len(arr[i:i+2]) == 2 and arr[i:i+2][0] < arr[i:i+2][1]:\n",
    "                maps |= set(arr[i:i+2])\n",
    "        list_naps = list(maps)\n",
    "        for i in range(len(list_naps)):\n",
    "            result_arr = maps - set([list_naps[i]])\n",
    "            result = rmv(list(result_arr))\n",
    "            return result\n",
    "            \n",
    "\n",
    "def main():\n",
    "    for i in range(n[0]):\n",
    "        n2 = list(map(int, read().split()))\n",
    "        arr = list(map(int, read().split()))\n",
    "        print(arr)\n",
    "        print(rmv(arr))\n",
    "        print()\n",
    "                \n",
    "\n",
    "if __name__=='__main__':\n",
    "    n = list(map(int, read().split()))\n",
    "    main()"
   ]
  },
  {
   "cell_type": "code",
   "execution_count": 70,
   "metadata": {
    "ExecuteTime": {
     "end_time": "2020-07-15T09:46:15.229863Z",
     "start_time": "2020-07-15T09:46:15.220443Z"
    }
   },
   "outputs": [
    {
     "name": "stdout",
     "output_type": "stream",
     "text": [
      "{1, 2, 4, 5}\n",
      "{1, 4, 5}\n"
     ]
    }
   ],
   "source": [
    "maps = set()\n",
    "maps = {1,4,1}\n",
    "map2 = {1,5,2,1}\n",
    "maps |= {1,5,2,1,5}\n",
    "b = maps | map2\n",
    "print(b)\n",
    "c = list(b)\n",
    "d = b - set([c[1]])\n",
    "print(d)"
   ]
  }
 ],
 "metadata": {
  "kernelspec": {
   "display_name": "Python 3",
   "language": "python",
   "name": "python3"
  },
  "language_info": {
   "codemirror_mode": {
    "name": "ipython",
    "version": 3
   },
   "file_extension": ".py",
   "mimetype": "text/x-python",
   "name": "python",
   "nbconvert_exporter": "python",
   "pygments_lexer": "ipython3",
   "version": "3.6.6"
  },
  "varInspector": {
   "cols": {
    "lenName": "1001000000",
    "lenType": "10000000",
    "lenVar": "1000000000"
   },
   "kernels_config": {
    "python": {
     "delete_cmd_postfix": "",
     "delete_cmd_prefix": "del ",
     "library": "var_list.py",
     "varRefreshCmd": "print(var_dic_list())"
    },
    "r": {
     "delete_cmd_postfix": ") ",
     "delete_cmd_prefix": "rm(",
     "library": "var_list.r",
     "varRefreshCmd": "cat(var_dic_list()) "
    }
   },
   "types_to_exclude": [
    "module",
    "function",
    "builtin_function_or_method",
    "instance",
    "_Feature"
   ],
   "window_display": true
  }
 },
 "nbformat": 4,
 "nbformat_minor": 4
}
