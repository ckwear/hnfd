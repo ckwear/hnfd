{
 "cells": [
  {
   "cell_type": "markdown",
   "metadata": {
    "ExecuteTime": {
     "end_time": "2020-06-24T07:48:50.693774Z",
     "start_time": "2020-06-24T07:48:50.690074Z"
    }
   },
   "source": [
    "<a href=\"https://www.acmicpc.net/problem/14502\"> <img src=\"https://d2gd6pc034wcta.cloudfront.net/images/logo@2x.png\"/></a>"
   ]
  },
  {
   "cell_type": "code",
   "execution_count": 191,
   "metadata": {
    "ExecuteTime": {
     "end_time": "2020-06-24T21:59:13.206348Z",
     "start_time": "2020-06-24T21:59:08.958305Z"
    }
   },
   "outputs": [
    {
     "name": "stdout",
     "output_type": "stream",
     "text": [
      "3\n"
     ]
    }
   ],
   "source": [
    "from collections import deque\n",
    "import copy\n",
    "import itertools as it\n",
    "f = open(\"14502.txt\", 'r')\n",
    "\n",
    "class node:\n",
    "    def __init__(self, y, x):\n",
    "        self.y = y\n",
    "        self.x = x\n",
    "\n",
    "def read():\n",
    "    return f.readline().strip()\n",
    "maps = []\n",
    "bobs = deque()\n",
    "maximum = 0\n",
    "safety = []\n",
    "def BFS():\n",
    "    global maps\n",
    "    global bobs\n",
    "    dy = [0, 0, 1, -1]\n",
    "    dx = [1, -1, 0, 0]\n",
    "    que = deque()\n",
    "    co = bobs.copy()\n",
    "    while bobs:\n",
    "        \n",
    "        que.append(bobs.popleft())\n",
    "        while que:\n",
    "            curn_y,curn_x = que.popleft()\n",
    "            for dir in range(4):\n",
    "                if maps[curn_y +dy[dir]][curn_x+dx[dir]] == 0:\n",
    "                    next_y = curn_y +dy[dir]\n",
    "                    next_x = curn_x +dx[dir]\n",
    "                    que.append([next_y, next_x])\n",
    "                    maps[next_y][next_x] = 2\n",
    "    \n",
    "    bobs = co.copy()\n",
    "    \n",
    "def countSafeArea():\n",
    "    count = 0\n",
    "    for line in maps:\n",
    "        for value in line:\n",
    "            if value == 0:\n",
    "                count += 1\n",
    "    return count\n",
    "def makeWell():\n",
    "    global maps\n",
    "    global safety\n",
    "    global maximum\n",
    "    copyed = []\n",
    "    copyed = copy.deepcopy(maps) \n",
    "    for wells in it.combinations(safety, 3):\n",
    "        \n",
    "        for well in wells:\n",
    "            well_y, well_x = well\n",
    "            maps[well_y][well_x] = 1\n",
    "        \n",
    "        BFS()\n",
    "        cnt_sf_ar = countSafeArea()\n",
    "        if cnt_sf_ar > maximum:\n",
    "            maximum = cnt_sf_ar\n",
    "#         if cnt_sf_ar == 6:\n",
    "#             for line in maps:\n",
    "#                 for value in line:\n",
    "#                     print('%d ' % value,end='')\n",
    "#                 print()\n",
    "        maps = copy.deepcopy(copyed)\n",
    "\n",
    "def main():\n",
    "    global maps\n",
    "    n, m = list(map(int, read().split()))\n",
    "    \n",
    "    maps.append([1 for i in range(m+2)])\n",
    "    for i in range(n):\n",
    "        line = read()\n",
    "        line = '1 ' + line + ' 1'\n",
    "        line = line.split()\n",
    "        for j, ba in enumerate(line):\n",
    "            if ba == '2':\n",
    "                bobs.append([i+1, j])\n",
    "        for j, ba in enumerate(line):\n",
    "            if ba == '0':\n",
    "                safety.append([i+1, j])\n",
    "        maps.append(list(map(int, line)))\n",
    "    maps.append([1 for i in range(m+2)])\n",
    "    #print(bobs)\n",
    "    makeWell()\n",
    "    print(maximum)\n",
    "    #while safety:\n",
    "        #makeWell()\n",
    "        \n",
    "    \n",
    "if __name__ == '__main__':\n",
    "    main()"
   ]
  },
  {
   "cell_type": "code",
   "execution_count": 192,
   "metadata": {
    "ExecuteTime": {
     "end_time": "2020-06-24T22:01:25.895686Z",
     "start_time": "2020-06-24T22:00:54.774180Z"
    }
   },
   "outputs": [
    {
     "name": "stdout",
     "output_type": "stream",
     "text": [
      "7 7\n",
      "2 0 0 0 1 1 0\n",
      "0 0 1 0 1 2 0\n",
      "0 1 1 0 1 0 0\n",
      "0 1 0 0 0 0 0\n",
      "0 0 0 0 0 1 1\n",
      "0 1 0 0 0 0 0\n",
      "0 1 0 0 0 0 0\n",
      "27\n"
     ]
    }
   ],
   "source": [
    "from collections import deque\n",
    "import copy\n",
    "import itertools as it\n",
    "\n",
    "maps = []\n",
    "bobs = deque()\n",
    "maximum = 0\n",
    "safety = []\n",
    "def BFS():\n",
    "    global maps\n",
    "    global bobs\n",
    "    dy = [0, 0, 1, -1]\n",
    "    dx = [1, -1, 0, 0]\n",
    "    que = deque()\n",
    "    co = bobs.copy()\n",
    "    while bobs:\n",
    "        \n",
    "        que.append(bobs.popleft())\n",
    "        while que:\n",
    "            curn_y,curn_x = que.popleft()\n",
    "            for dir in range(4):\n",
    "                if maps[curn_y +dy[dir]][curn_x+dx[dir]] == 0:\n",
    "                    next_y = curn_y +dy[dir]\n",
    "                    next_x = curn_x +dx[dir]\n",
    "                    que.append([next_y, next_x])\n",
    "                    maps[next_y][next_x] = 2\n",
    "    \n",
    "    bobs = co.copy()\n",
    "    \n",
    "def countSafeArea():\n",
    "    count = 0\n",
    "    for line in maps:\n",
    "        for value in line:\n",
    "            if value == 0:\n",
    "                count += 1\n",
    "    return count\n",
    "def makeWell():\n",
    "    global maps\n",
    "    global safety\n",
    "    global maximum\n",
    "    copyed = []\n",
    "    copyed = copy.deepcopy(maps) \n",
    "    for wells in it.combinations(safety, 3):\n",
    "        \n",
    "        for well in wells:\n",
    "            well_y, well_x = well\n",
    "            maps[well_y][well_x] = 1\n",
    "        \n",
    "        BFS()\n",
    "        cnt_sf_ar = countSafeArea()\n",
    "        if cnt_sf_ar > maximum:\n",
    "            maximum = cnt_sf_ar\n",
    "#         if cnt_sf_ar == 6:\n",
    "#             for line in maps:\n",
    "#                 for value in line:\n",
    "#                     print('%d ' % value,end='')\n",
    "#                 print()\n",
    "        maps = copy.deepcopy(copyed)\n",
    "\n",
    "def main():\n",
    "    global maps\n",
    "    n, m = list(map(int, input().split()))\n",
    "    \n",
    "    maps.append([1 for i in range(m+2)])\n",
    "    for i in range(n):\n",
    "        line = input()\n",
    "        line = '1 ' + line + ' 1'\n",
    "        line = line.split()\n",
    "        for j, ba in enumerate(line):\n",
    "            if ba == '2':\n",
    "                bobs.append([i+1, j])\n",
    "        for j, ba in enumerate(line):\n",
    "            if ba == '0':\n",
    "                safety.append([i+1, j])\n",
    "        maps.append(list(map(int, line)))\n",
    "    maps.append([1 for i in range(m+2)])\n",
    "    #print(bobs)\n",
    "    makeWell()\n",
    "    print(maximum)\n",
    "    #while safety:\n",
    "        #makeWell()\n",
    "        \n",
    "    \n",
    "if __name__ == '__main__':\n",
    "    main()"
   ]
  },
  {
   "cell_type": "code",
   "execution_count": 174,
   "metadata": {
    "ExecuteTime": {
     "end_time": "2020-06-24T21:51:51.745283Z",
     "start_time": "2020-06-24T21:51:51.737354Z"
    }
   },
   "outputs": [
    {
     "data": {
      "text/plain": [
       "deque([1, 4, 2, 3, 0])"
      ]
     },
     "execution_count": 174,
     "metadata": {},
     "output_type": "execute_result"
    }
   ],
   "source": [
    "a = deque()\n",
    "a.append(1)\n",
    "a.append(4)\n",
    "a.append(2)\n",
    "a.append(3)\n",
    "a.append(0)\n",
    "b = a.copy()\n",
    "b.pop()\n",
    "a"
   ]
  }
 ],
 "metadata": {
  "kernelspec": {
   "display_name": "Python 3",
   "language": "python",
   "name": "python3"
  },
  "language_info": {
   "codemirror_mode": {
    "name": "ipython",
    "version": 3
   },
   "file_extension": ".py",
   "mimetype": "text/x-python",
   "name": "python",
   "nbconvert_exporter": "python",
   "pygments_lexer": "ipython3",
   "version": "3.6.6"
  },
  "varInspector": {
   "cols": {
    "lenName": "1001000000",
    "lenType": "10000000",
    "lenVar": "1000000000"
   },
   "kernels_config": {
    "python": {
     "delete_cmd_postfix": "",
     "delete_cmd_prefix": "del ",
     "library": "var_list.py",
     "varRefreshCmd": "print(var_dic_list())"
    },
    "r": {
     "delete_cmd_postfix": ") ",
     "delete_cmd_prefix": "rm(",
     "library": "var_list.r",
     "varRefreshCmd": "cat(var_dic_list()) "
    }
   },
   "types_to_exclude": [
    "module",
    "function",
    "builtin_function_or_method",
    "instance",
    "_Feature"
   ],
   "window_display": false
  }
 },
 "nbformat": 4,
 "nbformat_minor": 4
}
