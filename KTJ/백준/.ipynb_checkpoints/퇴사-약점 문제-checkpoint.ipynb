{
 "cells": [
  {
   "cell_type": "markdown",
   "metadata": {
    "ExecuteTime": {
     "end_time": "2020-06-22T21:35:48.865572Z",
     "start_time": "2020-06-22T21:35:48.861953Z"
    }
   },
   "source": [
    "<a href=\"https://www.acmicpc.net/problem/14501\"><img src=\"https://d2gd6pc034wcta.cloudfront.net/images/logo@2x.png\"/></a>"
   ]
  },
  {
   "cell_type": "code",
   "execution_count": 31,
   "metadata": {
    "ExecuteTime": {
     "end_time": "2020-06-23T00:13:56.182074Z",
     "start_time": "2020-06-23T00:13:56.159906Z"
    }
   },
   "outputs": [
    {
     "name": "stdout",
     "output_type": "stream",
     "text": [
      "                                \n",
      "                020 015         \n",
      "    010                         \n",
      "    010 020     020 015         \n",
      "    010 020 010     015         \n",
      "    010 020 010 020             \n",
      "    010 020 010 020 015         \n",
      "    010 020 010 020 015         \n"
     ]
    }
   ],
   "source": [
    "import heapq\n",
    "import itertools as it\n",
    "import math\n",
    "import bisect\n",
    "\n",
    "file_num = 1\n",
    "file_name = ''.join(['14501_', str(file_num), '.txt'])\n",
    "f = open(file_name, 'r')\n",
    "def rdline():\n",
    "    return f.readline().strip()\n",
    "\n",
    "def makeWeight(weight, curn):\n",
    "    i = 1\n",
    "    while i < n+1:\n",
    "        if not curn <= i < curn +tb[curn][0] and (tb[i][0]+i)<= n:# and (tb[i][0]+i) <= curn:\n",
    "            weight[curn][i] = tb[i][1]\n",
    "        else:\n",
    "            weight[curn][i] = 0\n",
    "        i += 1\n",
    "    weight[curn][curn] = 0\n",
    "\n",
    "def cycle(n):\n",
    "    heap = []\n",
    "    weight = [[0 for j in range(n+1)] for i in range(n+1)]\n",
    "    for i in range(n):\n",
    "        makeWeight(weight, i+1)\n",
    "    for i in weight:\n",
    "        for j in i:\n",
    "            if j == 0:\n",
    "                print('    ', end=\"\")\n",
    "            else:\n",
    "                print('%.3d '%j, end=\"\")\n",
    "        print()\n",
    "    \n",
    "#     while True:\n",
    "#         curn = 1\n",
    "#         next = weight[curn].index(max(weight[curn]))\n",
    "#         print(next)\n",
    "#         makeWeight(weight, next)\n",
    "#         print(weight)\n",
    "#         break\n",
    "#         weight[curn[1]]\n",
    "                   \n",
    "                   \n",
    "    \n",
    "def main():\n",
    "    global tb\n",
    "    global n\n",
    "    n = int(rdline())\n",
    "    tb = [[] for i in range(n+1)]\n",
    "    if 1 <= n <= 15:\n",
    "        for i in range(n):\n",
    "\n",
    "            term, value = list(map(int, rdline().split()))\n",
    "            if 1<= term <= 5 and 1 <= value <= 1000:\n",
    "                tb[i+1]=[term, value]\n",
    "    tb[0] = [1, 0]\n",
    "    cycle(n)\n",
    "    \n",
    "if __name__=='__main__':\n",
    "    main()\n"
   ]
  },
  {
   "cell_type": "code",
   "execution_count": 33,
   "metadata": {
    "ExecuteTime": {
     "end_time": "2020-06-22T23:48:44.417794Z",
     "start_time": "2020-06-22T23:48:44.411164Z"
    }
   },
   "outputs": [
    {
     "data": {
      "text/plain": [
       "3"
      ]
     },
     "execution_count": 33,
     "metadata": {},
     "output_type": "execute_result"
    }
   ],
   "source": [
    "import heapq\n",
    "import itertools as it\n",
    "import math\n",
    "import bisect\n",
    "\n",
    "file_num = 1\n",
    "file_name = ''.join(['14501_', str(file_num), '.txt'])\n",
    "f = open(file_name, 'r')\n",
    "def rdline():\n",
    "    return f.readline().strip()\n",
    "\n",
    "\n",
    "visited = [0] * (n+1)\n",
    "\n",
    "\n",
    "def cycle(n):\n",
    "    heap = []\n",
    "    \n",
    "                   \n",
    "                   \n",
    "    \n",
    "def main():\n",
    "    global tb\n",
    "    global n\n",
    "    n = int(rdline())\n",
    "    tb = [[] for i in range(n+1)]\n",
    "    if 1 <= n <= 15:\n",
    "        for i in range(n):\n",
    "\n",
    "            term, value = list(map(int, rdline().split()))\n",
    "            if 1<= term <= 5 and 1 <= value <= 1000:\n",
    "                tb[i+1]=[term, value]\n",
    "    tb[0] = [1, 0]\n",
    "    cycle(n)\n",
    "    \n",
    "if __name__=='__main__':\n",
    "    main()\n"
   ]
  }
 ],
 "metadata": {
  "kernelspec": {
   "display_name": "Python 3",
   "language": "python",
   "name": "python3"
  },
  "language_info": {
   "codemirror_mode": {
    "name": "ipython",
    "version": 3
   },
   "file_extension": ".py",
   "mimetype": "text/x-python",
   "name": "python",
   "nbconvert_exporter": "python",
   "pygments_lexer": "ipython3",
   "version": "3.6.6"
  },
  "varInspector": {
   "cols": {
    "lenName": "1001000000",
    "lenType": "10000000",
    "lenVar": "1000000000"
   },
   "kernels_config": {
    "python": {
     "delete_cmd_postfix": "",
     "delete_cmd_prefix": "del ",
     "library": "var_list.py",
     "varRefreshCmd": "print(var_dic_list())"
    },
    "r": {
     "delete_cmd_postfix": ") ",
     "delete_cmd_prefix": "rm(",
     "library": "var_list.r",
     "varRefreshCmd": "cat(var_dic_list()) "
    }
   },
   "position": {
    "height": "143.792px",
    "left": "629.198px",
    "right": "20px",
    "top": "118.979px",
    "width": "349.969px"
   },
   "types_to_exclude": [
    "module",
    "function",
    "builtin_function_or_method",
    "instance",
    "_Feature"
   ],
   "window_display": false
  }
 },
 "nbformat": 4,
 "nbformat_minor": 4
}
