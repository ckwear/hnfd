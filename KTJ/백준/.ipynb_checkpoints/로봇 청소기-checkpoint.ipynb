{
 "cells": [
  {
   "cell_type": "markdown",
   "metadata": {},
   "source": [
    "<a href=\"https://www.acmicpc.net/problem/14503\">\n",
    "    <img src=\"https://d2gd6pc034wcta.cloudfront.net/images/logo@2x.png\"/>\n",
    "</a>"
   ]
  },
  {
   "cell_type": "code",
   "execution_count": 2,
   "metadata": {
    "ExecuteTime": {
     "end_time": "2020-07-02T22:04:43.675685Z",
     "start_time": "2020-07-02T22:04:43.657383Z"
    },
    "scrolled": true
   },
   "outputs": [
    {
     "name": "stdout",
     "output_type": "stream",
     "text": [
      "57\n"
     ]
    }
   ],
   "source": [
    "import heapq\n",
    "import itertools as it\n",
    "from collections import deque\n",
    "# 북 0 동 1 남2 서 3\n",
    "file_name = '14503.txt'\n",
    "f = open(file_name, 'r')\n",
    "m = n = 0\n",
    "sd = sy = sx = 0\n",
    "maps = []\n",
    "visited = []\n",
    "dy = [-1, 0, 1, 0]\n",
    "dx = [0, 1, 0, -1]\n",
    "bot_dir = 0\n",
    "turn_left = [3,0,1,2]\n",
    "go_back= [2,3,0,1]\n",
    "root = []\n",
    "def read():\n",
    "    return f.readline().strip()\n",
    "def main():\n",
    "    global bot_dir\n",
    "    y = sy\n",
    "    x = sx\n",
    "    visited[y][x] = 2\n",
    "    turn_cnt = 0\n",
    "    cnt = 0 \n",
    "    while True:\n",
    "        visited[y][x] = 2\n",
    "        \n",
    "        if maps[y+dy[turn_left[bot_dir]]][x+dx[turn_left[bot_dir]]] != 1 and visited[y+dy[turn_left[bot_dir]]][x+dx[turn_left[bot_dir]]] == 0:\n",
    "            bot_dir = turn_left[bot_dir]\n",
    "            y = dy[bot_dir]+y\n",
    "            x = dx[bot_dir]+x\n",
    "            cnt+=1\n",
    "            turn_cnt = 0\n",
    "        else:\n",
    "            bot_dir = turn_left[bot_dir]\n",
    "            turn_cnt += 1\n",
    "        \n",
    "        \n",
    "\n",
    "        if turn_cnt == 4:\n",
    "            y = y + dy[go_back[bot_dir]]\n",
    "            x = x + dx[go_back[bot_dir]]\n",
    "            turn_cnt = 0\n",
    "            if maps[y][x] == 1:\n",
    "                \n",
    "                break\n",
    "                \n",
    "    k = sum([visited[q].count(2) for q in range(n)])\n",
    "    print(k)\n",
    "\n",
    "if __name__=='__main__':\n",
    "    n, m = list(map(int, read().split()))\n",
    "    sy, sx, bot_dir = list(map(int, read().split()))\n",
    "    [[maps.append(list(map(int, read().split())))] for i in range(n)]\n",
    "    visited = [[0 for i in range(m)] for j in range(n)]\n",
    "    main()"
   ]
  }
 ],
 "metadata": {
  "kernelspec": {
   "display_name": "Python 3",
   "language": "python",
   "name": "python3"
  },
  "language_info": {
   "codemirror_mode": {
    "name": "ipython",
    "version": 3
   },
   "file_extension": ".py",
   "mimetype": "text/x-python",
   "name": "python",
   "nbconvert_exporter": "python",
   "pygments_lexer": "ipython3",
   "version": "3.6.6"
  },
  "varInspector": {
   "cols": {
    "lenName": "1001000000",
    "lenType": "10000000",
    "lenVar": "1000000000"
   },
   "kernels_config": {
    "python": {
     "delete_cmd_postfix": "",
     "delete_cmd_prefix": "del ",
     "library": "var_list.py",
     "varRefreshCmd": "print(var_dic_list())"
    },
    "r": {
     "delete_cmd_postfix": ") ",
     "delete_cmd_prefix": "rm(",
     "library": "var_list.r",
     "varRefreshCmd": "cat(var_dic_list()) "
    }
   },
   "types_to_exclude": [
    "module",
    "function",
    "builtin_function_or_method",
    "instance",
    "_Feature"
   ],
   "window_display": true
  }
 },
 "nbformat": 4,
 "nbformat_minor": 4
}
