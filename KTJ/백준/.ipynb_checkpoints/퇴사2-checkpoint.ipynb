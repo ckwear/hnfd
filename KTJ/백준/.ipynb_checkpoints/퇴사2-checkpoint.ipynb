{
 "cells": [
  {
   "cell_type": "markdown",
   "metadata": {},
   "source": [
    "<a href=\"https://www.acmicpc.net/problem/1463\"><img src=\"https://d2gd6pc034wcta.cloudfront.net/images/logo@2x.png\"/></a>"
   ]
  },
  {
   "cell_type": "code",
   "execution_count": null,
   "metadata": {
    "ExecuteTime": {
     "start_time": "2020-06-24T00:19:02.012Z"
    }
   },
   "outputs": [],
   "source": [
    "import heapq\n",
    "import itertools as it\n",
    "import math\n",
    "import copy\n",
    "file_num = 1\n",
    "file_name = ''.join(['14501_1.txt'])\n",
    "f = open(file_name, 'r')\n",
    "def rdline():\n",
    "    return f.readline().strip()\n",
    "n = int(rdline())\n",
    "\n",
    "\n",
    "def getNextTime(to):\n",
    "    list = []\n",
    "    z=k = []\n",
    "    for i in range(1, n+1):\n",
    "        z = range(to, to + tb[to][0])\n",
    "        k = range(i, i + tb[i][0])\n",
    "        #set(z).isdisjoint(x)\n",
    "        if tb[i][0]+i-1 < n+1 and set(z).isdisjoint(k):\n",
    "            list.append(i)\n",
    "    return list\n",
    "\n",
    "database = [[] for i in range(n+1)]\n",
    "a = []\n",
    "b = []\n",
    "asu = 0\n",
    "totu = []\n",
    "def dynamic(to, visited):\n",
    "    global asu\n",
    "    for nxt in getNextTime(to):\n",
    "        y = list(range(nxt, nxt+tb[nxt][0]))\n",
    "        if set(visited).isdisjoint(y):\n",
    "            \n",
    "            visited += y\n",
    "            a.append(nxt)\n",
    "            \n",
    "            asu += tb[nxt][1]\n",
    "            totu.append(asu)\n",
    "            #print(a)\n",
    "            b.append(copy.copy(a))\n",
    "            dynamic(nxt, visited)\n",
    "            a.pop()\n",
    "            asu -= tb[nxt][1]\n",
    "            for i in y:\n",
    "                visited.pop()\n",
    "\n",
    "\n",
    "                \n",
    "def main():\n",
    "    global tb\n",
    "    global n\n",
    "    visited = [0]\n",
    "    x = []\n",
    "    tb = [[] for i in range(n+1)]\n",
    "    if 1 <= n <= 15:\n",
    "        for i in range(n):\n",
    "            term, value = list(map(int, rdline().split()))\n",
    "            if 1<= term <= 5 and 1 <= value <= 1000:\n",
    "                tb[i+1]=[term, value]\n",
    "    tb[0] = [1, 0]\n",
    "    #cycle(n)\n",
    "    dynamic(0, visited)\n",
    "    #print(visited)\n",
    "    print(max(totu))\n",
    "if __name__=='__main__':\n",
    "    main()\n"
   ]
  },
  {
   "cell_type": "code",
   "execution_count": 168,
   "metadata": {
    "ExecuteTime": {
     "end_time": "2020-06-24T00:09:41.429275Z",
     "start_time": "2020-06-24T00:09:41.424538Z"
    }
   },
   "outputs": [
    {
     "data": {
      "text/plain": [
       "True"
      ]
     },
     "execution_count": 168,
     "metadata": {},
     "output_type": "execute_result"
    }
   ],
   "source": [
    "a= [1, 3, 2]\n",
    "set(a).isdisjoint([0, 0])"
   ]
  }
 ],
 "metadata": {
  "kernelspec": {
   "display_name": "Python 3",
   "language": "python",
   "name": "python3"
  },
  "language_info": {
   "codemirror_mode": {
    "name": "ipython",
    "version": 3
   },
   "file_extension": ".py",
   "mimetype": "text/x-python",
   "name": "python",
   "nbconvert_exporter": "python",
   "pygments_lexer": "ipython3",
   "version": "3.6.6"
  },
  "varInspector": {
   "cols": {
    "lenName": "1001000000",
    "lenType": "10000000",
    "lenVar": "1000000000"
   },
   "kernels_config": {
    "python": {
     "delete_cmd_postfix": "",
     "delete_cmd_prefix": "del ",
     "library": "var_list.py",
     "varRefreshCmd": "print(var_dic_list())"
    },
    "r": {
     "delete_cmd_postfix": ") ",
     "delete_cmd_prefix": "rm(",
     "library": "var_list.r",
     "varRefreshCmd": "cat(var_dic_list()) "
    }
   },
   "types_to_exclude": [
    "module",
    "function",
    "builtin_function_or_method",
    "instance",
    "_Feature"
   ],
   "window_display": true
  }
 },
 "nbformat": 4,
 "nbformat_minor": 4
}
