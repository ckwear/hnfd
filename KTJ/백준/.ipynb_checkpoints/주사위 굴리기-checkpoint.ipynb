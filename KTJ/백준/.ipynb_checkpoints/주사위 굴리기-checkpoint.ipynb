{
 "cells": [
  {
   "cell_type": "markdown",
   "metadata": {
    "ExecuteTime": {
     "end_time": "2020-06-20T17:53:36.063501Z",
     "start_time": "2020-06-20T17:53:36.037877Z"
    }
   },
   "source": [
    "<a href=\"https://www.acmicpc.net/problem/14499\"><img src=\"https://d2gd6pc034wcta.cloudfront.net/images/logo@2x.png\"/></a>"
   ]
  },
  {
   "cell_type": "code",
   "execution_count": 89,
   "metadata": {
    "ExecuteTime": {
     "end_time": "2020-06-26T00:41:53.189934Z",
     "start_time": "2020-06-26T00:41:52.244890Z"
    }
   },
   "outputs": [
    {
     "name": "stdout",
     "output_type": "stream",
     "text": [
      "4\n",
      "0\n",
      "0\n",
      "0\n",
      "6\n",
      "0\n",
      "8\n",
      "0\n",
      "2\n",
      "0\n",
      "8\n",
      "0\n",
      "2\n",
      "0\n",
      "8\n",
      "0\n",
      "2\n"
     ]
    }
   ],
   "source": [
    "import itertools as it\n",
    "from operator import itemgetter as itg\n",
    "file_num = int(input())\n",
    "file_name = ''.join(['untitled', str(file_num), '.txt'])\n",
    "f = open(file_name, 'r')\n",
    "maps = []\n",
    "dice = [[0 for i in range(3)] for j in range(4)]\n",
    "#dice = [[0 ,2, 0], [4, 1, 3], [0, 5, 0], [0 ,6, 0]]\n",
    "dy = [1, 0, 0, -1, 1]\n",
    "dx = [1, 1, -1, 0, 0]\n",
    "n = 0\n",
    "def read():\n",
    "    return f.readline().strip()\n",
    "\n",
    "def move_dice(dir):\n",
    "    if dir == 1:\n",
    "        dice[1][0], dice[3][1] = dice[3][1], dice[1][0]\n",
    "        dice[1] = dice[1][1:3] +[dice[1][0]]\n",
    "    elif dir == 2:\n",
    "        dice[1][2], dice[3][1] = dice[3][1], dice[1][2]\n",
    "        dice[1] = [dice[1][-1]] + dice[1][0:2]\n",
    "    elif dir == 4:\n",
    "        line1 = list(map(itg(1), dice))\n",
    "        line1 = line1[1:4] + [line1[0]]\n",
    "        for i in range(4):\n",
    "            dice[i][1] = line1[i]\n",
    "    elif dir == 3:\n",
    "        line1 = list(map(itg(1), dice))\n",
    "        line1 = [line1[-1]] + line1[0:3]\n",
    "        for i in range(4):\n",
    "             dice[i][1] = line1[i]\n",
    "def main():\n",
    "    global maps\n",
    "    global dice\n",
    "    n, m, y, x, t = list(map(int, read().split()))\n",
    "    [maps.append([x for x in list(map(int, read().split()))]) for c in range(n)]\n",
    "    #dice[1][1] = 3\n",
    "    dirs = list(map(int, read().split()))\n",
    "    for dir in dirs:\n",
    "        if 0 <= (y + dy[dir]) and  (y + dy[dir]) < n:\n",
    "            #print(dir)\n",
    "            if 0 <= (x + dx[dir]) and (x + dx[dir]) < m:\n",
    "                \n",
    "                y += dy[dir]\n",
    "                x += dx[dir]\n",
    "                move_dice(dir)\n",
    "                if maps[y][x] == 0:\n",
    "                    maps[y][x] = dice[1][1]\n",
    "                else:\n",
    "                    dice[1][1] = maps[y][x]\n",
    "                    maps[y][x] = 0\n",
    "#                 for i in dice:\n",
    "#                     for j in i:\n",
    "#                         print('%d ' % j, end='')\n",
    "#                     print()\n",
    "#                 print(dir, dice[3][1])\n",
    "                print(dice[3][1])\n",
    "                #print()\n",
    "    \n",
    "if __name__=='__main__':\n",
    "    main()"
   ]
  },
  {
   "cell_type": "code",
   "execution_count": 91,
   "metadata": {
    "ExecuteTime": {
     "end_time": "2020-06-26T00:43:40.534963Z",
     "start_time": "2020-06-26T00:43:24.969051Z"
    }
   },
   "outputs": [
    {
     "name": "stdout",
     "output_type": "stream",
     "text": [
      "3 3 0 0 16\n",
      "0 1 2\n",
      "3 4 5\n",
      "6 7 8\n",
      "4 4 1 1 3 3 2 2 4 4 1 1 3 3 2 2\n",
      "0\n",
      "0\n",
      "0\n",
      "6\n",
      "0\n",
      "8\n",
      "0\n",
      "2\n",
      "0\n",
      "8\n",
      "0\n",
      "2\n",
      "0\n",
      "8\n",
      "0\n",
      "2\n"
     ]
    }
   ],
   "source": [
    "import itertools as it\n",
    "from operator import itemgetter as itg\n",
    "\n",
    "maps = []\n",
    "dice = [[0 for i in range(3)] for j in range(4)]\n",
    "dy = [1, 0, 0, -1, 1]\n",
    "dx = [1, 1, -1, 0, 0]\n",
    "\n",
    "def move_dice(dir):\n",
    "    if dir == 1:\n",
    "        dice[1][0], dice[3][1] = dice[3][1], dice[1][0]\n",
    "        dice[1] = dice[1][1:3] +[dice[1][0]]\n",
    "    elif dir == 2:\n",
    "        dice[1][2], dice[3][1] = dice[3][1], dice[1][2]\n",
    "        dice[1] = [dice[1][-1]] + dice[1][0:2]\n",
    "    elif dir == 4:\n",
    "        line1 = list(map(itg(1), dice))\n",
    "        line1 = line1[1:4] + [line1[0]]\n",
    "        for i in range(4):\n",
    "            dice[i][1] = line1[i]\n",
    "    elif dir == 3:\n",
    "        line1 = list(map(itg(1), dice))\n",
    "        line1 = [line1[-1]] + line1[0:3]\n",
    "        for i in range(4):\n",
    "             dice[i][1] = line1[i]\n",
    "def main():\n",
    "    global maps\n",
    "    global dice\n",
    "    n, m, y, x, t = list(map(int, input().split()))\n",
    "    [maps.append([x for x in list(map(int, input().split()))]) for c in range(n)]\n",
    "    dirs = list(map(int, input().split()))\n",
    "    for dir in dirs:\n",
    "        if 0 <= (y + dy[dir]) and  (y + dy[dir]) < n:\n",
    "            if 0 <= (x + dx[dir]) and (x + dx[dir]) < m:\n",
    "                \n",
    "                y += dy[dir]\n",
    "                x += dx[dir]\n",
    "                move_dice(dir)\n",
    "                if maps[y][x] == 0:\n",
    "                    maps[y][x] = dice[1][1]\n",
    "                else:\n",
    "                    dice[1][1] = maps[y][x]\n",
    "                    maps[y][x] = 0\n",
    "                print(dice[3][1])\n",
    "\n",
    "    \n",
    "if __name__=='__main__':\n",
    "    main()"
   ]
  }
 ],
 "metadata": {
  "kernelspec": {
   "display_name": "Python 3",
   "language": "python",
   "name": "python3"
  },
  "language_info": {
   "codemirror_mode": {
    "name": "ipython",
    "version": 3
   },
   "file_extension": ".py",
   "mimetype": "text/x-python",
   "name": "python",
   "nbconvert_exporter": "python",
   "pygments_lexer": "ipython3",
   "version": "3.6.6"
  },
  "varInspector": {
   "cols": {
    "lenName": "1001000000",
    "lenType": "10000000",
    "lenVar": "1000000000"
   },
   "kernels_config": {
    "python": {
     "delete_cmd_postfix": "",
     "delete_cmd_prefix": "del ",
     "library": "var_list.py",
     "varRefreshCmd": "print(var_dic_list())"
    },
    "r": {
     "delete_cmd_postfix": ") ",
     "delete_cmd_prefix": "rm(",
     "library": "var_list.r",
     "varRefreshCmd": "cat(var_dic_list()) "
    }
   },
   "position": {
    "height": "143.795px",
    "left": "993.81px",
    "right": "20px",
    "top": "117.973px",
    "width": "349.94px"
   },
   "types_to_exclude": [
    "module",
    "function",
    "builtin_function_or_method",
    "instance",
    "_Feature"
   ],
   "window_display": true
  }
 },
 "nbformat": 4,
 "nbformat_minor": 4
}
