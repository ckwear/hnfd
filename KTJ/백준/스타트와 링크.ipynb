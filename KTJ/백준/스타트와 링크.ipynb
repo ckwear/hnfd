{
 "cells": [
  {
   "cell_type": "markdown",
   "metadata": {},
   "source": [
    "<a href=\"https://www.acmicpc.net/problem/14889\"> <img src=\"https://d2gd6pc034wcta.cloudfront.net/images/logo@2x.png\"/>\n",
    "    </a>"
   ]
  },
  {
   "cell_type": "code",
   "execution_count": 41,
   "metadata": {
    "ExecuteTime": {
     "end_time": "2020-07-04T02:16:11.191756Z",
     "start_time": "2020-07-04T02:16:11.174555Z"
    }
   },
   "outputs": [
    {
     "name": "stdout",
     "output_type": "stream",
     "text": [
      "2\n"
     ]
    }
   ],
   "source": [
    "import heapq\n",
    "import itertools as it\n",
    "import math\n",
    "n = 0\n",
    "maps = []\n",
    "visited = []\n",
    "\n",
    "file_name = '14889.txt'\n",
    "f = open(file_name, 'r')\n",
    "def read():\n",
    "    return f.readline().strip()\n",
    "\n",
    "\n",
    "def main():\n",
    "    pps = set(range(n))\n",
    "    result = math.inf\n",
    "    for p in it.combinations(pps, len(pps)//2):\n",
    "        A = set(p)\n",
    "        B = pps-set(p)\n",
    "        sum_A = 0\n",
    "        sum_B = 0\n",
    "        for p2 in it.combinations(A, 2):\n",
    "            sum_A += (maps[p2[0]][p2[1]] + maps[p2[1]][p2[0]])\n",
    "        for p2 in it.combinations(B, 2):\n",
    "            sum_B += (maps[p2[0]][p2[1]] + maps[p2[1]][p2[0]])\n",
    "\n",
    "        if result > abs(sum_A-sum_B):\n",
    "            result = min([result, abs(sum_A-sum_B)])\n",
    "    print(result)\n",
    "if __name__=='__main__':\n",
    "    n = int(read())\n",
    "    [maps.append(list(map(int, read().split()))) for i in range(n)]\n",
    "    visited = [[0 for i in range(n)] for j in range(n)]\n",
    "    main()"
   ]
  }
 ],
 "metadata": {
  "kernelspec": {
   "display_name": "Python 3",
   "language": "python",
   "name": "python3"
  },
  "language_info": {
   "codemirror_mode": {
    "name": "ipython",
    "version": 3
   },
   "file_extension": ".py",
   "mimetype": "text/x-python",
   "name": "python",
   "nbconvert_exporter": "python",
   "pygments_lexer": "ipython3",
   "version": "3.6.6"
  },
  "varInspector": {
   "cols": {
    "lenName": "1001000000",
    "lenType": "10000000",
    "lenVar": "1000000000"
   },
   "kernels_config": {
    "python": {
     "delete_cmd_postfix": "",
     "delete_cmd_prefix": "del ",
     "library": "var_list.py",
     "varRefreshCmd": "print(var_dic_list())"
    },
    "r": {
     "delete_cmd_postfix": ") ",
     "delete_cmd_prefix": "rm(",
     "library": "var_list.r",
     "varRefreshCmd": "cat(var_dic_list()) "
    }
   },
   "types_to_exclude": [
    "module",
    "function",
    "builtin_function_or_method",
    "instance",
    "_Feature"
   ],
   "window_display": false
  }
 },
 "nbformat": 4,
 "nbformat_minor": 4
}
