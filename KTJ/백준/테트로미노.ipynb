{
 "cells": [
  {
   "cell_type": "markdown",
   "metadata": {
    "ExecuteTime": {
     "end_time": "2020-06-21T12:23:40.799841Z",
     "start_time": "2020-06-21T12:23:40.771151Z"
    }
   },
   "source": [
    "<a href=\"https://www.acmicpc.net/problem/14500\"><img src=\"https://d2gd6pc034wcta.cloudfront.net/images/logo@2x.png\" /></a>"
   ]
  },
  {
   "cell_type": "code",
   "execution_count": 27,
   "metadata": {
    "ExecuteTime": {
     "end_time": "2020-06-28T02:14:24.696925Z",
     "start_time": "2020-06-28T02:14:24.678625Z"
    }
   },
   "outputs": [
    {
     "name": "stdout",
     "output_type": "stream",
     "text": [
      "19\n"
     ]
    }
   ],
   "source": [
    "import heapq\n",
    "import itertools as it\n",
    "from collections import deque\n",
    "import bisect\n",
    "\n",
    "maps = []\n",
    "f_number = 1\n",
    "f_name = ''.join(['14500_', str(f_number), '.txt'])\n",
    "f = open(f_name, 'r')\n",
    "\n",
    "class node:\n",
    "    def __init__(self, start_y, start_x, value):\n",
    "        self.start_y = start_y\n",
    "        self.start_x =  start_x\n",
    "        self.value = value\n",
    "\n",
    "def rdline():\n",
    "    return f.readline().strip()\n",
    "\n",
    "def grid(maps, start_y, start_x, n, m):\n",
    "    dy = [1, -1, 0, 0]\n",
    "    dx = [0, 0, 1, -1]\n",
    "    heap = []\n",
    "    nodes = []\n",
    "    heapq.heappush(nodes, (start_y, start_x))\n",
    "    cnt = 0\n",
    "    next_y = start_y\n",
    "    next_x = start_x\n",
    "    sum = maps[start_y][start_x]\n",
    "    visited = [[0 for i in range(m)] for i in range(n)]\n",
    "    nodes = [(start_y, start_x)]\n",
    "    visited[start_y][start_x] = 1\n",
    "    while cnt < 3:\n",
    "        \n",
    "        for curn_y, curn_x in nodes:\n",
    "            for dir in range(4):\n",
    "                tmp_y = curn_y + dy[dir]\n",
    "                tmp_x = curn_x + dx[dir]\n",
    "                if 0<= tmp_y < n and 0 <= tmp_x < m:\n",
    "                    heapq.heappush(heap, (-maps[tmp_y][tmp_x], tmp_y, tmp_x))\n",
    "\n",
    "        while len(heap) > 0:\n",
    "            x, next_y, next_x = heapq.heappop(heap)\n",
    "            if visited[next_y][next_x] == 0:\n",
    "                heapq.heappush(nodes, (next_y, next_x))\n",
    "                visited[next_y][next_x] = 1\n",
    "                break\n",
    "        sum += abs(x)\n",
    "        del heap[:]\n",
    "        cnt += 1\n",
    "    return sum\n",
    "def main():\n",
    "    n, m = list(map(int, rdline().split()))\n",
    "    if 4 <= n and m <= 500:\n",
    "        maps = [[x for x in list(map(int, rdline().split()))] for i in range(n)]\n",
    "        line_map = [maps[j][i] for i in range(m)\n",
    "                                for j in range(n)]\n",
    "        start_point = line_map.index(max(line_map))\n",
    "        start_x, start_y = divmod(start_point, n)\n",
    "        print(grid(maps, start_y, start_x, n, m))\n",
    "        f.close()\n",
    "    \n",
    "if __name__=='__main__':\n",
    "    main()"
   ]
  },
  {
   "cell_type": "code",
   "execution_count": 85,
   "metadata": {
    "ExecuteTime": {
     "end_time": "2020-06-28T06:47:23.785680Z",
     "start_time": "2020-06-28T06:47:23.753150Z"
    }
   },
   "outputs": [
    {
     "name": "stdout",
     "output_type": "stream",
     "text": [
      "[[1, 1, 1, 1, 1], [1, 1, 1, 1, 1], [1, 1, 1, 1, 1], [10, 10, 10, 1, 1], [1, 10, 1, 1, 1]]\n",
      "40\n",
      "40\n"
     ]
    }
   ],
   "source": [
    "import heapq\n",
    "import itertools as it\n",
    "from collections import deque\n",
    "import bisect\n",
    "from collections import OrderedDict\n",
    "\n",
    "\n",
    "maps = []\n",
    "f_number = 1\n",
    "f_name = ''.join(['14500_', str(f_number), '.txt'])\n",
    "where = []\n",
    "dy = [0, 0, 1, -1]\n",
    "dx = [1, -1, 0, 0]\n",
    "n = 0\n",
    "m = 0\n",
    "f = open(f_name, 'r')\n",
    "result = 1\n",
    "visited = []\n",
    "def read():\n",
    "    return f.readline().strip()\n",
    "    \n",
    "def DFS(y, x, sum_value, dfs_len):\n",
    "    \n",
    "    global result\n",
    "    if dfs_len >= 4:\n",
    "        result = max(result, sum_value)\n",
    "        return\n",
    "    \n",
    "    for dir in range(4):\n",
    "        ny = y+dy[dir]\n",
    "        nx = x+dx[dir]\n",
    "        \n",
    "        if 0 <= ny < n and 0 <= nx < m: \n",
    "            if not visited[ny][nx]:\n",
    "                visited[ny][nx] = True\n",
    "                DFS(ny, nx, sum_value + maps[ny][nx], dfs_len+1)\n",
    "\n",
    "                visited[ny][nx] = False\n",
    "                \n",
    "def make(y, x):\n",
    "    global result\n",
    "    sum_a = maps[y][x]\n",
    "    for cmb in it.combinations(list(range(4)), 3):\n",
    "        for dir in cmb:            \n",
    "            ny = y+dy[dir]\n",
    "            nx = x+dx[dir]\n",
    "            if 0 <= ny < n and 0 <= nx < m:\n",
    "                sum_a += maps[ny][nx]\n",
    "            else:\n",
    "                sum_a = 0\n",
    "                break\n",
    "        result = max(sum_a, result)\n",
    "        sum_a = 0\n",
    "def main():\n",
    "    global n\n",
    "    global m\n",
    "    global visited\n",
    "    n, m = list(map(int, read().split()))\n",
    "    [maps.append(list(map(int, read().split()))) for i in range(n)]\n",
    "    visited = [[False for i in range(m)]for j in range(n)]\n",
    "    print(maps)\n",
    "    for i in range(n):\n",
    "        for j in range(m):\n",
    "            \n",
    "            visited[i][j] = True\n",
    "            DFS(i, j, maps[i][j], 1)\n",
    "            visited[i][j] = False\n",
    "            make(i,j)\n",
    "\n",
    "    print(result)\n",
    "if __name__=='__main__':\n",
    "    main()\n",
    "    result = 0\n",
    "    make(3,1)\n",
    "    print(result)"
   ]
  },
  {
   "cell_type": "code",
   "execution_count": 86,
   "metadata": {
    "ExecuteTime": {
     "end_time": "2020-06-28T06:50:20.358084Z",
     "start_time": "2020-06-28T06:47:34.721310Z"
    }
   },
   "outputs": [
    {
     "name": "stdout",
     "output_type": "stream",
     "text": [
      "5 5\n"
     ]
    },
    {
     "ename": "KeyboardInterrupt",
     "evalue": "Interrupted by user",
     "output_type": "error",
     "traceback": [
      "\u001b[0;31m---------------------------------------------------------------------------\u001b[0m",
      "\u001b[0;31mKeyboardInterrupt\u001b[0m                         Traceback (most recent call last)",
      "\u001b[0;32m<ipython-input-86-11397be984da>\u001b[0m in \u001b[0;36m<module>\u001b[0;34m\u001b[0m\n\u001b[1;32m     64\u001b[0m     \u001b[0mprint\u001b[0m\u001b[0;34m(\u001b[0m\u001b[0mresult\u001b[0m\u001b[0;34m)\u001b[0m\u001b[0;34m\u001b[0m\u001b[0m\n\u001b[1;32m     65\u001b[0m \u001b[0;32mif\u001b[0m \u001b[0m__name__\u001b[0m\u001b[0;34m==\u001b[0m\u001b[0;34m'__main__'\u001b[0m\u001b[0;34m:\u001b[0m\u001b[0;34m\u001b[0m\u001b[0m\n\u001b[0;32m---> 66\u001b[0;31m     \u001b[0mmain\u001b[0m\u001b[0;34m(\u001b[0m\u001b[0;34m)\u001b[0m\u001b[0;34m\u001b[0m\u001b[0m\n\u001b[0m",
      "\u001b[0;32m<ipython-input-86-11397be984da>\u001b[0m in \u001b[0;36mmain\u001b[0;34m()\u001b[0m\n\u001b[1;32m     52\u001b[0m     \u001b[0;32mglobal\u001b[0m \u001b[0mvisited\u001b[0m\u001b[0;34m\u001b[0m\u001b[0m\n\u001b[1;32m     53\u001b[0m     \u001b[0mn\u001b[0m\u001b[0;34m,\u001b[0m \u001b[0mm\u001b[0m \u001b[0;34m=\u001b[0m \u001b[0mlist\u001b[0m\u001b[0;34m(\u001b[0m\u001b[0mmap\u001b[0m\u001b[0;34m(\u001b[0m\u001b[0mint\u001b[0m\u001b[0;34m,\u001b[0m \u001b[0minput\u001b[0m\u001b[0;34m(\u001b[0m\u001b[0;34m)\u001b[0m\u001b[0;34m.\u001b[0m\u001b[0msplit\u001b[0m\u001b[0;34m(\u001b[0m\u001b[0;34m)\u001b[0m\u001b[0;34m)\u001b[0m\u001b[0;34m)\u001b[0m\u001b[0;34m\u001b[0m\u001b[0m\n\u001b[0;32m---> 54\u001b[0;31m     \u001b[0;34m[\u001b[0m\u001b[0mmaps\u001b[0m\u001b[0;34m.\u001b[0m\u001b[0mappend\u001b[0m\u001b[0;34m(\u001b[0m\u001b[0mlist\u001b[0m\u001b[0;34m(\u001b[0m\u001b[0mmap\u001b[0m\u001b[0;34m(\u001b[0m\u001b[0mint\u001b[0m\u001b[0;34m,\u001b[0m \u001b[0minput\u001b[0m\u001b[0;34m(\u001b[0m\u001b[0;34m)\u001b[0m\u001b[0;34m.\u001b[0m\u001b[0msplit\u001b[0m\u001b[0;34m(\u001b[0m\u001b[0;34m)\u001b[0m\u001b[0;34m)\u001b[0m\u001b[0;34m)\u001b[0m\u001b[0;34m)\u001b[0m \u001b[0;32mfor\u001b[0m \u001b[0mi\u001b[0m \u001b[0;32min\u001b[0m \u001b[0mrange\u001b[0m\u001b[0;34m(\u001b[0m\u001b[0mn\u001b[0m\u001b[0;34m)\u001b[0m\u001b[0;34m]\u001b[0m\u001b[0;34m\u001b[0m\u001b[0m\n\u001b[0m\u001b[1;32m     55\u001b[0m     \u001b[0mvisited\u001b[0m \u001b[0;34m=\u001b[0m \u001b[0;34m[\u001b[0m\u001b[0;34m[\u001b[0m\u001b[0;32mFalse\u001b[0m \u001b[0;32mfor\u001b[0m \u001b[0mi\u001b[0m \u001b[0;32min\u001b[0m \u001b[0mrange\u001b[0m\u001b[0;34m(\u001b[0m\u001b[0mm\u001b[0m\u001b[0;34m)\u001b[0m\u001b[0;34m]\u001b[0m\u001b[0;32mfor\u001b[0m \u001b[0mj\u001b[0m \u001b[0;32min\u001b[0m \u001b[0mrange\u001b[0m\u001b[0;34m(\u001b[0m\u001b[0mn\u001b[0m\u001b[0;34m)\u001b[0m\u001b[0;34m]\u001b[0m\u001b[0;34m\u001b[0m\u001b[0m\n\u001b[1;32m     56\u001b[0m     \u001b[0;32mfor\u001b[0m \u001b[0mi\u001b[0m \u001b[0;32min\u001b[0m \u001b[0mrange\u001b[0m\u001b[0;34m(\u001b[0m\u001b[0mn\u001b[0m\u001b[0;34m)\u001b[0m\u001b[0;34m:\u001b[0m\u001b[0;34m\u001b[0m\u001b[0m\n",
      "\u001b[0;32m<ipython-input-86-11397be984da>\u001b[0m in \u001b[0;36m<listcomp>\u001b[0;34m(.0)\u001b[0m\n\u001b[1;32m     52\u001b[0m     \u001b[0;32mglobal\u001b[0m \u001b[0mvisited\u001b[0m\u001b[0;34m\u001b[0m\u001b[0m\n\u001b[1;32m     53\u001b[0m     \u001b[0mn\u001b[0m\u001b[0;34m,\u001b[0m \u001b[0mm\u001b[0m \u001b[0;34m=\u001b[0m \u001b[0mlist\u001b[0m\u001b[0;34m(\u001b[0m\u001b[0mmap\u001b[0m\u001b[0;34m(\u001b[0m\u001b[0mint\u001b[0m\u001b[0;34m,\u001b[0m \u001b[0minput\u001b[0m\u001b[0;34m(\u001b[0m\u001b[0;34m)\u001b[0m\u001b[0;34m.\u001b[0m\u001b[0msplit\u001b[0m\u001b[0;34m(\u001b[0m\u001b[0;34m)\u001b[0m\u001b[0;34m)\u001b[0m\u001b[0;34m)\u001b[0m\u001b[0;34m\u001b[0m\u001b[0m\n\u001b[0;32m---> 54\u001b[0;31m     \u001b[0;34m[\u001b[0m\u001b[0mmaps\u001b[0m\u001b[0;34m.\u001b[0m\u001b[0mappend\u001b[0m\u001b[0;34m(\u001b[0m\u001b[0mlist\u001b[0m\u001b[0;34m(\u001b[0m\u001b[0mmap\u001b[0m\u001b[0;34m(\u001b[0m\u001b[0mint\u001b[0m\u001b[0;34m,\u001b[0m \u001b[0minput\u001b[0m\u001b[0;34m(\u001b[0m\u001b[0;34m)\u001b[0m\u001b[0;34m.\u001b[0m\u001b[0msplit\u001b[0m\u001b[0;34m(\u001b[0m\u001b[0;34m)\u001b[0m\u001b[0;34m)\u001b[0m\u001b[0;34m)\u001b[0m\u001b[0;34m)\u001b[0m \u001b[0;32mfor\u001b[0m \u001b[0mi\u001b[0m \u001b[0;32min\u001b[0m \u001b[0mrange\u001b[0m\u001b[0;34m(\u001b[0m\u001b[0mn\u001b[0m\u001b[0;34m)\u001b[0m\u001b[0;34m]\u001b[0m\u001b[0;34m\u001b[0m\u001b[0m\n\u001b[0m\u001b[1;32m     55\u001b[0m     \u001b[0mvisited\u001b[0m \u001b[0;34m=\u001b[0m \u001b[0;34m[\u001b[0m\u001b[0;34m[\u001b[0m\u001b[0;32mFalse\u001b[0m \u001b[0;32mfor\u001b[0m \u001b[0mi\u001b[0m \u001b[0;32min\u001b[0m \u001b[0mrange\u001b[0m\u001b[0;34m(\u001b[0m\u001b[0mm\u001b[0m\u001b[0;34m)\u001b[0m\u001b[0;34m]\u001b[0m\u001b[0;32mfor\u001b[0m \u001b[0mj\u001b[0m \u001b[0;32min\u001b[0m \u001b[0mrange\u001b[0m\u001b[0;34m(\u001b[0m\u001b[0mn\u001b[0m\u001b[0;34m)\u001b[0m\u001b[0;34m]\u001b[0m\u001b[0;34m\u001b[0m\u001b[0m\n\u001b[1;32m     56\u001b[0m     \u001b[0;32mfor\u001b[0m \u001b[0mi\u001b[0m \u001b[0;32min\u001b[0m \u001b[0mrange\u001b[0m\u001b[0;34m(\u001b[0m\u001b[0mn\u001b[0m\u001b[0;34m)\u001b[0m\u001b[0;34m:\u001b[0m\u001b[0;34m\u001b[0m\u001b[0m\n",
      "\u001b[0;32m~/anaconda3/envs/test/lib/python3.6/site-packages/ipykernel/kernelbase.py\u001b[0m in \u001b[0;36mraw_input\u001b[0;34m(self, prompt)\u001b[0m\n\u001b[1;32m    861\u001b[0m             \u001b[0mself\u001b[0m\u001b[0;34m.\u001b[0m\u001b[0m_parent_ident\u001b[0m\u001b[0;34m,\u001b[0m\u001b[0;34m\u001b[0m\u001b[0m\n\u001b[1;32m    862\u001b[0m             \u001b[0mself\u001b[0m\u001b[0;34m.\u001b[0m\u001b[0m_parent_header\u001b[0m\u001b[0;34m,\u001b[0m\u001b[0;34m\u001b[0m\u001b[0m\n\u001b[0;32m--> 863\u001b[0;31m             \u001b[0mpassword\u001b[0m\u001b[0;34m=\u001b[0m\u001b[0;32mFalse\u001b[0m\u001b[0;34m,\u001b[0m\u001b[0;34m\u001b[0m\u001b[0m\n\u001b[0m\u001b[1;32m    864\u001b[0m         )\n\u001b[1;32m    865\u001b[0m \u001b[0;34m\u001b[0m\u001b[0m\n",
      "\u001b[0;32m~/anaconda3/envs/test/lib/python3.6/site-packages/ipykernel/kernelbase.py\u001b[0m in \u001b[0;36m_input_request\u001b[0;34m(self, prompt, ident, parent, password)\u001b[0m\n\u001b[1;32m    902\u001b[0m             \u001b[0;32mexcept\u001b[0m \u001b[0mKeyboardInterrupt\u001b[0m\u001b[0;34m:\u001b[0m\u001b[0;34m\u001b[0m\u001b[0m\n\u001b[1;32m    903\u001b[0m                 \u001b[0;31m# re-raise KeyboardInterrupt, to truncate traceback\u001b[0m\u001b[0;34m\u001b[0m\u001b[0;34m\u001b[0m\u001b[0m\n\u001b[0;32m--> 904\u001b[0;31m                 \u001b[0;32mraise\u001b[0m \u001b[0mKeyboardInterrupt\u001b[0m\u001b[0;34m(\u001b[0m\u001b[0;34m\"Interrupted by user\"\u001b[0m\u001b[0;34m)\u001b[0m \u001b[0;32mfrom\u001b[0m \u001b[0;32mNone\u001b[0m\u001b[0;34m\u001b[0m\u001b[0m\n\u001b[0m\u001b[1;32m    905\u001b[0m             \u001b[0;32mexcept\u001b[0m \u001b[0mException\u001b[0m \u001b[0;32mas\u001b[0m \u001b[0me\u001b[0m\u001b[0;34m:\u001b[0m\u001b[0;34m\u001b[0m\u001b[0m\n\u001b[1;32m    906\u001b[0m                 \u001b[0mself\u001b[0m\u001b[0;34m.\u001b[0m\u001b[0mlog\u001b[0m\u001b[0;34m.\u001b[0m\u001b[0mwarning\u001b[0m\u001b[0;34m(\u001b[0m\u001b[0;34m\"Invalid Message:\"\u001b[0m\u001b[0;34m,\u001b[0m \u001b[0mexc_info\u001b[0m\u001b[0;34m=\u001b[0m\u001b[0;32mTrue\u001b[0m\u001b[0;34m)\u001b[0m\u001b[0;34m\u001b[0m\u001b[0m\n",
      "\u001b[0;31mKeyboardInterrupt\u001b[0m: Interrupted by user"
     ]
    }
   ],
   "source": [
    "import heapq\n",
    "import itertools as it\n",
    "from collections import deque\n",
    "import bisect\n",
    "from collections import OrderedDict\n",
    "\n",
    "\n",
    "maps = []\n",
    "dy = [0, 0, 1, -1]\n",
    "dx = [1, -1, 0, 0]\n",
    "n = 0\n",
    "m = 0\n",
    "result = 1\n",
    "visited = []\n",
    "shape = [[0, 0, 1, -1], [0], [0], [0]]\n",
    "    \n",
    "def DFS(y, x, sum_value, dfs_len):\n",
    "    \n",
    "    global result\n",
    "    if dfs_len >= 4:\n",
    "        result = max(result, sum_value)\n",
    "        return\n",
    "    \n",
    "    for dir in range(4):\n",
    "        ny = y+dy[dir]\n",
    "        nx = x+dx[dir]\n",
    "        \n",
    "        if 0 <= ny < n and 0 <= nx < m: \n",
    "            if not visited[ny][nx]:\n",
    "                visited[ny][nx] = True\n",
    "                DFS(ny, nx, sum_value + maps[ny][nx], dfs_len+1)\n",
    "\n",
    "                visited[ny][nx] = False\n",
    "                \n",
    "def make(y, x):\n",
    "    global result\n",
    "    sum_a = maps[y][x]\n",
    "    for cmb in it.combinations(list(range(4)), 3):\n",
    "        for dir in cmb:            \n",
    "            ny = y+dy[dir]\n",
    "            nx = x+dx[dir]\n",
    "            if 0 <= ny < n and 0 <= nx < m:\n",
    "                sum_a += maps[ny][nx]\n",
    "            else:\n",
    "                sum_a = 0\n",
    "                break\n",
    "        result = max(sum_a, result)\n",
    "        sum_a = 0\n",
    "def main():\n",
    "    global n\n",
    "    global m\n",
    "    global visited\n",
    "    n, m = list(map(int, input().split()))\n",
    "    [maps.append(list(map(int, input().split()))) for i in range(n)]\n",
    "    visited = [[False for i in range(m)]for j in range(n)]\n",
    "    for i in range(n):\n",
    "        for j in range(m):\n",
    "            \n",
    "            visited[i][j] = True\n",
    "            DFS(i, j, maps[i][j], 1)\n",
    "            visited[i][j] = False\n",
    "            make(i,j)\n",
    "\n",
    "    print(result)\n",
    "if __name__=='__main__':\n",
    "    main()"
   ]
  }
 ],
 "metadata": {
  "kernelspec": {
   "display_name": "Tensorflow",
   "language": "python",
   "name": "test"
  },
  "language_info": {
   "codemirror_mode": {
    "name": "ipython",
    "version": 3
   },
   "file_extension": ".py",
   "mimetype": "text/x-python",
   "name": "python",
   "nbconvert_exporter": "python",
   "pygments_lexer": "ipython3",
   "version": "3.6.6"
  },
  "varInspector": {
   "cols": {
    "lenName": "1001000000",
    "lenType": "10000000",
    "lenVar": "1000000000"
   },
   "kernels_config": {
    "python": {
     "delete_cmd_postfix": "",
     "delete_cmd_prefix": "del ",
     "library": "var_list.py",
     "varRefreshCmd": "print(var_dic_list())"
    },
    "r": {
     "delete_cmd_postfix": ") ",
     "delete_cmd_prefix": "rm(",
     "library": "var_list.r",
     "varRefreshCmd": "cat(var_dic_list()) "
    }
   },
   "types_to_exclude": [
    "module",
    "function",
    "builtin_function_or_method",
    "instance",
    "_Feature"
   ],
   "window_display": true
  }
 },
 "nbformat": 4,
 "nbformat_minor": 4
}
