{
 "cells": [
  {
   "cell_type": "markdown",
   "metadata": {},
   "source": [
    "<a href=\"https://www.acmicpc.net/problem/14888\"><img src=\"https://d2gd6pc034wcta.cloudfront.net/images/logo@2x.png\"/></a>"
   ]
  },
  {
   "cell_type": "code",
   "execution_count": 95,
   "metadata": {
    "ExecuteTime": {
     "end_time": "2020-07-03T00:45:30.364301Z",
     "start_time": "2020-07-03T00:45:30.344647Z"
    }
   },
   "outputs": [
    {
     "name": "stdout",
     "output_type": "stream",
     "text": [
      "-5\n",
      "-16\n"
     ]
    }
   ],
   "source": [
    "import itertools as it\n",
    "from collections import deque\n",
    "import math\n",
    "file_name = '14888.txt'\n",
    "f = open(file_name, 'r')\n",
    "\n",
    "def read():\n",
    "    return f.readline().strip()\n",
    "\n",
    "def pls(w, k):\n",
    "    return w + k\n",
    "\n",
    "def sub(w, k):\n",
    "    return w - k\n",
    "\n",
    "def mul(w, k):\n",
    "    return w * k\n",
    "\n",
    "def div(w, k):\n",
    "    return int(w / k)\n",
    "\n",
    "def main():\n",
    "    max_num = -math.inf\n",
    "    min_num = math.inf\n",
    "    nbs = deque()\n",
    "    n = list(map(int, read()))\n",
    "    [nbs.append(z) for z in list(map(int, read().split()))]\n",
    "    oprt = list(map(int, read().split()))\n",
    "    d = nbs.copy()\n",
    "    oprt_sub = [pls for c in range(oprt[0])]\n",
    "    oprt_sub = oprt_sub + [sub for c in range(oprt[1])]\n",
    "    oprt_sub = oprt_sub + [mul for c in range(oprt[2])]\n",
    "    oprt_sub = oprt_sub + [div for c in range(oprt[3])]\n",
    "    for p in it.permutations(oprt_sub, len(oprt_sub)):\n",
    "        nbs = d.copy()\n",
    "        for calc in p:\n",
    "            if len(nbs) >= 2:\n",
    "                x = nbs.popleft()\n",
    "                y = nbs.popleft()\n",
    "                z = calc(x, y)\n",
    "                #print(x, y, z)\n",
    "                nbs.appendleft(z)\n",
    "            if len(nbs) == 1:\n",
    "                result = nbs.popleft()\n",
    "\n",
    "                max_num = max([result, max_num])\n",
    "                min_num = min([result, min_num])\n",
    "\n",
    "    print(max_num)            \n",
    "    print(min_num)\n",
    "if __name__=='__main__':\n",
    "    main()"
   ]
  }
 ],
 "metadata": {
  "kernelspec": {
   "display_name": "Python 3",
   "language": "python",
   "name": "python3"
  },
  "language_info": {
   "codemirror_mode": {
    "name": "ipython",
    "version": 3
   },
   "file_extension": ".py",
   "mimetype": "text/x-python",
   "name": "python",
   "nbconvert_exporter": "python",
   "pygments_lexer": "ipython3",
   "version": "3.6.6"
  },
  "varInspector": {
   "cols": {
    "lenName": "1001000000",
    "lenType": "10000000",
    "lenVar": "1000000000"
   },
   "kernels_config": {
    "python": {
     "delete_cmd_postfix": "",
     "delete_cmd_prefix": "del ",
     "library": "var_list.py",
     "varRefreshCmd": "print(var_dic_list())"
    },
    "r": {
     "delete_cmd_postfix": ") ",
     "delete_cmd_prefix": "rm(",
     "library": "var_list.r",
     "varRefreshCmd": "cat(var_dic_list()) "
    }
   },
   "types_to_exclude": [
    "module",
    "function",
    "builtin_function_or_method",
    "instance",
    "_Feature"
   ],
   "window_display": false
  }
 },
 "nbformat": 4,
 "nbformat_minor": 4
}
