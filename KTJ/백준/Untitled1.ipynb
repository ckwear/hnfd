{
 "cells": [
  {
   "cell_type": "markdown",
   "metadata": {},
   "source": [
    "<a href=\"https://www.acmicpc.net/problem/16637\"><img src=\"https://d2gd6pc034wcta.cloudfront.net/images/logo@2x.png\" /></a>"
   ]
  },
  {
   "cell_type": "code",
   "execution_count": 37,
   "metadata": {
    "ExecuteTime": {
     "end_time": "2020-07-16T08:36:58.526682Z",
     "start_time": "2020-07-16T08:36:58.508330Z"
    }
   },
   "outputs": [
    {
     "name": "stdout",
     "output_type": "stream",
     "text": [
      "[0, 2, 4, 6]\n"
     ]
    }
   ],
   "source": [
    "import itertools as it\n",
    "import re\n",
    "import copy\n",
    "\n",
    "import sys\n",
    "sys.setrecursionlimit(10**5)\n",
    "f = open('16637.txt', 'r')\n",
    "def read():\n",
    "    return f.readline().strip()\n",
    "\n",
    "def excute(arr, p):\n",
    "    if arr[p+1] == '*':\n",
    "        tmp = arr[p] * arr[p+2]\n",
    "    if arr[p+1] == '-':\n",
    "        tmp = arr[p] - arr[p+2]\n",
    "    if arr[p+1] == '+':\n",
    "        tmp = arr[p] + arr[p+2]\n",
    "    del arr[p]\n",
    "    del arr[p]\n",
    "    del arr[p]\n",
    "    arr.insert(p, tmp)\n",
    "\n",
    "while True:\n",
    "    exc = read()\n",
    "    digit = []\n",
    "    calc = []\n",
    "    \n",
    "    excu = [0 for i in range(len(exc))]\n",
    "    if not exc:\n",
    "        break\n",
    "    digit = re.findall('\\d+', exc)\n",
    "    calc = re.findall('[*+-]', exc)\n",
    "    digit = list(map(int, digit))\n",
    "    for c in range(exc):\n",
    "        if c == '-':\n",
    "            excu2.append()\n",
    "    inx = [i*2 for i in range(len(digit)-1)]\n",
    "    excu[::2] = digit\n",
    "    excu[1::2] = calc\n",
    "    excute(excu, 2)\n",
    "    print(inx)\n",
    "    \n"
   ]
  },
  {
   "cell_type": "code",
   "execution_count": 25,
   "metadata": {
    "ExecuteTime": {
     "end_time": "2020-07-16T08:29:09.821042Z",
     "start_time": "2020-07-16T08:29:09.815835Z"
    }
   },
   "outputs": [
    {
     "name": "stdout",
     "output_type": "stream",
     "text": [
      "[0, 1, 2, 3, 4, 5, 6, 7, 8, 9]\n",
      "[0, 4, 2, 3, 4, 5, 6, 7, 8, 9]\n",
      "[4, 3, 5, 7, 9]\n"
     ]
    }
   ],
   "source": [
    "a = list(range(10))\n",
    "print(a)\n",
    "a[1:3] = [4,2]\n",
    "print(a)\n",
    "print(a[1::2])"
   ]
  }
 ],
 "metadata": {
  "kernelspec": {
   "display_name": "Python 3",
   "language": "python",
   "name": "python3"
  },
  "language_info": {
   "codemirror_mode": {
    "name": "ipython",
    "version": 3
   },
   "file_extension": ".py",
   "mimetype": "text/x-python",
   "name": "python",
   "nbconvert_exporter": "python",
   "pygments_lexer": "ipython3",
   "version": "3.6.6"
  },
  "varInspector": {
   "cols": {
    "lenName": "1001000000",
    "lenType": "10000000",
    "lenVar": "1000000000"
   },
   "kernels_config": {
    "python": {
     "delete_cmd_postfix": "",
     "delete_cmd_prefix": "del ",
     "library": "var_list.py",
     "varRefreshCmd": "print(var_dic_list())"
    },
    "r": {
     "delete_cmd_postfix": ") ",
     "delete_cmd_prefix": "rm(",
     "library": "var_list.r",
     "varRefreshCmd": "cat(var_dic_list()) "
    }
   },
   "types_to_exclude": [
    "module",
    "function",
    "builtin_function_or_method",
    "instance",
    "_Feature"
   ],
   "window_display": true
  }
 },
 "nbformat": 4,
 "nbformat_minor": 4
}
