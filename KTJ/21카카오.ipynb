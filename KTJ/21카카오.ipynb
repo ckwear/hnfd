{
 "cells": [
  {
   "cell_type": "code",
   "execution_count": 107,
   "metadata": {
    "ExecuteTime": {
     "end_time": "2020-09-12T06:10:34.698423Z",
     "start_time": "2020-09-12T06:10:34.677263Z"
    }
   },
   "outputs": [
    {
     "data": {
      "text/plain": [
       "'bat.y.abcdefghi'"
      ]
     },
     "execution_count": 107,
     "metadata": {},
     "output_type": "execute_result"
    }
   ],
   "source": [
    "# 77 127 78 97~122\n",
    "new_id = \"...!@BaT#*..y.abcdefghijklm\"\n",
    "# new_id = \"z-+.^.\"\n",
    "new_id = new_id.lower()\n",
    "new_id = list(map(str, new_id))\n",
    "new_t = []\n",
    "for i in new_id:\n",
    "    if i == '.' or i == '-' or i == '_' or 97 <= ord(i) and ord(i) <= 122:\n",
    "        new_t.append(i)\n",
    "    if 48 <= ord(i) and ord(i) <= 57:\n",
    "\n",
    "        new_t.append(i)\n",
    "# od = new_t.pop(o)\n",
    "new_tt = []\n",
    "while new_t:\n",
    "    curn = new_t.pop(0)\n",
    "    if curn == '.':\n",
    "        new_tt.append(curn)\n",
    "        while new_t:\n",
    "            curn = new_t.pop(0)\n",
    "            if curn != '.':\n",
    "                new_tt.append(curn)\n",
    "                break\n",
    "    else:\n",
    "        new_tt.append(curn)\n",
    "new_t = new_tt\n",
    "\n",
    "\n",
    "while new_t:\n",
    "    tmp = new_t.pop(0)\n",
    "    if tmp != '.':\n",
    "        new_t = [tmp] + new_t\n",
    "        break\n",
    "\n",
    "\n",
    "while new_t:\n",
    "    tmp = new_t.pop()\n",
    "    if tmp != '.':\n",
    "        new_t += [tmp]\n",
    "        break\n",
    "\n",
    "answer = ''.join(new_t)\n",
    "\n",
    "if len(answer) == 0:\n",
    "    answer = 'a'\n",
    "if len(answer) > 15:\n",
    "    answer = answer[:15]\n",
    "\n",
    "if len(answer) <= 2:\n",
    "    answer += answer[-1] * (3-len(answer))\n",
    "new_t = list(map(str, answer))\n",
    "while new_t:\n",
    "    tmp = new_t.pop()\n",
    "    if tmp != '.':\n",
    "        new_t += [tmp]\n",
    "        break\n",
    "answer = ''.join(new_t)\n",
    "answer\n",
    "#bat.y.abcdefghi"
   ]
  },
  {
   "cell_type": "code",
   "execution_count": 140,
   "metadata": {
    "ExecuteTime": {
     "end_time": "2020-09-12T06:25:07.642894Z",
     "start_time": "2020-09-12T06:25:07.625488Z"
    }
   },
   "outputs": [
    {
     "name": "stdout",
     "output_type": "stream",
     "text": [
      "1\n",
      "1\n",
      "1\n",
      "1\n",
      "1\n",
      "1\n",
      "1\n",
      "1\n",
      "1\n",
      "1\n",
      "1\n",
      "1\n",
      "1\n",
      "1\n",
      "1\n",
      "1\n",
      "1\n",
      "1\n",
      "1\n",
      "1\n",
      "1\n",
      "1\n",
      "1\n",
      "1\n",
      "1\n",
      "1\n",
      "1\n",
      "1\n",
      "1\n",
      "1\n",
      "1\n",
      "1\n",
      "1\n",
      "1\n",
      "1\n",
      "1\n",
      "1\n",
      "1\n",
      "1\n",
      "1\n"
     ]
    }
   ],
   "source": [
    "orders = [\"ABCFG\", \"AC\", \"CDE\", \"ACDE\", \"BCFG\", \"ACDEH\"]\n",
    "# orders = [\"ABCDE\", \"AB\", \"CD\", \"ADE\", \"XYZ\", \"XYZ\", \"ACD\"]\n",
    "# orders = [\"XYZ\", \"XWY\", \"WXA\"]\n",
    "course = [2,3,4]\n",
    "course = [2,3,5]\n",
    "course = [2,3,4]\n",
    "# dic = {1:0, 2:0, 3:0, 4:0}\n",
    "# course -= 1\n",
    "cs = [['A', 'C'],\n",
    "        ['C', 'D', 'E'],\n",
    "        ['B', 'C', 'F', 'G'],\n",
    "        ['A', 'C', 'D', 'E']]\n",
    "for i in course:\n",
    "    mu = cs[i]\n",
    "    for j in orders:\n",
    "        cnt = 0\n",
    "        for k in mu:\n",
    "            if k in j:\n",
    "                cnt += 1\n",
    "        if len(mu) == cnt:\n",
    "        "
   ]
  },
  {
   "cell_type": "code",
   "execution_count": 184,
   "metadata": {
    "ExecuteTime": {
     "end_time": "2020-09-12T07:00:39.484968Z",
     "start_time": "2020-09-12T07:00:39.465526Z"
    }
   },
   "outputs": [],
   "source": [
    "info = [\"java backend junior pizza 150\",\"python frontend senior chicken 210\",\"python frontend senior chicken 150\",\"cpp backend senior pizza 260\"\n",
    "        ,\"java backend junior chicken 80\",\"python backend senior chicken 50\"]\n",
    "qry = [\"java and backend and junior and pizza 100\",\"python and frontend and senior and chicken 200\",\"cpp and - and senior and pizza 250\",\"- and backend and senior and - 150\",\"- and - and - and chicken 100\",\"- and - and - and - 150\"]\t\n",
    "info_t = []\n",
    "for i in info:\n",
    "    info_t.append(list(map(str, i.split())))\n",
    "qry_t = []\n",
    "info = info_t\n",
    "for i in qry:\n",
    "    qry_t.append(list(map(str, i.split(' and '))))\n",
    "qry = qry_t\n",
    "qry_t = []\n",
    "for i in qry:\n",
    "    for j in i:\n",
    "        a = j.split(' ')\n",
    "        if len(a) == 1:\n",
    "            qry_t.append(a[0])\n",
    "        else:\n",
    "            qry_t.append(a[0])\n",
    "            qry_t.append(a[1])\n",
    "#         qry_t.append(list(map(str, i.split(' and '))))  \n",
    "qry = qry_t\n",
    "qry_t = []\n",
    "tmp = []\n",
    "for i,j in enumerate(qry):\n",
    "    \n",
    "    tmp.append(j)\n",
    "    if (i+1)%5 == 0:\n",
    "        qry_t.append(tmp)\n",
    "        tmp = []\n",
    "qry = qry_t\n",
    "answer = []\n",
    "for qr in qry:\n",
    "    pp = 0\n",
    "    for io in info:\n",
    "        cnt = 0\n",
    "#         print(qr, '  ' , io)\n",
    "        for i in range(4):\n",
    "            if qr[i] == '-':\n",
    "#                 print('-', end=' ')\n",
    "                cnt += 1\n",
    "            else:\n",
    "                if qr[i] == io[i]:\n",
    "#                     print('same', end=' ')\n",
    "                    cnt += 1\n",
    "#         if qr[4] == '-':\n",
    "#             cnt += 1\n",
    "        if int(qr[4]) <= int(io[4]):\n",
    "#             print('sqr', end=' ')\n",
    "            cnt += 1\n",
    "\n",
    "        if cnt == 5:\n",
    "            pp+=1\n",
    "    answer.append(pp)\n",
    "    \n",
    "    \n",
    "    \n",
    "            "
   ]
  },
  {
   "cell_type": "code",
   "execution_count": 356,
   "metadata": {
    "ExecuteTime": {
     "end_time": "2020-09-12T09:49:20.229835Z",
     "start_time": "2020-09-12T09:49:20.209842Z"
    }
   },
   "outputs": [
    {
     "name": "stdout",
     "output_type": "stream",
     "text": [
      "['java', 'backend', 'junior', 'pizza', '100']\n",
      "['python', 'frontend', 'senior', 'chicken', '200']\n",
      "['cpp', '-', 'senior', 'pizza', '250']\n",
      "['-', 'backend', 'senior', '-', '150']\n",
      "['-', '-', '-', 'chicken', '100']\n",
      "['-', '-', '-', '-', '150']\n"
     ]
    },
    {
     "data": {
      "text/plain": [
       "[1, 1, 1, 1, 2, 4]"
      ]
     },
     "execution_count": 356,
     "metadata": {},
     "output_type": "execute_result"
    }
   ],
   "source": [
    "info = [\"java backend junior pizza 150\",\"python frontend senior chicken 210\",\"python frontend senior chicken 150\",\"cpp backend senior pizza 260\"\n",
    "        ,\"java backend junior chicken 80\",\"python backend senior chicken 50\"]\n",
    "qry = [\"java and backend and junior and pizza 100\",\"python and frontend and senior and chicken 200\",\"cpp and - and senior and pizza 250\",\"- and backend and senior and - 150\",\"- and - and - and chicken 100\",\"- and - and - and - 150\"]\t\n",
    "def solution(info, query):\n",
    "    info_t = []\n",
    "    for i in range(len(info)):\n",
    "        info_t.append(list(map(str, info[i].split())))\n",
    "    info = info_t\n",
    "    \n",
    "\n",
    "    answer = []\n",
    "\n",
    "    for i in range(len(query)):\n",
    "        qr = query[i].replace('and', '').split()\n",
    "        print(qr)\n",
    "        pp = 0\n",
    "        for io in info:\n",
    "            cnt = 0\n",
    "            for i in range(4):\n",
    "                if qr[i] == '-':\n",
    "                    cnt += 1\n",
    "                else:\n",
    "                    if qr[i] == io[i]:\n",
    "                        cnt += 1\n",
    "\n",
    "            if int(qr[4]) <= int(io[4]):\n",
    "                cnt += 1\n",
    "            if cnt == 5:\n",
    "                pp+=1\n",
    "        answer.append(pp)\n",
    "    \n",
    "    return answer\n",
    "\n",
    "solution(info, qry)"
   ]
  },
  {
   "cell_type": "code",
   "execution_count": null,
   "metadata": {},
   "outputs": [],
   "source": []
  },
  {
   "cell_type": "code",
   "execution_count": 360,
   "metadata": {
    "ExecuteTime": {
     "end_time": "2020-09-12T09:56:54.371357Z",
     "start_time": "2020-09-12T09:56:54.354900Z"
    }
   },
   "outputs": [
    {
     "ename": "AttributeError",
     "evalue": "'list' object has no attribute 'value'",
     "output_type": "error",
     "traceback": [
      "\u001b[0;31m---------------------------------------------------------------------------\u001b[0m",
      "\u001b[0;31mAttributeError\u001b[0m                            Traceback (most recent call last)",
      "\u001b[0;32m<ipython-input-360-1e4955031d5d>\u001b[0m in \u001b[0;36m<module>\u001b[0;34m\u001b[0m\n\u001b[1;32m      2\u001b[0m \u001b[0mN\u001b[0m \u001b[0;34m=\u001b[0m \u001b[0;36m6\u001b[0m\u001b[0;34m\u001b[0m\u001b[0m\n\u001b[1;32m      3\u001b[0m \u001b[0mmaps\u001b[0m \u001b[0;34m=\u001b[0m \u001b[0;34m[\u001b[0m\u001b[0;34m[\u001b[0m\u001b[0;36m4\u001b[0m\u001b[0;34m,\u001b[0m \u001b[0;36m1\u001b[0m\u001b[0;34m,\u001b[0m \u001b[0;36m10\u001b[0m\u001b[0;34m]\u001b[0m\u001b[0;34m,\u001b[0m \u001b[0;34m[\u001b[0m\u001b[0;36m3\u001b[0m\u001b[0;34m,\u001b[0m \u001b[0;36m5\u001b[0m\u001b[0;34m,\u001b[0m \u001b[0;36m24\u001b[0m\u001b[0;34m]\u001b[0m\u001b[0;34m,\u001b[0m \u001b[0;34m[\u001b[0m\u001b[0;36m5\u001b[0m\u001b[0;34m,\u001b[0m \u001b[0;36m6\u001b[0m\u001b[0;34m,\u001b[0m \u001b[0;36m2\u001b[0m\u001b[0;34m]\u001b[0m\u001b[0;34m,\u001b[0m \u001b[0;34m[\u001b[0m\u001b[0;36m3\u001b[0m\u001b[0;34m,\u001b[0m \u001b[0;36m1\u001b[0m\u001b[0;34m,\u001b[0m \u001b[0;36m41\u001b[0m\u001b[0;34m]\u001b[0m\u001b[0;34m,\u001b[0m \u001b[0;34m[\u001b[0m\u001b[0;36m5\u001b[0m\u001b[0;34m,\u001b[0m \u001b[0;36m1\u001b[0m\u001b[0;34m,\u001b[0m \u001b[0;36m24\u001b[0m\u001b[0;34m]\u001b[0m\u001b[0;34m,\u001b[0m \u001b[0;34m[\u001b[0m\u001b[0;36m4\u001b[0m\u001b[0;34m,\u001b[0m \u001b[0;36m6\u001b[0m\u001b[0;34m,\u001b[0m \u001b[0;36m50\u001b[0m\u001b[0;34m]\u001b[0m\u001b[0;34m,\u001b[0m \u001b[0;34m[\u001b[0m\u001b[0;36m2\u001b[0m\u001b[0;34m,\u001b[0m \u001b[0;36m4\u001b[0m\u001b[0;34m,\u001b[0m \u001b[0;36m66\u001b[0m\u001b[0;34m]\u001b[0m\u001b[0;34m,\u001b[0m \u001b[0;34m[\u001b[0m\u001b[0;36m2\u001b[0m\u001b[0;34m,\u001b[0m \u001b[0;36m3\u001b[0m\u001b[0;34m,\u001b[0m \u001b[0;36m22\u001b[0m\u001b[0;34m]\u001b[0m\u001b[0;34m,\u001b[0m \u001b[0;34m[\u001b[0m\u001b[0;36m1\u001b[0m\u001b[0;34m,\u001b[0m \u001b[0;36m6\u001b[0m\u001b[0;34m,\u001b[0m \u001b[0;36m25\u001b[0m\u001b[0;34m]\u001b[0m\u001b[0;34m]\u001b[0m\u001b[0;34m\u001b[0m\u001b[0m\n\u001b[0;32m----> 4\u001b[0;31m \u001b[0mmaps\u001b[0m\u001b[0;34m.\u001b[0m\u001b[0mvalue\u001b[0m\u001b[0;34m(\u001b[0m\u001b[0;34m)\u001b[0m\u001b[0;34m\u001b[0m\u001b[0m\n\u001b[0m",
      "\u001b[0;31mAttributeError\u001b[0m: 'list' object has no attribute 'value'"
     ]
    }
   ],
   "source": [
    "import heapq\n",
    "N = 6\n",
    "maps = [[4, 1, 10], [3, 5, 24], [5, 6, 2], [3, 1, 41], [5, 1, 24], [4, 6, 50], [2, 4, 66], [2, 3, 22], [1, 6, 25]]\n",
    "maps.value()"
   ]
  },
  {
   "cell_type": "code",
   "execution_count": 354,
   "metadata": {
    "ExecuteTime": {
     "end_time": "2020-09-12T09:44:10.907941Z",
     "start_time": "2020-09-12T09:44:10.885996Z"
    }
   },
   "outputs": [
    {
     "data": {
      "text/plain": [
       "'1:37:44'"
      ]
     },
     "execution_count": 354,
     "metadata": {},
     "output_type": "execute_result"
    }
   ],
   "source": [
    "import datetime\n",
    "from collections import defaultdict \n",
    "rcd = [\"01:20:15-01:45:14\", \"00:40:31-01:00:00\", \"00:25:50-00:48:29\", \"01:30:59-01:53:29\", \"01:37:44-02:02:30\"]\n",
    "rcd_t = []\n",
    "int_dict = defaultdict(int)\n",
    "for i in rcd:\n",
    "    rcd_t.append(i.split('-'))\n",
    "rcd = rcd_t\n",
    "rst  = []\n",
    "dic = dict()\n",
    "for i in rcd:\n",
    "    k = list(map(int, i[0].split(':')))\n",
    "    st = k[0]*60*60 + k[1]*60 + k[2]\n",
    "    k = list(map(int, i[1].split(':')))\n",
    "    ed = k[0]*60*60 + k[1]*60 + k[2]\n",
    "    for j in range(st, ed):\n",
    "        if j in dic.keys():\n",
    "            dic[j] += 1\n",
    "        else:\n",
    "            dic[j] = 0\n",
    "m = 0\n",
    "keys = 0\n",
    "for key in dic:\n",
    "    if m < dic[key]:\n",
    "        m  = dic[key]\n",
    "        keys = key\n",
    "\n",
    "\n",
    "t = k[0]*60*60 + k[1]*60 + k[2]\n",
    "str(datetime.timedelta(seconds=keys))\n"
   ]
  },
  {
   "cell_type": "code",
   "execution_count": 320,
   "metadata": {
    "ExecuteTime": {
     "end_time": "2020-09-12T08:33:38.736702Z",
     "start_time": "2020-09-12T08:33:38.731460Z"
    }
   },
   "outputs": [],
   "source": [
    "dic = dict()\n",
    "dic[2] = 1\n",
    "if 1 in dic.keys():\n",
    "    print(11)"
   ]
  },
  {
   "cell_type": "code",
   "execution_count": 335,
   "metadata": {
    "ExecuteTime": {
     "end_time": "2020-09-12T08:41:26.120760Z",
     "start_time": "2020-09-12T08:41:26.114012Z"
    }
   },
   "outputs": [
    {
     "data": {
      "text/plain": [
       "'0:00:01'"
      ]
     },
     "execution_count": 335,
     "metadata": {},
     "output_type": "execute_result"
    }
   ],
   "source": [
    "a = datetime.timedelta(seconds=1)\n",
    "str(a)"
   ]
  }
 ],
 "metadata": {
  "kernelspec": {
   "display_name": "Python 3",
   "language": "python",
   "name": "python3"
  },
  "language_info": {
   "codemirror_mode": {
    "name": "ipython",
    "version": 3
   },
   "file_extension": ".py",
   "mimetype": "text/x-python",
   "name": "python",
   "nbconvert_exporter": "python",
   "pygments_lexer": "ipython3",
   "version": "3.6.6"
  },
  "varInspector": {
   "cols": {
    "lenName": "1001000000",
    "lenType": "10000000",
    "lenVar": "1000000000"
   },
   "kernels_config": {
    "python": {
     "delete_cmd_postfix": "",
     "delete_cmd_prefix": "del ",
     "library": "var_list.py",
     "varRefreshCmd": "print(var_dic_list())"
    },
    "r": {
     "delete_cmd_postfix": ") ",
     "delete_cmd_prefix": "rm(",
     "library": "var_list.r",
     "varRefreshCmd": "cat(var_dic_list()) "
    }
   },
   "types_to_exclude": [
    "module",
    "function",
    "builtin_function_or_method",
    "instance",
    "_Feature"
   ],
   "window_display": true
  }
 },
 "nbformat": 4,
 "nbformat_minor": 4
}
