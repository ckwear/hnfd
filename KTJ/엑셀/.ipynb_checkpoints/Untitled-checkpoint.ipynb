{
 "cells": [
  {
   "cell_type": "code",
   "execution_count": 175,
   "metadata": {
    "ExecuteTime": {
     "end_time": "2020-08-11T06:57:37.647365Z",
     "start_time": "2020-08-11T06:57:37.595479Z"
    }
   },
   "outputs": [
    {
     "name": "stdout",
     "output_type": "stream",
     "text": [
      "2019-9-30 월\n",
      "[[datetime.datetime(1899, 12, 31, 9, 49), datetime.datetime(1899, 12, 31, 11, 40), 4], [datetime.datetime(1899, 12, 31, 13, 14), datetime.datetime(1899, 12, 31, 14, 38), 2], [datetime.datetime(1899, 12, 31, 16, 31), datetime.datetime(1899, 12, 31, 16, 47), 1], [datetime.datetime(1899, 12, 31, 17, 51), datetime.datetime(1899, 12, 31, 18, 13), 0], [datetime.datetime(1899, 12, 31, 19, 42), datetime.datetime(1899, 12, 31, 20, 38), 2], [datetime.datetime(1899, 12, 31, 20, 48), datetime.datetime(1899, 12, 31, 21, 37), 1], [datetime.datetime(1899, 12, 31, 22, 14), datetime.datetime(1899, 12, 31, 23, 42), 3], [datetime.datetime(1899, 12, 31, 2, 36), datetime.datetime(1899, 12, 31, 4, 29), 2], [datetime.datetime(1899, 12, 31, 4, 41), datetime.datetime(1899, 12, 31, 6, 33), 4]]\n",
      "wefjiowef\n",
      "1899-12-31 11:40:00 1899-12-31 09:49:00 1:51:00\n"
     ]
    },
    {
     "ename": "AttributeError",
     "evalue": "'datetime.timedelta' object has no attribute 'minute'",
     "output_type": "error",
     "traceback": [
      "\u001b[0;31m---------------------------------------------------------------------------\u001b[0m",
      "\u001b[0;31mAttributeError\u001b[0m                            Traceback (most recent call last)",
      "\u001b[0;32m<ipython-input-175-0d93c0044202>\u001b[0m in \u001b[0;36m<module>\u001b[0;34m\u001b[0m\n\u001b[1;32m    108\u001b[0m \u001b[0;34m\u001b[0m\u001b[0m\n\u001b[1;32m    109\u001b[0m \u001b[0mline1\u001b[0m \u001b[0;34m=\u001b[0m \u001b[0mline_generater\u001b[0m\u001b[0;34m(\u001b[0m\u001b[0mline1\u001b[0m\u001b[0;34m)\u001b[0m\u001b[0;34m\u001b[0m\u001b[0m\n\u001b[0;32m--> 110\u001b[0;31m \u001b[0mprint\u001b[0m\u001b[0;34m(\u001b[0m\u001b[0mmake_dumy_time\u001b[0m\u001b[0;34m(\u001b[0m\u001b[0mline1_reject_table\u001b[0m\u001b[0;34m,\u001b[0m \u001b[0mline1\u001b[0m\u001b[0;34m)\u001b[0m\u001b[0;34m)\u001b[0m\u001b[0;34m\u001b[0m\u001b[0m\n\u001b[0m\u001b[1;32m    111\u001b[0m \u001b[0;32mfor\u001b[0m \u001b[0mi\u001b[0m \u001b[0;32min\u001b[0m \u001b[0mline1\u001b[0m\u001b[0;34m:\u001b[0m\u001b[0;34m\u001b[0m\u001b[0m\n\u001b[1;32m    112\u001b[0m     \u001b[0mprint\u001b[0m\u001b[0;34m(\u001b[0m\u001b[0mi\u001b[0m\u001b[0;34m)\u001b[0m\u001b[0;34m\u001b[0m\u001b[0m\n",
      "\u001b[0;32m<ipython-input-175-0d93c0044202>\u001b[0m in \u001b[0;36mmake_dumy_time\u001b[0;34m(tiem_table, time_line)\u001b[0m\n\u001b[1;32m     31\u001b[0m             \u001b[0mprint\u001b[0m\u001b[0;34m(\u001b[0m\u001b[0men\u001b[0m\u001b[0;34m,\u001b[0m \u001b[0mst\u001b[0m\u001b[0;34m,\u001b[0m \u001b[0men\u001b[0m\u001b[0;34m-\u001b[0m\u001b[0mst\u001b[0m\u001b[0;34m)\u001b[0m\u001b[0;34m\u001b[0m\u001b[0m\n\u001b[1;32m     32\u001b[0m             \u001b[0mt\u001b[0m \u001b[0;34m=\u001b[0m \u001b[0;34m(\u001b[0m\u001b[0men\u001b[0m \u001b[0;34m-\u001b[0m \u001b[0mst\u001b[0m\u001b[0;34m)\u001b[0m\u001b[0;34m\u001b[0m\u001b[0m\n\u001b[0;32m---> 33\u001b[0;31m             \u001b[0mrt\u001b[0m \u001b[0;34m=\u001b[0m \u001b[0mrandom\u001b[0m\u001b[0;34m.\u001b[0m\u001b[0mrandrange\u001b[0m\u001b[0;34m(\u001b[0m\u001b[0;36m0\u001b[0m\u001b[0;34m,\u001b[0m\u001b[0mt\u001b[0m\u001b[0;34m.\u001b[0m\u001b[0mminute\u001b[0m\u001b[0;34m*\u001b[0m\u001b[0;36m60\u001b[0m\u001b[0;34m)\u001b[0m\u001b[0;34m\u001b[0m\u001b[0m\n\u001b[0m\u001b[1;32m     34\u001b[0m             \u001b[0mdt\u001b[0m \u001b[0;34m=\u001b[0m \u001b[0mdatetime\u001b[0m\u001b[0;34m.\u001b[0m\u001b[0mtimedelta\u001b[0m\u001b[0;34m(\u001b[0m\u001b[0;36m0\u001b[0m\u001b[0;34m,\u001b[0m\u001b[0mrt\u001b[0m\u001b[0;34m)\u001b[0m\u001b[0;34m\u001b[0m\u001b[0m\n\u001b[1;32m     35\u001b[0m \u001b[0;34m\u001b[0m\u001b[0m\n",
      "\u001b[0;31mAttributeError\u001b[0m: 'datetime.timedelta' object has no attribute 'minute'"
     ]
    }
   ],
   "source": [
    "# import xlrd, datetime\n",
    "from operator import itemgetter\n",
    "import random\n",
    "wb=xlrd.open_workbook(\"9월30일.xlsx\")\n",
    "# ws=wb.sheet_by_index(0)\n",
    "\n",
    "\n",
    "\n",
    "\n",
    "def rd_sec():\n",
    "    rand_sec = [6,7,7,8,8,8,9,9,10]\n",
    "    return rand_sec[random.randrange(0,9)]\n",
    "\n",
    "def generate_time(t):\n",
    "    temp_time = t\n",
    "    new_time = []\n",
    "    for i in range(10):\n",
    "        temp_time += datetime.timedelta(0,rd_sec())\n",
    "        new_time.append(temp_time)\n",
    "    return new_time\n",
    "def line_generater(tl):\n",
    "    all_t = []\n",
    "    for tm in tl:\n",
    "        all_t += generate_time(tm)\n",
    "    return all_t\n",
    "\n",
    "def make_dumy_time(tiem_table, time_line):\n",
    "    all_t = []\n",
    "    for st, en, nu in tiem_table:\n",
    "        while nu>0:\n",
    "            print(en, st, en-st)\n",
    "            t = (en - st)\n",
    "            rt = random.randrange(0,t.minute*60)\n",
    "            dt = datetime.timedelta(0,rt)\n",
    "            \n",
    "            if (st + dt) not in time_line:\n",
    "                nu -= 1\n",
    "                all_t += (st + dt)\n",
    "    return all_t\n",
    "\n",
    "def make_start_time():\n",
    "    sec = random.randrange(0,60)\n",
    "    return datetime.timedelta(0,sec)\n",
    "\n",
    "\n",
    "\n",
    "sheet = wb.sheets()[0]\n",
    "today = sheet.cell_value(rowx=2, colx=0)\n",
    "print(today)\n",
    "sheet_map = []\n",
    "for i in range(sheet.nrows):\n",
    "    row = sheet.row(i)\n",
    "\n",
    "    tmp = []\n",
    "    for cell in row:\n",
    "        tmp.append(cell.value)\n",
    "    sheet_map.append(tmp)\n",
    "\n",
    "# print(sheet_map)\n",
    "\n",
    "\n",
    "\n",
    "# line1 = list(map(itemgetter(5), sheet_map))\n",
    "# item_name = list(map(itemgetter(6), sheet_map))\n",
    "# reject_num = list(map(itemgetter(7), sheet_map))\n",
    "\n",
    "line1 = list(map(itemgetter(1), sheet_map))\n",
    "item_name = list(map(itemgetter(2), sheet_map))\n",
    "reject_num = list(map(itemgetter(3), sheet_map))\n",
    "\n",
    "line1_list = []\n",
    "time_cnt = 0\n",
    "for i in range(len(line1)):\n",
    "    if type(line1[i]) == float:\n",
    "        time_cnt += 1\n",
    "        if len(item_name[i]) > 4:\n",
    "            pass\n",
    "        line1_list.append([line1[i], len(item_name[i]), reject_num[i],time_cnt])\n",
    "# print(line1_list)\n",
    "line1_reject_time = []\n",
    "line1_reject_time.append(line1_list[0][0])\n",
    "\n",
    "reject_num = []\n",
    "reject_num.append(line1_list[0][2])\n",
    "for i in range(1, len(line1_list)):\n",
    "#     print(line1_list[i])\n",
    "    if line1_list[i][1] > 4:\n",
    "        line1_reject_time.append(line1_list[i-1][0])\n",
    "        line1_reject_time.append(line1_list[i][0])\n",
    "        \n",
    "    if type(line1_list[i][2]) == float:\n",
    "        reject_num.append(line1_list[i][2])\n",
    "line1_reject_time.append(line1_list[len(line1_list)-1][0])\n",
    "line1_reject_table = []\n",
    "\n",
    "for i in range(len(line1_reject_time[::2])):\n",
    "    line1_reject_table.append([xlrd.xldate.xldate_as_datetime(line1_reject_time[::2][i], 0), xlrd.xldate.xldate_as_datetime(line1_reject_time[1::2][i], 0), int(reject_num[i])])\n",
    "print(line1_reject_table)\n",
    "\n",
    "\n",
    "\n",
    "line1 = [cell for cell in line1 if type(cell)==float]\n",
    "line1 = [xlrd.xldate.xldate_as_datetime(cell,0) for i,cell in enumerate(line1) if type(cell)==float]\n",
    "line1= [ cell- make_start_time() if random.randrange(0,2) == 1 else cell + make_start_time() for cell in line1]\n",
    "# line1 = [cell[0] - make_start_time() if random.randrange(0,2) == 1 else  cell[0] + make_start_time()  for i, cell in enumerate(line1)]\n",
    "\n",
    "print('wefjiowef')\n",
    "\n",
    "line1 = line_generater(line1)\n",
    "print(make_dumy_time(line1_reject_table, line1))\n",
    "for i in line1:\n",
    "    print(i)\n",
    "\n",
    "# print(sheet.cell_value(rowx=10, colx=9))\n",
    "\n",
    "\n",
    "\n",
    "# print(minimalist_xldate_as_datetime(a1[7], wb.datemode))"
   ]
  },
  {
   "cell_type": "code",
   "execution_count": 173,
   "metadata": {
    "ExecuteTime": {
     "end_time": "2020-08-11T06:56:41.197297Z",
     "start_time": "2020-08-11T06:56:41.188552Z"
    }
   },
   "outputs": [
    {
     "name": "stdout",
     "output_type": "stream",
     "text": [
      "0:01:40\n",
      "0:02:03\n",
      "0:00:23\n",
      "47\n",
      "49\n",
      "True\n"
     ]
    }
   ],
   "source": [
    "import datetime\n",
    "a = datetime.timedelta(0,100)\n",
    "print(a)\n",
    "b = datetime.timedelta(0,123)\n",
    "print(b)\n",
    "print((b-a))\n",
    "# print(b.second())\n",
    "dt = datetime.datetime.now()\n",
    "print((line1_reject_table[0][0]-a).minute)\n",
    "print(line1_reject_table[0][0].minute)\n",
    "print(a<b)"
   ]
  },
  {
   "cell_type": "code",
   "execution_count": 156,
   "metadata": {
    "ExecuteTime": {
     "end_time": "2020-08-11T06:47:06.782845Z",
     "start_time": "2020-08-11T06:47:06.775350Z"
    }
   },
   "outputs": [
    {
     "name": "stdout",
     "output_type": "stream",
     "text": [
      "0\n",
      "2\n",
      "4\n",
      "6\n",
      "7\n",
      "8\n",
      "9\n"
     ]
    }
   ],
   "source": [
    "for i in range(10):\n",
    "    if i not in (1,3, 5):\n",
    "        print(i)"
   ]
  }
 ],
 "metadata": {
  "kernelspec": {
   "display_name": "Python 3",
   "language": "python",
   "name": "python3"
  },
  "language_info": {
   "codemirror_mode": {
    "name": "ipython",
    "version": 3
   },
   "file_extension": ".py",
   "mimetype": "text/x-python",
   "name": "python",
   "nbconvert_exporter": "python",
   "pygments_lexer": "ipython3",
   "version": "3.6.6"
  },
  "varInspector": {
   "cols": {
    "lenName": "1001000000",
    "lenType": "10000000",
    "lenVar": "1000000000"
   },
   "kernels_config": {
    "python": {
     "delete_cmd_postfix": "",
     "delete_cmd_prefix": "del ",
     "library": "var_list.py",
     "varRefreshCmd": "print(var_dic_list())"
    },
    "r": {
     "delete_cmd_postfix": ") ",
     "delete_cmd_prefix": "rm(",
     "library": "var_list.r",
     "varRefreshCmd": "cat(var_dic_list()) "
    }
   },
   "types_to_exclude": [
    "module",
    "function",
    "builtin_function_or_method",
    "instance",
    "_Feature"
   ],
   "window_display": false
  }
 },
 "nbformat": 4,
 "nbformat_minor": 4
}
