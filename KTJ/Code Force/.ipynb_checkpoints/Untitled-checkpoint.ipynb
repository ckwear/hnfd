{
 "cells": [
  {
   "cell_type": "code",
   "execution_count": 31,
   "metadata": {
    "ExecuteTime": {
     "end_time": "2020-07-16T06:35:50.405429Z",
     "start_time": "2020-07-16T06:35:50.387666Z"
    }
   },
   "outputs": [
    {
     "name": "stdout",
     "output_type": "stream",
     "text": [
      "100\n",
      "[7, 8, 10, 13, 19, 20, 23]\n"
     ]
    }
   ],
   "source": [
    "import itertools as it\n",
    "a = [7, 8, 10, 13, 15, 19, 20, 23, 25, 29, 37, 40, 42, 46, 51, 58]\n",
    "dic = dict()\n",
    "dic[tuple(a)] = sum(a)\n",
    "\n",
    "\n",
    "    \n",
    "# sum_cnt = 2\n",
    "# while True:\n",
    "#     if sum_cnt >= 7:\n",
    "#         break\n",
    "#     for con in it.combinations(a, sum_cnt):\n",
    "#         dic[tuple(con)] = sum(con)\n",
    "        \n",
    "        \n",
    "#     sum_cnt += 1\n",
    "# print(dic)\n",
    "for con in it.combinations(a, 7):\n",
    "    if sum(con) == 100:\n",
    "        result = list(con)\n",
    "\n",
    "print(sum(result))\n",
    "print(result)"
   ]
  },
  {
   "cell_type": "code",
   "execution_count": 37,
   "metadata": {
    "ExecuteTime": {
     "end_time": "2020-07-16T06:39:37.952895Z",
     "start_time": "2020-07-16T06:39:30.280856Z"
    }
   },
   "outputs": [
    {
     "name": "stdout",
     "output_type": "stream",
     "text": [
      "7\n",
      "8\n",
      "10\n",
      "13\n",
      "15\n",
      "19\n",
      "20\n",
      "23\n",
      "25\n",
      "7\n",
      "8\n",
      "10\n",
      "13\n",
      "19\n",
      "20\n",
      "23\n"
     ]
    }
   ],
   "source": [
    "import itertools as it\n",
    "a = []\n",
    "for i in range(9):\n",
    "    a.append(int(input()))\n",
    "\n",
    "for con in it.combinations(a, 7):\n",
    "    if sum(con) == 100:\n",
    "        result = list(con)\n",
    "\n",
    "for i in range(7):\n",
    "    print(result[i])"
   ]
  }
 ],
 "metadata": {
  "kernelspec": {
   "display_name": "Python 3",
   "language": "python",
   "name": "python3"
  },
  "language_info": {
   "codemirror_mode": {
    "name": "ipython",
    "version": 3
   },
   "file_extension": ".py",
   "mimetype": "text/x-python",
   "name": "python",
   "nbconvert_exporter": "python",
   "pygments_lexer": "ipython3",
   "version": "3.6.6"
  },
  "varInspector": {
   "cols": {
    "lenName": "1001000000",
    "lenType": "10000000",
    "lenVar": "1000000000"
   },
   "kernels_config": {
    "python": {
     "delete_cmd_postfix": "",
     "delete_cmd_prefix": "del ",
     "library": "var_list.py",
     "varRefreshCmd": "print(var_dic_list())"
    },
    "r": {
     "delete_cmd_postfix": ") ",
     "delete_cmd_prefix": "rm(",
     "library": "var_list.r",
     "varRefreshCmd": "cat(var_dic_list()) "
    }
   },
   "position": {
    "height": "143.795px",
    "left": "488.11px",
    "right": "20px",
    "top": "118.985px",
    "width": "349.97px"
   },
   "types_to_exclude": [
    "module",
    "function",
    "builtin_function_or_method",
    "instance",
    "_Feature"
   ],
   "window_display": false
  }
 },
 "nbformat": 4,
 "nbformat_minor": 4
}
