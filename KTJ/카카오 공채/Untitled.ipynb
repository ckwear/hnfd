{
 "cells": [
  {
   "cell_type": "code",
   "execution_count": 161,
   "metadata": {
    "ExecuteTime": {
     "end_time": "2020-09-11T17:32:12.420972Z",
     "start_time": "2020-09-11T17:32:12.401313Z"
    }
   },
   "outputs": [
    {
     "data": {
      "text/plain": [
       "['Prodo님이 들어왔습니다.', 'Ryan님이 들어왔습니다.', 'Prodo님이 나갔습니다.', 'Prodo님이 들어왔습니다.']"
      ]
     },
     "execution_count": 161,
     "metadata": {},
     "output_type": "execute_result"
    }
   ],
   "source": [
    "from collections import defaultdict\n",
    "record = [\"Enter uid1234 Muzi\", \"Enter uid4567 Prodo\",\"Leave uid1234\",\"Enter uid1234 Prodo\",\"Change uid4567 Ryan\"]\n",
    "msg = []\n",
    "dic = defaultdict(str)\n",
    "for i in record:\n",
    "    msg.append(i.split())\n",
    "\n",
    "for mg in msg:\n",
    "    if len(mg) == 3:\n",
    "        dic[mg[1]] = mg[2]\n",
    "room = []\n",
    "while msg:\n",
    "    curn = msg.pop(0)\n",
    "    if curn[0] == 'Enter':\n",
    "        room.append([curn[1], curn[2], '1'])\n",
    "    if curn[0] == 'Leave':\n",
    "        room.append([curn[1], '0', '0'])\n",
    "    if curn[0] == 'Change':\n",
    "        dic[mg[1]] = curn[2]\n",
    "for i in range(len(room)):\n",
    "    room[i][1] = dic[room[i][0]]\n",
    "    \n",
    "answer = []\n",
    "for rm in room:\n",
    "    if rm[2] == '1':\n",
    "        answer.append(rm[1] + \"님이 들어왔습니다.\" )\n",
    "    if rm[2] == '0':\n",
    "        answer.append(rm[1] + \"님이 나갔습니다.\")\n",
    "answer"
   ]
  },
  {
   "cell_type": "code",
   "execution_count": 143,
   "metadata": {
    "ExecuteTime": {
     "end_time": "2020-09-11T17:10:57.444394Z",
     "start_time": "2020-09-11T17:10:57.424685Z"
    }
   },
   "outputs": [
    {
     "data": {
      "text/plain": [
       "[3, 4, 2, 1, 5]"
      ]
     },
     "execution_count": 143,
     "metadata": {},
     "output_type": "execute_result"
    }
   ],
   "source": [
    "from operator import itemgetter\n",
    "from collections import defaultdict\n",
    "\n",
    "def solution(N, stages):\n",
    "    rcd = []\n",
    "    [rcd.append(list(range(1, i+1))) for i in stages]\n",
    "    rst = []\n",
    "    for i in range(1, max(stages)+1):\n",
    "        cnt = 0\n",
    "        fail = 0\n",
    "        for usr in rcd:\n",
    "            if i in usr:\n",
    "                cnt += 1\n",
    "            if i == len(usr):\n",
    "                fail += 1\n",
    "        if cnt == 1 and fail == 1:\n",
    "            pass\n",
    "        else:\n",
    "            rst.append([fail/cnt, i])\n",
    "\n",
    "\n",
    "    rst.sort()\n",
    "    dic = defaultdict(list)\n",
    "    k = rst[::-1]\n",
    "    for i, j in k:\n",
    "        dic[i].append(j)\n",
    "    answer = []\n",
    "    for i in dic:\n",
    "        answer += sorted(dic[i])\n",
    "    return answer\n",
    "solution(8,[2, 1, 2, 6, 2, 4, 3, 3])"
   ]
  },
  {
   "cell_type": "code",
   "execution_count": 100,
   "metadata": {
    "ExecuteTime": {
     "end_time": "2020-09-11T14:57:19.232473Z",
     "start_time": "2020-09-11T14:57:19.213368Z"
    }
   },
   "outputs": [
    {
     "name": "stdout",
     "output_type": "stream",
     "text": [
      "[[1, 2], [1], [1, 2], [1, 2, 3, 4, 5, 6], [1, 2], [1, 2, 3, 4], [1, 2, 3], [1, 2, 3]]\n"
     ]
    },
    {
     "data": {
      "text/plain": [
       "[3, 4, 2, 1, 5]"
      ]
     },
     "execution_count": 100,
     "metadata": {},
     "output_type": "execute_result"
    }
   ],
   "source": [
    "from operator import itemgetter\n",
    "from collections import defaultdict\n",
    "a =  [2, 1, 2, 6, 2, 4, 3, 3]\n",
    "rcd = []\n",
    "[rcd.append(list(range(1, i+1))) for i in a]\n",
    "rst = []\n",
    "print(rcd)\n",
    "for i in range(1, max(a)+1):\n",
    "    cnt = 0\n",
    "    fail = 0\n",
    "    for usr in rcd:\n",
    "        if i in usr:\n",
    "            cnt += 1\n",
    "        if i == len(usr):\n",
    "            fail += 1\n",
    "    if cnt == 1 and fail == 1:\n",
    "        pass\n",
    "    else:\n",
    "        rst.append([fail/cnt, i])\n",
    "\n",
    "\n",
    "rst.sort()\n",
    "dic = defaultdict(list)\n",
    "k = rst[::-1]\n",
    "for i, j in k:\n",
    "    dic[i].append(j)\n",
    "rst = []\n",
    "for i in dic:\n",
    "    rst += sorted(dic[i])\n",
    "#     print(c)\n",
    "rst"
   ]
  },
  {
   "cell_type": "code",
   "execution_count": 141,
   "metadata": {
    "ExecuteTime": {
     "end_time": "2020-09-11T16:51:10.140793Z",
     "start_time": "2020-09-11T16:51:10.121367Z"
    }
   },
   "outputs": [
    {
     "name": "stdout",
     "output_type": "stream",
     "text": [
      "['100', '200', '300', '400', '500', '600']\n",
      "['ryan', 'apeach', 'tube', 'con', 'muzi', 'apeach']\n",
      "['music', 'math', 'computer', 'computer', 'music', 'music']\n",
      "['2', '2', '3', '4', '3', '2']\n",
      "['100', 'ryan', '200', 'apeach', '300', 'tube', '400', 'con', '500', 'muzi', '600', 'apeach']\n",
      "['100', 'music', '200', 'math', '300', 'computer', '400', 'computer', '500', 'music', '600', 'music']\n",
      "['100', '2', '200', '2', '300', '3', '400', '4', '500', '3', '600', '2']\n",
      "['ryan', 'music', 'apeach', 'math', 'tube', 'computer', 'con', 'computer', 'muzi', 'music', 'apeach', 'music']\n",
      "['ryan', '2', 'apeach', '2', 'tube', '3', 'con', '4', 'muzi', '3', 'apeach', '2']\n",
      "['music', '2', 'math', '2', 'computer', '3', 'computer', '4', 'music', '3', 'music', '2']\n",
      "['100', 'ryan', 'music', '200', 'apeach', 'math', '300', 'tube', 'computer', '400', 'con', 'computer', '500', 'muzi', 'music', '600', 'apeach', 'music']\n",
      "['100', 'ryan', '2', '200', 'apeach', '2', '300', 'tube', '3', '400', 'con', '4', '500', 'muzi', '3', '600', 'apeach', '2']\n",
      "['100', 'music', '2', '200', 'math', '2', '300', 'computer', '3', '400', 'computer', '4', '500', 'music', '3', '600', 'music', '2']\n",
      "['ryan', 'music', '2', 'apeach', 'math', '2', 'tube', 'computer', '3', 'con', 'computer', '4', 'muzi', 'music', '3', 'apeach', 'music', '2']\n",
      "['100', 'ryan', 'music', '2', '200', 'apeach', 'math', '2', '300', 'tube', 'computer', '3', '400', 'con', 'computer', '4', '500', 'muzi', 'music', '3', '600', 'apeach', 'music', '2']\n"
     ]
    }
   ],
   "source": [
    "import itertools as it\n",
    "from operator import itemgetter as itg\n",
    "table = [[\"100\",\"ryan\",\"music\",\"2\"],[\"200\",\"apeach\",\"math\",\"2\"],[\"300\",\"tube\",\"computer\",\"3\"],[\"400\",\"con\",\"computer\",\"4\"],[\"500\",\"muzi\",\"music\",\"3\"],[\"600\",\"apeach\",\"music\",\"2\"]]\n",
    "\n",
    "for i in range(1, len(table[0])+1):\n",
    "    s = set()\n",
    "    for j in it.combinations(list(range(len(table[0]))), i):\n",
    "        tb = []\n",
    "        j = list(j)\n",
    "#         print(j)\n",
    "        for k in range(len(j)):\n",
    "            tb.append(list(map(itg(j[k]), table)))\n",
    "#         print(tb)\n",
    "        strr = []\n",
    "        for m in range(len(table)):\n",
    "            strr += list(map(itg(m), tb))\n",
    "        print(strr)\n",
    "            "
   ]
  },
  {
   "cell_type": "code",
   "execution_count": 153,
   "metadata": {
    "ExecuteTime": {
     "end_time": "2020-09-11T17:27:02.567059Z",
     "start_time": "2020-09-11T17:27:02.559311Z"
    }
   },
   "outputs": [
    {
     "data": {
      "text/plain": [
       "58"
      ]
     },
     "execution_count": 153,
     "metadata": {},
     "output_type": "execute_result"
    }
   ],
   "source": [
    "import sys\n",
    "\n",
    "\n",
    "a = 'a'\n",
    "b = 'asdasasdd'\n",
    "c = 'qwe'\n",
    "sys.getsizeof(b)"
   ]
  }
 ],
 "metadata": {
  "kernelspec": {
   "display_name": "Python 3",
   "language": "python",
   "name": "python3"
  },
  "language_info": {
   "codemirror_mode": {
    "name": "ipython",
    "version": 3
   },
   "file_extension": ".py",
   "mimetype": "text/x-python",
   "name": "python",
   "nbconvert_exporter": "python",
   "pygments_lexer": "ipython3",
   "version": "3.6.6"
  },
  "varInspector": {
   "cols": {
    "lenName": "1001000000",
    "lenType": "10000000",
    "lenVar": "1000000000"
   },
   "kernels_config": {
    "python": {
     "delete_cmd_postfix": "",
     "delete_cmd_prefix": "del ",
     "library": "var_list.py",
     "varRefreshCmd": "print(var_dic_list())"
    },
    "r": {
     "delete_cmd_postfix": ") ",
     "delete_cmd_prefix": "rm(",
     "library": "var_list.r",
     "varRefreshCmd": "cat(var_dic_list()) "
    }
   },
   "types_to_exclude": [
    "module",
    "function",
    "builtin_function_or_method",
    "instance",
    "_Feature"
   ],
   "window_display": true
  }
 },
 "nbformat": 4,
 "nbformat_minor": 4
}
