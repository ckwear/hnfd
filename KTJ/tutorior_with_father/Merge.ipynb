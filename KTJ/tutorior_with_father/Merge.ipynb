{
 "cells": [
  {
   "cell_type": "code",
   "execution_count": 5,
   "metadata": {},
   "outputs": [
    {
     "name": "stdout",
     "output_type": "stream",
     "text": [
      "[1, 0, 5, 9, 4, 2, 7, 3, 8, 5, 3]\n",
      "[0, 1, 2, 3, 3, 4, 5, 5, 7, 8, 9]\n"
     ]
    }
   ],
   "source": [
    "def merge(arr):\n",
    "    s = list()\n",
    "    l = len(arr)//2\n",
    "    a = b = 0\n",
    "    if len(arr) == 1:\n",
    "        return arr\n",
    "    if len(arr) >= 2:\n",
    "        a1 = merge(arr[l:])\n",
    "        a2 = merge(arr[:l])\n",
    "\n",
    "    while True:\n",
    "        if a >= len(a1):\n",
    "            s += a2[b:]\n",
    "            break\n",
    "        if b >= len(a2):\n",
    "            s += a1[a:]\n",
    "            break\n",
    "        if a1[a] <= a2[b]:\n",
    "            s.append(a1[a])\n",
    "            a += 1\n",
    "        else:\n",
    "            s.append(a2[b])\n",
    "            b += 1\n",
    "        \n",
    "    return s\n",
    "\n",
    "arr = list(map(int, '10594273853'))\n",
    "print(arr)\n",
    "arr = merge(arr)\n",
    "print(arr)"
   ]
  }
 ],
 "metadata": {
  "kernelspec": {
   "display_name": "Python 3",
   "language": "python",
   "name": "python3"
  },
  "language_info": {
   "codemirror_mode": {
    "name": "ipython",
    "version": 3
   },
   "file_extension": ".py",
   "mimetype": "text/x-python",
   "name": "python",
   "nbconvert_exporter": "python",
   "pygments_lexer": "ipython3",
   "version": "3.6.6"
  }
 },
 "nbformat": 4,
 "nbformat_minor": 4
}
