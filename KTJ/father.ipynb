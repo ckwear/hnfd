{
 "cells": [
  {
   "cell_type": "markdown",
   "metadata": {},
   "source": [
    "<a href=\"https://www.acmicpc.net/problem/14501\"><img src=\"https://d2gd6pc034wcta.cloudfront.net/images/logo@2x.png\" /></a>"
   ]
  },
  {
   "cell_type": "code",
   "execution_count": 7,
   "metadata": {
    "ExecuteTime": {
     "end_time": "2020-06-24T00:02:53.610303Z",
     "start_time": "2020-06-24T00:02:53.587832Z"
    }
   },
   "outputs": [
    {
     "name": "stdout",
     "output_type": "stream",
     "text": [
      "[1]\n",
      "[1, 6]\n",
      "[1, 6, 7]\n",
      "[1, 6, 8]\n",
      "[1, 7]\n",
      "[1, 7, 6]\n",
      "[1, 8]\n",
      "[1, 8, 6]\n",
      "[2]\n",
      "[2, 6]\n",
      "[2, 6, 7]\n",
      "[2, 6, 8]\n",
      "[2, 7]\n",
      "[2, 7, 6]\n",
      "[2, 8]\n",
      "[2, 8, 6]\n",
      "[3]\n",
      "[3, 6]\n",
      "[3, 6, 7]\n",
      "[3, 6, 8]\n",
      "[3, 7]\n",
      "[3, 7, 6]\n",
      "[3, 8]\n",
      "[3, 8, 6]\n",
      "[4]\n",
      "[4, 6]\n",
      "[4, 6, 7]\n",
      "[4, 6, 8]\n",
      "[4, 7]\n",
      "[4, 7, 6]\n",
      "[4, 8]\n",
      "[4, 8, 6]\n",
      "[5]\n",
      "[5, 6]\n",
      "[5, 6, 7]\n",
      "[5, 6, 8]\n",
      "[5, 7]\n",
      "[5, 7, 6]\n",
      "[5, 8]\n",
      "[5, 8, 6]\n",
      "[6]\n",
      "[6, 1]\n",
      "[6, 1, 7]\n",
      "[6, 1, 3]\n",
      "[6, 1, 3, 7]\n",
      "[6, 1, 3, 5]\n",
      "[6, 1, 3, 5, 7]\n",
      "[6, 1, 3, 5, 8]\n",
      "[6, 1, 3, 7]\n",
      "[6, 1, 3, 8]\n",
      "[[1], [1, 6], [1, 6, 7], [1, 6, 8], [1, 7], [1, 7, 6], [1, 8], [1, 8, 6], [2], [2, 6], [2, 6, 7], [2, 6, 8], [2, 7], [2, 7, 6], [2, 8], [2, 8, 6], [3], [3, 6], [3, 6, 7], [3, 6, 8], [3, 7], [3, 7, 6], [3, 8], [3, 8, 6], [4], [4, 6], [4, 6, 7], [4, 6, 8], [4, 7], [4, 7, 6], [4, 8], [4, 8, 6], [5], [5, 6], [5, 6, 7], [5, 6, 8], [5, 7], [5, 7, 6], [5, 8], [5, 8, 6], [6], [6, 1], [6, 1, 3], [6, 1, 3, 5], [6, 1, 3, 5, 8], [6, 1, 3, 7], [6, 1, 3, 8]]\n",
      "15\n"
     ]
    }
   ],
   "source": [
    "\n",
    "import heapq\n",
    "import itertools as it\n",
    "import math\n",
    "import copy\n",
    "\n",
    "file_num = 1\n",
    "file_name = ''.join(['14501_', str(file_num), '.txt'])\n",
    "f = open(file_name, 'r')\n",
    "def rdline():\n",
    "    return f.readline().strip()\n",
    "n = int(rdline())\n",
    "\n",
    "\n",
    "def getNextTimeList(to):\n",
    "    list = []\n",
    "    z=k = []\n",
    "    for i in range(1, n+1):\n",
    "        z = range(to, to + tb[to][0])\n",
    "        k = range(i, i + tb[i][0])\n",
    "        #set(z).isdisjoint(x)\n",
    "        if tb[i][0]+i-1 < n+1 and set(z).isdisjoint(k):\n",
    "            list.append(i)\n",
    "    return list\n",
    "\n",
    "a = []\n",
    "b = []\n",
    "def dynamic(to, visited):\n",
    "    \n",
    "    \n",
    "    for nxt in getNextTimeList(to):\n",
    "        y = list(range(nxt, nxt+tb[nxt][0]))\n",
    "        if set(visited).isdisjoint(y):\n",
    "\n",
    "            visited += y\n",
    "            a.append(nxt)\n",
    "            print(a)\n",
    "            b.append(copy.copy(a))\n",
    "            dynamic(nxt, visited)\n",
    "            a.pop()\n",
    "            for i in y:\n",
    "                visited.pop()\n",
    "\n",
    "\n",
    "                \n",
    "def main():\n",
    "    global tb\n",
    "    global n\n",
    "    visited = [0]\n",
    "    x = []\n",
    "    tb = [[] for i in range(n+1)]\n",
    "    if 1 <= n <= 15:\n",
    "        for i in range(n):\n",
    "            term, value = list(map(int, rdline().split()))\n",
    "            if 1<= term <= 5 and 1 <= value <= 1000:\n",
    "                tb[i+1]=[term, value]\n",
    "    tb[0] = [1, 0]\n",
    "    #cycle(n)\n",
    "    dynamic(0, visited)\n",
    "    #print(visited)\n",
    "    print(b)\n",
    "    print(len(b)//3)\n",
    "if __name__=='__main__':\n",
    "    main()\n"
   ]
  }
 ],
 "metadata": {
  "kernelspec": {
   "display_name": "Python 3",
   "language": "python",
   "name": "python3"
  },
  "language_info": {
   "codemirror_mode": {
    "name": "ipython",
    "version": 3
   },
   "file_extension": ".py",
   "mimetype": "text/x-python",
   "name": "python",
   "nbconvert_exporter": "python",
   "pygments_lexer": "ipython3",
   "version": "3.6.6"
  },
  "varInspector": {
   "cols": {
    "lenName": "1001000000",
    "lenType": "10000000",
    "lenVar": "1000000000"
   },
   "kernels_config": {
    "python": {
     "delete_cmd_postfix": "",
     "delete_cmd_prefix": "del ",
     "library": "var_list.py",
     "varRefreshCmd": "print(var_dic_list())"
    },
    "r": {
     "delete_cmd_postfix": ") ",
     "delete_cmd_prefix": "rm(",
     "library": "var_list.r",
     "varRefreshCmd": "cat(var_dic_list()) "
    }
   },
   "types_to_exclude": [
    "module",
    "function",
    "builtin_function_or_method",
    "instance",
    "_Feature"
   ],
   "window_display": true
  }
 },
 "nbformat": 4,
 "nbformat_minor": 4
}
