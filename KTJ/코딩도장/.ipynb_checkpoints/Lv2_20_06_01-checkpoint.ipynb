{
 "cells": [
  {
   "cell_type": "markdown",
   "metadata": {},
   "source": [
    "# Light More Light"
   ]
  },
  {
   "cell_type": "markdown",
   "metadata": {},
   "source": [
    "우리 학교에는 복도 불을 켜고 끄는 마부(Mabu)라는 사람이 있다.  \n",
    "처음에는 모든 전구가 꺼져 있다.  \n",
    "복도에 n개의 전구가 있으면, 복도를 n번 왕복한다.  \n",
    "i번째 갈 때 그는 i로 나누어 떨어지는 위치에 있는 스위치만 누른다. 처음 위치로 돌아올 때는 아무 스위치도 건드리지 않는다. i번째 왕복은 (이런 이상한 행동을 하면서) 복도를 한 번 갔다가 오는 것으로 정의된다. 마지막 전구의 최종 상태를 알아내자. 과연 그 전구는 켜져 있을까 아니면 꺼져 있을까?\n",
    "\n",
    "### Input\n",
    "\n",
    "복도에 있는 n번째 전구를 나타내는 숫자가 입력된다. (2^32-1 이하의 정수가 입력된다.) 0은 입력의 끝을 의미하며 그 값은 처리하지 않는다.\n",
    "\n",
    "### Output\n",
    "\n",
    "그 전구가 켜져 있으면 \"yes\"를, 꺼져 있으면 \"no\"를 출력한다. 테스트 케이스마다 한 줄에 하나씩 출력한다.\n",
    "\n",
    "### Sample Input\n",
    "\n",
    "3  \n",
    "6241  \n",
    "8191  \n",
    "0  \n",
    "\n",
    "### Sample Output\n",
    "\n",
    "no  \n",
    "yes  \n",
    "no  "
   ]
  },
  {
   "cell_type": "code",
   "execution_count": 2,
   "metadata": {
    "ExecuteTime": {
     "end_time": "2020-06-19T14:24:09.610272Z",
     "start_time": "2020-06-19T14:24:03.368219Z"
    }
   },
   "outputs": [
    {
     "name": "stdout",
     "output_type": "stream",
     "text": [
      "6241\n",
      "True\n"
     ]
    }
   ],
   "source": [
    "cnt = int(input())\n",
    "line = [True]*cnt\n",
    "for i in range(2, cnt):\n",
    "    line[i-1::i] = list(map(lambda x: not x, line[i-1::i] ))\n",
    "print(not line[-1])"
   ]
  },
  {
   "cell_type": "code",
   "execution_count": 15,
   "metadata": {
    "ExecuteTime": {
     "end_time": "2020-06-19T14:11:10.538856Z",
     "start_time": "2020-06-19T14:11:10.531211Z"
    }
   },
   "outputs": [
    {
     "name": "stdout",
     "output_type": "stream",
     "text": [
      "[True, True, True, True, True, False, True, True, True, True, True, False, True, True, True, True, True, False, True, True]"
     ]
    }
   ],
   "source": [
    "cnt = 20\n",
    "line = [True] * cnt\n",
    "i = 6\n",
    "line[cnt%i::i] = list(map(lambda x: not x, line[cnt%i::i]))\n",
    "i = 3\n",
    "line[cnt%i::i] = list(map(lambda x: not x, line[cnt%i::i]))\n",
    "print(line, end=\"\")"
   ]
  }
 ],
 "metadata": {
  "kernelspec": {
   "display_name": "Python 3",
   "language": "python",
   "name": "python3"
  },
  "language_info": {
   "codemirror_mode": {
    "name": "ipython",
    "version": 3
   },
   "file_extension": ".py",
   "mimetype": "text/x-python",
   "name": "python",
   "nbconvert_exporter": "python",
   "pygments_lexer": "ipython3",
   "version": "3.6.6"
  },
  "varInspector": {
   "cols": {
    "lenName": 16,
    "lenType": 16,
    "lenVar": 40
   },
   "kernels_config": {
    "python": {
     "delete_cmd_postfix": "",
     "delete_cmd_prefix": "del ",
     "library": "var_list.py",
     "varRefreshCmd": "print(var_dic_list())"
    },
    "r": {
     "delete_cmd_postfix": ") ",
     "delete_cmd_prefix": "rm(",
     "library": "var_list.r",
     "varRefreshCmd": "cat(var_dic_list()) "
    }
   },
   "types_to_exclude": [
    "module",
    "function",
    "builtin_function_or_method",
    "instance",
    "_Feature"
   ],
   "window_display": false
  }
 },
 "nbformat": 4,
 "nbformat_minor": 4
}
