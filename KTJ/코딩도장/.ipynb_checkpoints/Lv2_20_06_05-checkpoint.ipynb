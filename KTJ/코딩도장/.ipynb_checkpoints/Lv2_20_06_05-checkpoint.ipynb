{
 "cells": [
  {
   "cell_type": "markdown",
   "metadata": {},
   "source": [
    "# 10진수를 n진수로 변환하기"
   ]
  },
  {
   "cell_type": "markdown",
   "metadata": {},
   "source": [
    "다음은 233 이란 10진수를 2진수로 변환하는 과정을 나타낸 그림이다.\n",
    "\n",
    "\n",
    "\n",
    "위 그림을 참조하여 라이브러리를 사용하지 말고 10진수를 n진수로 변환하는 프로그램을 작성하시오.. (단, n의 범위는 2 <= n <= 16)\n",
    "\n",
    "예)\n",
    "\n",
    "2진수로 변환 : 23310 --> 111010012  \n",
    "8진수로 변환 : 23310 --> 3518  \n",
    "16진수로 변환 : 23310 --> E916  "
   ]
  },
  {
   "cell_type": "code",
   "execution_count": 31,
   "metadata": {
    "scrolled": true
   },
   "outputs": [
    {
     "name": "stdout",
     "output_type": "stream",
     "text": [
      "351\n"
     ]
    }
   ],
   "source": [
    "def TenToOther(n, x):\n",
    "    m = list()\n",
    "    q = n\n",
    "    while q > 0:\n",
    "        q, r = divmod(q, x)\n",
    "        m.append(r)\n",
    "\n",
    "    m =  int(''.join([str(i) for i in m[::-1] ] ))\n",
    "    print(m)\n",
    "\n",
    "TenToOther(233, 8)"
   ]
  },
  {
   "cell_type": "markdown",
   "metadata": {},
   "source": [
    "# 문자열 압축하기"
   ]
  },
  {
   "cell_type": "markdown",
   "metadata": {},
   "source": [
    "문자열을 입력받아서, 같은 문자가 연속적으로 반복되는 경우에 그 반복 횟수를 표시하여 문자열을 압축하기.\n",
    "\n",
    "입력 예시: aaabbcccccca\n",
    "\n",
    "출력 예시: a3b2c6a1"
   ]
  },
  {
   "cell_type": "code",
   "execution_count": 7,
   "metadata": {},
   "outputs": [
    {
     "name": "stdout",
     "output_type": "stream",
     "text": [
      "['a', 3, 'b', 2, 'c', 6, 'a']\n"
     ]
    }
   ],
   "source": [
    "def StrZip(s):\n",
    "    s = list(s)\n",
    "    n = 1\n",
    "    i = 0\n",
    "    l = len(s)\n",
    "    while i < l:\n",
    "        c = 1\n",
    "        if type(s[i]) == type('a'):\n",
    "            j=i+1\n",
    "            while True:\n",
    "                if s[i] == s[j]:\n",
    "                    c += 1\n",
    "                    del s[j]\n",
    "                    l = len(s)\n",
    "                if s[i]!=s[j] or l-1 == i:\n",
    "                    s.insert(i+1, c)\n",
    "                    break\n",
    "        i += 1\n",
    "    \n",
    "    #s = ''.join(s)\n",
    "    print(s)\n",
    "    \n",
    "StrZip('aaabbcccccca')"
   ]
  },
  {
   "cell_type": "code",
   "execution_count": 13,
   "metadata": {},
   "outputs": [
    {
     "name": "stdout",
     "output_type": "stream",
     "text": [
      "['a', 3, 'b', 2, 'c', 6, 'a', 1]\n"
     ]
    }
   ],
   "source": [
    "m = list('aaabbcccccca')\n",
    "i = 0\n",
    "l = len(m)\n",
    "c = 1\n",
    "while True:\n",
    "    j = i+1\n",
    "    if j >= l:\n",
    "        m.insert(j, c)\n",
    "        break\n",
    "    else:\n",
    "        if m[i] == m[j]:\n",
    "            del m[j]\n",
    "            l = len(m)\n",
    "            c += 1\n",
    "        else:\n",
    "            m.insert(j, c)\n",
    "            c = 1\n",
    "            i += 2\n",
    "        \n",
    "print(m)"
   ]
  }
 ],
 "metadata": {
  "kernelspec": {
   "display_name": "Python 3",
   "language": "python",
   "name": "python3"
  },
  "language_info": {
   "codemirror_mode": {
    "name": "ipython",
    "version": 3
   },
   "file_extension": ".py",
   "mimetype": "text/x-python",
   "name": "python",
   "nbconvert_exporter": "python",
   "pygments_lexer": "ipython3",
   "version": "3.6.6"
  }
 },
 "nbformat": 4,
 "nbformat_minor": 4
}
