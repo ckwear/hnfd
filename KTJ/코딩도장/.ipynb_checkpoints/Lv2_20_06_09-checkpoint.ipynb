{
 "cells": [
  {
   "cell_type": "markdown",
   "metadata": {},
   "source": [
    "# h-index & g-index"
   ]
  },
  {
   "cell_type": "markdown",
   "metadata": {},
   "source": [
    "연구자의 연구업적을 평가할 때 사용되는 지표 중 h-index와 g-index라는 것이 있다.\n",
    "\n",
    "-h-index : 인용 횟수가 h번 이상인 논문이 h개일 때 가능한 h의 최댓값  \n",
    "-g-index : 인용 횟수가 높은 상위 g개 논문의 인용 횟수 총합이 g²이상일 때 가능한 g의 최댓값  \n",
    "\n",
    "어떤 학자가 쓴 논문 각각의 인용 횟수가 주어질 때, h-index와 g-index를 계산하시오.  \n",
    "\n",
    "e.g.)\n",
    "\n",
    "입력 : 0 15 4 0 7 10 0  \n",
    "h-index : 4  \n",
    "g-index : 6  "
   ]
  },
  {
   "cell_type": "markdown",
   "metadata": {},
   "source": [
    "# Happy Number"
   ]
  },
  {
   "cell_type": "markdown",
   "metadata": {},
   "source": [
    "양의 정수 S0 의 각 아라비아 숫자들의 제곱의 합으로 양의 정수 S1을 만든다고 하자.\n",
    "\n",
    "동일한 방법이라면, S1으로 S2를 만들 수 있고, 이 후로도 계속 만들 수 있다.\n",
    "\n",
    "만약 어떤 i(i ≥ 1)에 대해서 Si = 1이라면, 최초의 S0를 Happy Number라고 부른다.\n",
    "\n",
    "Happy Number가 아닌 수를 Unhappy Number라고 부른다.\n",
    "\n",
    "예를 들어, 7에서 시작하게 되면 다음과 같은 일련의 순서를 가지게 되며\n",
    "\n",
    "7, 49(=7^2), 97(=4^2+9^2), 130(=9^2+7^2), 10(=1^2+3^2), 1(=1^2),  \n",
    "\n",
    "따라서 7은 즐거운 수이다.  \n",
    "\n",
    "그리고 4는   \n",
    "  \n",
    "4, 16(4^2), 37(1^2+6^2), 58(3^2+7^2), 89(5^2+8^2), 145(8^2+9^2),  \n",
    "\n",
    "42(1^2+4^2+5^2), 20(4^2+2^2), 4(2^2)의 순서로 반복되므로 Unhappy Number이다.  \n",
    "\n",
    "== 입력 ==  \n",
    "첫 라인은 인풋 케이스의 수 n이 주어지며 이후 n라인의 케이스가 주어진다.  \n",
    "\n",
    "각 테스트 케이스는 한 개의 양의 정수 N으로 구성되며 N은 10^9 보다 작다.  \n",
    "\n",
    "== 출력 ==  \n",
    "출력은 주어진 수 N이 Happy Number인지 Unhappy Number인지 여부에 따라 다음과 같이 출력한다.  \n",
    "\n",
    "N이 Happy Number라면 “Case #p: N is a Happy number.”  \n",
    "\n",
    "N이 Unhappy Number라면 “Case #p: N is an Unhappy number.”  \n",
    "  \n",
    "p는 1부터 시작하는 케이스의 번호이며 각각의 케이스는 한 줄에 결과를 표시한다.  \n",
    "\n",
    "== 샘플 인풋 ==  \n",
    "3  \n",
    "\n",
    "7  \n",
    "\n",
    "4  \n",
    " \n",
    "13  \n",
    "\n",
    "== 샘플 출력 ==  \n",
    "Case #1: 7 is a Happy number.  \n",
    "\n",
    "Case #2: 4 is an Unhappy number.  \n",
    "\n",
    "Case #3: 13 is a Happy number.  \n",
    "\n",
    "== 채점 기준 ==  \n",
    "작성한 프로그램은 각각의 테스트케이스에 대해서 올바른 결과를 출력하여야 한다.  \n",
    "\n",
    "입력 후 결과 출력까지 걸리는 시간이 빠르면 빠를수록 좋다.  \n",
    "\n",
    "(* 이번 문제는 정확한 결과만큼이나 속도도 중요합니다)  \n",
    "\n",
    "프로그램에서 사용한 자료구조 및 알고리즘이 적절하여야 한다.  \n",
    "\n",
    "그 외 일반적인 코드 구조, 스타일, 에러/예외 처리 등이 적절할수록 좋다.  \n",
    "\n",
    "UVA 10591 문제이고, 이스트소프트 개발직군 샘플문제로 공개된 자료를 가져왔습니다. 채점기준을 준수한다면 난이도는 좀 더 상승될 것 같습니다.  \n",
    "\n",
    "채점기준에서 속도가 중요하다 했는데, 대부분의 수들이 길지 않은 싸이클로 반복하다보니 처리시간은 순식간입니다. 수십, 수백만개의 Case에 대해 처리시간을 체크해봐야 차이가 날것 같습니다.  "
   ]
  },
  {
   "cell_type": "code",
   "execution_count": 14,
   "metadata": {},
   "outputs": [
    {
     "name": "stdout",
     "output_type": "stream",
     "text": [
      "1\n"
     ]
    }
   ],
   "source": [
    "def find_happy_number(n):\n",
    "    s = n\n",
    "    while True:\n",
    "        l = list(str(s))\n",
    "        s = sum([int(i)**2 for i in l])\n",
    "        if s == 1 or s == n:\n",
    "            return s\n",
    "    \n",
    "    \n",
    "    \n",
    "print(find_happy_number(13))"
   ]
  },
  {
   "cell_type": "markdown",
   "metadata": {},
   "source": [
    "# 주식차트를 위한 ohlc 데이터 만들기"
   ]
  },
  {
   "cell_type": "markdown",
   "metadata": {},
   "source": [
    "주식차트는 분,초,시,일 등의 가격 데이터를 O(open), H(high), L(low), C(close)를 가지고 봉 형태로 표시해 줍니다. 이를 candlesticks chart라고 합니다.  \n",
    "\n",
    "그러면, 주식의 거래데이터가 아래와 가티 주어질 때 ohlc를 만듭니다.  \n",
    "\n",
    "###   \n",
    "실제 상황과 비슷하게 하기 위해서 아래 예제를 조금 바꾸어보았습니다. 조건이 바뀌기 전에 답을 주신 '상파'님의 양해를 먼저 구합니다.  \n",
    "###  \n",
    "\n",
    "예) 1분마다 open, high, low, close를 만듭니다.  \n",
    "분:초, 거래가격  \n",
    "1:02, 1100  \n",
    "1:20, 1170  \n",
    "1:59, 1090  \n",
    "2:30, 1030  \n",
    "2:31, 1110  \n",
    "2:42, 1150  \n",
    "2:55, 1210  \n",
    "2:56, 1190  \n",
    "3:02, 1120  \n",
    "3:09, 1100  \n",
    "4:15, 1090  \n",
    "4:20, 1080  \n",
    "4:55, 1050  \n",
    "4:56, 1020  \n",
    "4:57, 1000  \n",
    "  \n",
    "[조건] 실제 주식 거래의 경우,, 분당 거래 회수가 10번, 100번, 1000번 등일 수 있으므로, high, low를 찾을 때 되도록 전체 데이터에서 찾지 않고,, 앞뒤 데이터를 비교하여 찾아주십시오..   \n",
    "\n",
    "답:   \n",
    "open = [1100, 1030, 1120, 1090]  \n",
    "high = [1170, 1210, 1120, 1090]  \n",
    "low = [1090, 1030, 1100, 1000]  \n",
    "close = [1090, 1190, 1100, 1000]  "
   ]
  },
  {
   "cell_type": "code",
   "execution_count": 139,
   "metadata": {},
   "outputs": [
    {
     "name": "stdout",
     "output_type": "stream",
     "text": [
      "1:02 1100\n",
      "[]\n",
      "1:20 1170\n",
      "1:59 1090\n",
      "2:30 1030\n",
      "[1100, 1170, 1090]\n",
      "2:31 1110\n",
      "2:42 1150\n",
      "2:55 1210\n",
      "2:56 1190\n",
      "3:02 1120\n",
      "[1030, 1110, 1150, 1210, 1190]\n",
      "3:09 1100\n",
      "4:15 1090\n",
      "[1120, 1100]\n",
      "4:20 1080\n",
      "4:55 1050\n",
      "4:56 1020\n",
      "4:57 1000\n",
      "\n",
      "[1100, 1030, 1120, 1090]\n",
      "[1170, 1210, 1120, 1090]\n",
      "[1090, 1030, 1100, 1000]\n",
      "[1090, 1190, 1100, 1000]\n"
     ]
    }
   ],
   "source": [
    "from datetime import datetime\n",
    "\n",
    "def main():\n",
    "    op = [];hi = [];lo = [];cl = [];z = []\n",
    "    m = 0;s = 0;c = 0\n",
    "    rcd = open(\"Lv. 2주식차트를 위한 ohlc 데이터 만들기.txt\", \"r\")\n",
    "    while True:\n",
    "        line = rcd.readline().strip().replace(',', '')\n",
    "        print(line)\n",
    "        if not line: \n",
    "            if len(z) > 0:\n",
    "                hi.append(max(z))\n",
    "                lo.append(min(z))\n",
    "                cl.append(z[-1])\n",
    "            break\n",
    "        line = line.split(' ')\n",
    "\n",
    "        t = datetime.strptime(line[0], '%M:%S').time()\n",
    "        t = [t.minute, t.second, int(line[1])]\n",
    "        if m != t[0]or not line:\n",
    "            m = t[0]\n",
    "            print(z)\n",
    "            if len(z) > 0:\n",
    "                hi.append(max(z))\n",
    "                lo.append(min(z))\n",
    "                cl.append(z[-1])\n",
    "            del z[:]\n",
    "            op.append(t[2])     \n",
    "        z.append(t[2])\n",
    "        #print(t)\n",
    "        \n",
    "    rcd.close()\n",
    "    print(op)\n",
    "    print(hi)\n",
    "    print(lo)\n",
    "    print(cl)\n",
    "if __name__=='__main__':\n",
    "    main()"
   ]
  },
  {
   "cell_type": "markdown",
   "metadata": {},
   "source": [
    "# 소수의 개수 구해보기."
   ]
  },
  {
   "cell_type": "markdown",
   "metadata": {},
   "source": [
    "2이상 1000이하 자연수의 집합에서 소수의 개수를 구하는 알고리즘을 작성하시오."
   ]
  },
  {
   "cell_type": "code",
   "execution_count": 13,
   "metadata": {
    "ExecuteTime": {
     "end_time": "2020-06-19T14:36:12.620927Z",
     "start_time": "2020-06-19T14:36:12.615468Z"
    }
   },
   "outputs": [
    {
     "name": "stdout",
     "output_type": "stream",
     "text": [
      "161\n"
     ]
    }
   ],
   "source": [
    "def sieve(n):\n",
    "    num = int(n**.5)\n",
    "    tb = list(range(2,n+1))\n",
    "    for i in range(2, num):\n",
    "        tb[i-1::i] = [0]*((n-1)//i)\n",
    "    return n-tb.count(0)\n",
    "print(sieve(1000))"
   ]
  },
  {
   "cell_type": "markdown",
   "metadata": {},
   "source": [
    "# 간단한 몬테카를로 방법(Montecarlo Method) 예시"
   ]
  },
  {
   "cell_type": "markdown",
   "metadata": {},
   "source": [
    "몬테카를로 방법은 과학과 공학 전 영역에 걸쳐 널리 사용되는 방법이다. 확률적인 해석을 요구하는 문제를 풀고싶을 때, 이 방법이 주로 쓰인다. 역사적으로는 물리학에서 자주 사용되었다고 전해진다. 1940년도에 원자로의 연쇄 반응 제어를 최초로 실현한 물리학자 엔리코 페르미는 중성자 확산(Neutron Diffusion)을 연구하면서, 이 방법을 자주 사용하였고, 로스앨러모스에서 맨하탄 프로젝트가 수행될 때 현대적인 버전의 몬테카를로 방법이 개발되었다고 전해진다.  \n",
    "\n",
    "참고 Montecarlo  \n",
    "\n",
    "몬테카를로 방법의 가장 간단한 예시로는 원주율(π)의 값을 추정하는 것이다.  \n",
    "\n",
    "넓이가 1인 정사각형을 생각하자. 정사각형의 한 꼭지점을 중심으로 반지름이 1인 사분원을 정사각형 안에 그린다. 그러면 사분원이 차지하는 넓이는 π/4가 될 것이다. 이제, 0 <= x <= 1인 x를 임의로 가져오고, 독립적으로 0 <= y <= 1인 y를 임의로 가져온 후, x^2 + y^2 <= 1일 확률은 사분원이 차지하는 넓이와 같은 값인 π/4가 된다.  \n",
    "\n",
    "이 과정을 여러 번 수행하는 알고리즘을 작성하고, 원주율의 값을 추정하시오.\n",
    "\n",
    "<img src=\"https://upload.wikimedia.org/wikipedia/commons/8/84/Pi_30K.gif\"  style=\"float:left\" title=\"깃헙\">"
   ]
  },
  {
   "cell_type": "code",
   "execution_count": 298,
   "metadata": {},
   "outputs": [
    {
     "name": "stdout",
     "output_type": "stream",
     "text": [
      "66049\n",
      "100000\n",
      "51487\n",
      "25863\n",
      "total size    : 51487\n",
      "circle size   : 25624\n"
     ]
    }
   ],
   "source": [
    "from random import randrange\n",
    "f = 256\n",
    "def make_circle(n):\n",
    "    m = [[0 for i in range(f+1)] for j in range(f+1)]\n",
    "    s = f**2\n",
    "    i = 0\n",
    "    a =[i.count(0) for i in m]\n",
    "    z= sum(a)    \n",
    "    print(z)\n",
    "    while i < n:\n",
    "        x = randrange(f+1)\n",
    "        y = randrange(f+1)\n",
    "        m[x][y] = 1\n",
    "        i += 1\n",
    "    \n",
    "    print(i)\n",
    "    \n",
    "    a =[sum(i) for i in m]\n",
    "    b\n",
    "    z= sum(a) \n",
    "    print(z)\n",
    "    cnt = 0\n",
    "    for i in range(f):\n",
    "        for j in range(f):\n",
    "            if i + j <= f and m[i][j] == 1:\n",
    "                cnt += 1\n",
    "    print(cnt)\n",
    "    print('total size    : %d' % z)\n",
    "    print('circle size   : %d' % (z-cnt))\n",
    "    \n",
    "make_circle(100000)"
   ]
  },
  {
   "cell_type": "markdown",
   "metadata": {},
   "source": [
    "# 상품 is 뭔들 (2016 인하대 프로그래밍 경진대회 B번)"
   ]
  },
  {
   "cell_type": "markdown",
   "metadata": {},
   "source": [
    "정보통신처에서는 2016년 6월 4일 인하 광장에서 이벤트를 진행하려고 한다. 정보통신처에서 인하 광장에 올린 게시글에 N번째로 댓글을 단 모든 학생에게 상품을 지급하기로 하였다. 단, N은 약수의 개수가 홀수여야 한다. 인하 광장을 즐겨보는 찬미는 이 이벤트에 참가하기로 하였다. 찬미는 댓글을 작성한 후 자신이 상품을 받을 확률이 얼마나 되는지 궁금해졌다. 찬미가 댓글을 작성하기 전의 총 댓글 수가 a개이고, 댓글을 작성 후의 총 댓글 수가 b개일 때 찬미의 댓글은 a보다 크고 b보다 작거나 같은 범위 안에 존재한다고 한다. 예를 들어 a가 1이고, b가 4인 경우 [2, 3, 4] 중 한 곳에 댓글이 존재한다. 이 중 약수의 개수가 홀수인 숫자는 4, 한 개이므로 상품을 받을 확률은 1/3이다. 찬미를 도와 찬미가 상품을 받을 확률을 구하는 프로그램을 작성하라.\n",
    "\n",
    "입력  \n",
    "\n",
    "입력의 첫 줄에는 정수 a와 b가 주어진다. (1 ≤ a, b ≤ 2^60) b는 a보다 항상 크다  \n",
    "\n",
    "출력\n",
    "\n",
    "찬미가 상품을 지급받을 확률을 기약분수 형태로 출력한다. 만약 확률이 0인 경우 0을 출력한다.\n",
    "\n",
    "예제 입력\n",
    "\n",
    "1 4  \n",
    "예제 출력\n",
    "\n",
    "1/3"
   ]
  },
  {
   "cell_type": "markdown",
   "metadata": {},
   "source": [
    "현제 댓글 계수  : a  \n",
    "다음 댓글 개수  : b  \n",
    "        target : n번 째의 약수의 개수는 홀수 개  "
   ]
  },
  {
   "cell_type": "code",
   "execution_count": 21,
   "metadata": {
    "ExecuteTime": {
     "end_time": "2020-06-19T14:49:02.022070Z",
     "start_time": "2020-06-19T14:49:02.008223Z"
    }
   },
   "outputs": [
    {
     "data": {
      "text/plain": [
       "1"
      ]
     },
     "execution_count": 21,
     "metadata": {},
     "output_type": "execute_result"
    }
   ],
   "source": [
    "def din(t):\n",
    "    c = 0\n",
    "    for i in range(len(t)):\n",
    "        cnt = 0\n",
    "        for j in range(2, t[i]):\n",
    "            if t[i]%j == 0:\n",
    "                cnt += 1\n",
    "        if cnt%2==1:\n",
    "            c += 1\n",
    "    #return '%d / %d' % (c, len(c))\n",
    "    return c\n",
    "din(range(2, 5))"
   ]
  }
 ],
 "metadata": {
  "kernelspec": {
   "display_name": "Python 3",
   "language": "python",
   "name": "python3"
  },
  "language_info": {
   "codemirror_mode": {
    "name": "ipython",
    "version": 3
   },
   "file_extension": ".py",
   "mimetype": "text/x-python",
   "name": "python",
   "nbconvert_exporter": "python",
   "pygments_lexer": "ipython3",
   "version": "3.6.6"
  },
  "varInspector": {
   "cols": {
    "lenName": 16,
    "lenType": 16,
    "lenVar": 40
   },
   "kernels_config": {
    "python": {
     "delete_cmd_postfix": "",
     "delete_cmd_prefix": "del ",
     "library": "var_list.py",
     "varRefreshCmd": "print(var_dic_list())"
    },
    "r": {
     "delete_cmd_postfix": ") ",
     "delete_cmd_prefix": "rm(",
     "library": "var_list.r",
     "varRefreshCmd": "cat(var_dic_list()) "
    }
   },
   "types_to_exclude": [
    "module",
    "function",
    "builtin_function_or_method",
    "instance",
    "_Feature"
   ],
   "window_display": false
  }
 },
 "nbformat": 4,
 "nbformat_minor": 4
}
