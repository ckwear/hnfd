{
 "cells": [
  {
   "cell_type": "markdown",
   "metadata": {},
   "source": [
    "# 그 시간 사무실에 몇 명이 있었나?"
   ]
  },
  {
   "cell_type": "markdown",
   "metadata": {},
   "source": [
    " A사무실에는 특정일자의 출퇴근 시간이 기록된 거대한 로그파일이 있다고 한다.\n",
    "파일의 형식은 다음과 같다. (한 라인에서 앞부분은 출근시간(HH:MM:SS), 뒷부분은 퇴근시간이다)\n",
    "\n",
    "09:12:23 11:14:35\n",
    "10:34:01 13:23:40\n",
    "10:34:31 11:20:10\n",
    "\n",
    "특정시간을 입력(예:11:05:20)으로 주었을 때 그 시간에 총 몇 명이 사무실에 있었는지 알려주는 함수를 작성하시오.\n",
    "\n",
    "11:05:20"
   ]
  },
  {
   "cell_type": "code",
   "execution_count": 47,
   "metadata": {
    "scrolled": false
   },
   "outputs": [
    {
     "name": "stdout",
     "output_type": "stream",
     "text": [
      "11:05:20\n"
     ]
    },
    {
     "ename": "NameError",
     "evalue": "name 'nwtime' is not defined",
     "output_type": "error",
     "traceback": [
      "\u001b[0;31m---------------------------------------------------------------------------\u001b[0m",
      "\u001b[0;31mNameError\u001b[0m                                 Traceback (most recent call last)",
      "\u001b[0;32m<ipython-input-47-57cf1117ae59>\u001b[0m in \u001b[0;36m<module>\u001b[0;34m\u001b[0m\n\u001b[1;32m     14\u001b[0m \u001b[0;32mif\u001b[0m \u001b[0mkk\u001b[0m\u001b[0;34m[\u001b[0m\u001b[0;36m2\u001b[0m\u001b[0;34m]\u001b[0m \u001b[0;34m<=\u001b[0m \u001b[0mnowtime\u001b[0m \u001b[0;32mand\u001b[0m \u001b[0mnowtime\u001b[0m \u001b[0;34m<=\u001b[0m \u001b[0mkk\u001b[0m\u001b[0;34m[\u001b[0m\u001b[0;36m3\u001b[0m\u001b[0;34m]\u001b[0m\u001b[0;34m:\u001b[0m\u001b[0;34m\u001b[0m\u001b[0;34m\u001b[0m\u001b[0m\n\u001b[1;32m     15\u001b[0m     \u001b[0mcnt\u001b[0m\u001b[0;34m+=\u001b[0m\u001b[0;36m1\u001b[0m\u001b[0;34m\u001b[0m\u001b[0;34m\u001b[0m\u001b[0m\n\u001b[0;32m---> 16\u001b[0;31m \u001b[0;32mif\u001b[0m \u001b[0mkk\u001b[0m\u001b[0;34m[\u001b[0m\u001b[0;36m4\u001b[0m\u001b[0;34m]\u001b[0m \u001b[0;34m<=\u001b[0m \u001b[0mnowtime\u001b[0m \u001b[0;32mand\u001b[0m \u001b[0mnwtime\u001b[0m \u001b[0;34m<=\u001b[0m \u001b[0mkk\u001b[0m\u001b[0;34m[\u001b[0m\u001b[0;36m5\u001b[0m\u001b[0;34m]\u001b[0m\u001b[0;34m:\u001b[0m\u001b[0;34m\u001b[0m\u001b[0;34m\u001b[0m\u001b[0m\n\u001b[0m\u001b[1;32m     17\u001b[0m     \u001b[0mcnt\u001b[0m\u001b[0;34m+=\u001b[0m\u001b[0;36m1\u001b[0m\u001b[0;34m\u001b[0m\u001b[0;34m\u001b[0m\u001b[0m\n\u001b[1;32m     18\u001b[0m \u001b[0;34m\u001b[0m\u001b[0m\n",
      "\u001b[0;31mNameError\u001b[0m: name 'nwtime' is not defined"
     ]
    }
   ],
   "source": [
    "import time\n",
    "import pandas as pd\n",
    "cnt = 0\n",
    "timetable =  '09:12:23 11:14:35 10:34:01 13:23:40 10:34:31 11:20:10'\n",
    "inpt = [int(s) for s in input().split(':')]\n",
    "\n",
    "nowtime = inpt[0]*3600 + inpt[1]*60+inpt[2]\n",
    "\n",
    "timetable = timetable.split()\n",
    "timetable = [[int(x) for x in y] for y in [x.split(':') for x in timetable]]\n",
    "kk = [h*3600+m*60+s for h,m,s in timetable]\n",
    "\n",
    "if kk[0] <= nowtime and nowtime <= kk[1]:\n",
    "    cnt+=1\n",
    "if kk[2] <= nowtime and nowtime <= kk[3]:\n",
    "    cnt+=1\n",
    "if kk[4] <= nowtime and nwtime <= kk[5]:\n",
    "    cnt+=1\n",
    "\n",
    "print(cnt)"
   ]
  },
  {
   "cell_type": "code",
   "execution_count": 1,
   "metadata": {},
   "outputs": [
    {
     "ename": "NameError",
     "evalue": "name 'asdf' is not defined",
     "output_type": "error",
     "traceback": [
      "\u001b[1;31m---------------------------------------------------------------------------\u001b[0m",
      "\u001b[1;31mNameError\u001b[0m                                 Traceback (most recent call last)",
      "\u001b[1;32m<ipython-input-1-7d97e98f8af7>\u001b[0m in \u001b[0;36m<module>\u001b[1;34m\u001b[0m\n\u001b[1;32m----> 1\u001b[1;33m \u001b[0masdf\u001b[0m\u001b[1;33m\u001b[0m\u001b[1;33m\u001b[0m\u001b[0m\n\u001b[0m",
      "\u001b[1;31mNameError\u001b[0m: name 'asdf' is not defined"
     ]
    }
   ],
   "source": []
  },
  {
   "cell_type": "markdown",
   "metadata": {},
   "source": [
    "# Jolly Jumpers"
   ]
  },
  {
   "cell_type": "markdown",
   "metadata": {},
   "source": [
    " n개의 정수(n>0)로 이루어진 수열에 대해 서로 인접해 있는 두 수의 차가 1에서 n-1까지의 값을 모두 가지면 그 수열을 유쾌한 점퍼(jolly jumper)라고 부른다. 예를 들어 다음과 같은 수열에서\n",
    "\n",
    "1 4 2 3\n",
    "\n",
    "앞 뒤에 있는 숫자 차의 절대 값이 각각 3,2,1이므로 이 수열은 유쾌한 점퍼가 된다. 어떤 수열이 유쾌한 점퍼인지 판단할 수 있는 프로그램을 작성하라.\n",
    "\n",
    "Input\n",
    "\n",
    "각 줄 맨 앞에는 3000 이하의 정수가 있으며 그 뒤에는 수열을 나타내는 n개의 정수가 입력된다. 맨 앞 숫자가 0이면 출력하고 종료한다.\n",
    "\n",
    "output\n",
    "\n",
    "입력된 각 줄에 대해 \"Jolly\" 또는 \"Not Jolly\"를 한 줄씩 출력한다\n",
    "\n",
    "Sample Input\n",
    "\n",
    "4 1 4 2 3\n",
    "\n",
    "5 1 4 2 -1 6\n",
    "\n",
    "※ 주의: 각 줄의 맨 앞의 숫자는 수열의 갯수이다. 첫번째 입력인 4 1 4 2 3 의 맨 앞의 4는 뒤에 4개의 숫자가 온다는 것을 의미함\n",
    "\n",
    "Sample Output\n",
    "\n",
    "Jolly\n",
    "Not jolly"
   ]
  },
  {
   "cell_type": "code",
   "execution_count": 21,
   "metadata": {},
   "outputs": [
    {
     "name": "stdout",
     "output_type": "stream",
     "text": [
      "5 1 4 2 -1 6\n",
      "Not jolly\n",
      "4 1 4 2 3\n",
      "Jolly\n",
      "0\n"
     ]
    }
   ],
   "source": [
    "import math\n",
    "while True:\n",
    "    m = [int(i) for i in input().split()]\n",
    "    if m[0] == 0: break\n",
    "    m2 = [abs(m[i]-m[i+1]) for i in range(1, len(m)-1)]\n",
    "    s = list(reversed([i for i in range(1, len(m)-1)]))\n",
    "    print('Jolly') if s == m2 else print('Not jolly')"
   ]
  },
  {
   "cell_type": "code",
   "execution_count": 23,
   "metadata": {},
   "outputs": [
    {
     "name": "stdout",
     "output_type": "stream",
     "text": [
      "4 1 4 2 3\n",
      "Jolly\n",
      "0\n"
     ]
    }
   ],
   "source": [
    "def is_jolly(nums):\n",
    "    diff = [abs(a - b) for a, b in zip(nums, nums[1:])]\n",
    "    return 'Jolly' if len({abs(a - b) for a, b in zip(diff, diff[1:])}) == 1 else 'Not jolly'\n",
    "\n",
    "while 1:\n",
    "    line = list(map(int, input().strip().split()))\n",
    "    n, nums = line[0], line[1:]\n",
    "    if n == 0:\n",
    "        break\n",
    "    print(is_jolly(nums))"
   ]
  },
  {
   "cell_type": "markdown",
   "metadata": {},
   "source": [
    "# Every Other Digit"
   ]
  },
  {
   "cell_type": "markdown",
   "metadata": {},
   "source": [
    "모든 짝수번째 숫자를 * 로 치환하시오.(홀수번째 숫자,또는 짝수번째 문자를 치환하면 안됩니다.) 로직을 이용하면 쉬운데 정규식으로는 어려울거 같아요.\n",
    "\n",
    "Example: a1b2cde3\\~g45hi6 → a*b*cde*\\~g4*hi6"
   ]
  },
  {
   "cell_type": "code",
   "execution_count": null,
   "metadata": {},
   "outputs": [],
   "source": []
  }
 ],
 "metadata": {
  "kernelspec": {
   "display_name": "Python 3",
   "language": "python",
   "name": "python3"
  },
  "language_info": {
   "codemirror_mode": {
    "name": "ipython",
    "version": 3
   },
   "file_extension": ".py",
   "mimetype": "text/x-python",
   "name": "python",
   "nbconvert_exporter": "python",
   "pygments_lexer": "ipython3",
   "version": "3.6.6"
  },
  "varInspector": {
   "cols": {
    "lenName": "1001000000",
    "lenType": "10000000",
    "lenVar": "1000000000"
   },
   "kernels_config": {
    "python": {
     "delete_cmd_postfix": "",
     "delete_cmd_prefix": "del ",
     "library": "var_list.py",
     "varRefreshCmd": "print(var_dic_list())"
    },
    "r": {
     "delete_cmd_postfix": ") ",
     "delete_cmd_prefix": "rm(",
     "library": "var_list.r",
     "varRefreshCmd": "cat(var_dic_list()) "
    }
   },
   "types_to_exclude": [
    "module",
    "function",
    "builtin_function_or_method",
    "instance",
    "_Feature"
   ],
   "window_display": true
  }
 },
 "nbformat": 4,
 "nbformat_minor": 4
}
