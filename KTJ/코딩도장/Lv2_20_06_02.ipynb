{
 "cells": [
  {
   "cell_type": "markdown",
   "metadata": {},
   "source": [
    "# Ones"
   ]
  },
  {
   "cell_type": "markdown",
   "metadata": {},
   "source": [
    "2나 5로 나눌 수 없는 0 이상 10,000 이하의 정수 n이 주어졌는데, n의 배수 중에는 10진수로 표기했을 때 모든 자리 숫자가 1인 것이 있다. 그러한 n의 배수 중에서 가장 작은 것은 몇 자리 수일까?\n",
    "\n",
    "#### Sample Input \n",
    "\n",
    "    3 \n",
    "    7 \n",
    "    9901 \n",
    "\n",
    "#### Sample Output \n",
    "\n",
    "    3 \n",
    "    6 \n",
    "    12 "
   ]
  },
  {
   "cell_type": "code",
   "execution_count": null,
   "metadata": {},
   "outputs": [],
   "source": []
  },
  {
   "cell_type": "markdown",
   "metadata": {},
   "source": [
    "# Reverse And Add"
   ]
  },
  {
   "cell_type": "code",
   "execution_count": null,
   "metadata": {},
   "outputs": [],
   "source": [
    "일단 어떤 수를 받아서 그 수를 뒤집은 다음 뒤집어진 수를 원래의 수에 더하는 과정을 뒤집어서 더하기라고 부르자. 그 합이 \n",
    "회문(palindrome, 앞뒤 어느 쪽에서 읽어도 같은 말이 되는 어구. 예:eye, madam, 소주만병만주소)이 아니면 회문이 될 때까지 \n",
    "이 과정을 반복한다.\n",
    "\n",
    "예를 들어 처음에 195에서 시작해서 다음과 같이 네 번 뒤집어서 더하기를 반복하면 9339라는 회문이 만들어진다.\n",
    "\n",
    "  195       786        1473       5214\n",
    "+591     +687      +3741     +4125\n",
    "----------     -----------      -----------       -----------\n",
    " 786      1473        5214       9339\n",
    "대부분의 정수는 이 방법을 몇 단계만 반복하면 회문이 된다. 하지만 예외도 있다. 회문을 찾을 수 없는 것으로 밝혀진 첫번째\n",
    "수는 196이다. 하지만 회문이 없다는 것이 증명된 적은 없다.\n",
    "\n",
    "어떤 수가 주어졌을 때 회문이 있으면 출력하고, 그 회문을 찾기까지 뒤집어서 더하기를 반복한 횟수를 출력하는 프로그램을\n",
    "만들어야 한다.\n",
    "\n",
    "테스트 데이터로 사용되는 수는 모두 뒤집어서 더하기를 1,000번 미만 반복해서 회문을 찾을 수 있는 수고, 그렇게 만들어진\n",
    "회문을 4,294,967,295보다 크지 않다고 가정해도 된다.\n",
    "\n",
    "#### Input\n",
    "\n",
    "첫번째 줄에는 테스트 케이스를 나타내는 정수 N(0<N<=100)이 들어있고, 그 아래로 N개의 줄에 걸쳐서 회문을 구해야 하는 정\n",
    "수가 한 줄에 하나씩 들어있다.\n",
    "\n",
    "#### output\n",
    "\n",
    "N개의 각 정수에 대해 회문을 발견하는 데 필요한 최소한의 반복 횟수를 출력하고, 스페이스를 한 칸 출력한 다음, 그 회문을 출\n",
    "력한다.\n",
    "\n",
    "#### Sample Input\n",
    "\n",
    "3\n",
    "195\n",
    "265\n",
    "750\n",
    "#### Sample Output\n",
    "\n",
    "4 9339\n",
    "5 45254\n",
    "3 6666"
   ]
  },
  {
   "cell_type": "code",
   "execution_count": 92,
   "metadata": {},
   "outputs": [
    {
     "name": "stdout",
     "output_type": "stream",
     "text": [
      "3\n",
      "195\n",
      "4 9339\n",
      "265\n",
      "5 45254\n",
      "750\n",
      "3 6666\n"
     ]
    }
   ],
   "source": [
    "\n",
    "num = int(input())\n",
    "n = 0\n",
    "for i in range(num):\n",
    "    nustr = input()\n",
    "    cnt = 0\n",
    "    su = 0\n",
    "\n",
    "    while True:\n",
    "        nu1 = int(nustr)\n",
    "        nu2 = [nustr[-x] for x in range(1, len(nustr)+1)]\n",
    "        nu2 = int(''.join(nu2))\n",
    "        su = int(su)\n",
    "        su = sum([nu1, nu2])\n",
    "        cnt += 1\n",
    "        su = str(su)\n",
    "        nustr = su\n",
    "        a = [su[x]==su[len(su)-x-1] for x in range(len(su))]\n",
    "        b = [True for x in range(len(su))]\n",
    "        if a == b:\n",
    "            print(cnt, su)\n",
    "            break"
   ]
  },
  {
   "cell_type": "code",
   "execution_count": 94,
   "metadata": {},
   "outputs": [],
   "source": [
    "def sample(a):\n",
    "    b = str(a)\n",
    "    count = 0\n",
    "    while b != b[::-1]:\n",
    "        b = str((int(b) + int(b[::-1])))\n",
    "        count += 1\n",
    "    return print(count, b)"
   ]
  },
  {
   "cell_type": "markdown",
   "metadata": {},
   "source": [
    "# 다음 디브온 코드골프 문제"
   ]
  },
  {
   "cell_type": "code",
   "execution_count": null,
   "metadata": {},
   "outputs": [],
   "source": [
    "디브온에서 미니대안언어축제가 진행되던 M2 밖에 텍스트큐브 부스에서 재미있는 코드골프 문제 풀기가 있었습니다. 150자\n",
    "이하로 푸신 분들에게는 즉석에서 제공되는 원두커피와 텀블러가 상으로 주어졌다고 합니다.\n",
    "\n",
    "문제는 아래와 같습니다. 이 결과가 나와야 하는데 언어 제약은 없답니다.\n",
    "\n",
    "     *\n",
    "     *\n",
    "    * *\n",
    "   *   *\n",
    "  *     *\n",
    "**       **\n",
    "  *     *\n",
    "   *   *\n",
    "    * *\n",
    "     *\n",
    "     *\n"
   ]
  },
  {
   "cell_type": "code",
   "execution_count": null,
   "metadata": {},
   "outputs": [],
   "source": [
    "11\n",
    "5 5 4 3 2 0 2 3 4 5 5 \n",
    "1 1 1 1 1 2 1 1 1 1 1    ㄱ\n",
    "0 0 1 3 5 7 5 3 1 0 0      l\n",
    "0 0 1 1 1 2 1 1 1 0 0     --"
   ]
  },
  {
   "cell_type": "code",
   "execution_count": null,
   "metadata": {},
   "outputs": [],
   "source": [
    "maps = int(input())\n",
    "for i in range(len(maps)):\n",
    "    for j in range(len)"
   ]
  },
  {
   "cell_type": "code",
   "execution_count": 98,
   "metadata": {},
   "outputs": [
    {
     "data": {
      "text/plain": [
       "[260, 136, 80, 32, 32]"
      ]
     },
     "execution_count": 98,
     "metadata": {},
     "output_type": "execute_result"
    }
   ],
   "source": [
    "s=[32,32,80,136,260,1539]\n",
    "s[-2::-1]"
   ]
  },
  {
   "cell_type": "code",
   "execution_count": 101,
   "metadata": {},
   "outputs": [
    {
     "name": "stdout",
     "output_type": "stream",
     "text": [
      "[32, 32, 80, 136, 260, 1539, 260, 136, 80, 32, 32]\n",
      "     *\n",
      "     *\n",
      "    * *\n",
      "   *   *\n",
      "  *     *\n",
      "**       **\n",
      "  *     *\n",
      "   *   *\n",
      "    * *\n",
      "     *\n",
      "     *\n"
     ]
    }
   ],
   "source": [
    "s=[32,32,80,136,260,1539]\n",
    "print(s+s[-2::-1])\n",
    "for x in s+s[-2::-1]:\n",
    "    print(''.join([' *'[int(b)]for b in bin(x)[:1:-1]]))"
   ]
  },
  {
   "cell_type": "code",
   "execution_count": 26,
   "metadata": {},
   "outputs": [
    {
     "name": "stdout",
     "output_type": "stream",
     "text": [
      "0b1010000\n",
      "0000101b\n",
      "\n"
     ]
    }
   ],
   "source": [
    "a = 80\n",
    "print(bin(a))\n",
    "print(bin(a)[:0:-1])\n",
    "print()\n"
   ]
  },
  {
   "cell_type": "code",
   "execution_count": 22,
   "metadata": {},
   "outputs": [
    {
     "data": {
      "text/plain": [
       "'*'"
      ]
     },
     "execution_count": 22,
     "metadata": {},
     "output_type": "execute_result"
    }
   ],
   "source": [
    "' *'[1]"
   ]
  },
  {
   "cell_type": "markdown",
   "metadata": {},
   "source": [
    "# 487-3229"
   ]
  },
  {
   "cell_type": "code",
   "execution_count": null,
   "metadata": {},
   "outputs": [],
   "source": [
    "회사원들은 외우기 좋은 전화번호를 갖고 싶어한다. 전화번호를 외우기 쉽도록 만드는 한 방법은 기억하기 좋은 단어나 구절이\n",
    "되도록 하는 것이다. 예를 들어, 워털루 대학의 전화는 TUT-GLOP으로 전화를 걸 수 있다. 때때로 번호의 일부만이 단어를 쓰기 \n",
    "위해 사용될 수 있다. Gino에서 피자를 주문하기 위해 310-GINO로 전화를 거는 식이다. 전화번호를 외우기 좋도록 하는 또다른\n",
    "방법은 숫자들을 기억하기 좋은 방법으로 묶는 것이다. 3-10-10-10 (Three-tens)으로 전화를 걸면 피자헛에 주문을 할 수 있다.\n",
    "\n",
    "전화번호의 표준형은 세 번째 번호와 네 번째 번호 사이에 하이픈(-)을 삽입한 7개의 숫자로 구성되어 있다. (예: 888-1200). 전\n",
    "화기의 키패드는 다음과 같은 글자 대 숫자의 대응을 지닌다.\n",
    "\n",
    "A, B, C -> 2\n",
    "D, E, F -> 3\n",
    "G, H, I -> 4\n",
    "J, K, L -> 5\n",
    "M, N, O -> 6\n",
    "P, R, S -> 7\n",
    "T, U, V -> 8\n",
    "W, X, Y -> 9\n",
    "Q와 Z에 대한 대응관계는 존재하지 않는다. 하이픈은 전화기에 입력되지 않으며 필요에 따라 추가되거나 빠질 수 있다. TUT-GL\n",
    "OP의 표준형은 888-4567이고, 310-GINO의 표준형은 310-4466, 3-10-10-10의 표준형은 310-1010이다.\n",
    "\n",
    "만약 어떤 두 전화번호가 같은 표준형을 지니면 그들은 같은 번호이다.\n",
    "\n",
    "여러분의 회사는 지역 회사원들의 전화번호를 정리하고 있다. 품질 관리 과정의 일환으로, 여러분은 정리된 전화번호부의 번호\n",
    "중에 같은 것이 둘 이상 있지 않은지 확인하고 싶다.\n",
    "\n",
    "Input\n",
    "\n",
    "입력은 하나의 테스트 케이스로 구성된다. 입력의 첫 줄은 전화번호의 갯수(<=100,000)로 이뤄져 있다. 남은 줄들은 전화번호\n",
    "부 내의 전화번호들이 한 줄에 하나씩 들어 있다. 각 전화번호는 십진 숫자들과 대문자(Q,Z 제외), 하이픈으로 구성된 문자열로\n",
    "이뤄져 있다. 문자열 내에서 정확히 7개의 문자들이 숫자 또는 알파벳 문자이다.\n",
    "\n",
    "Output\n",
    "\n",
    "한 번 이상 등장한 전화번호들이 출력을 구성한다. 각 줄은 표준형으로 표현된 전화번호와 출현 횟수가 하나의 공백 문자로 구\n",
    "분되어 있다. 출력되는 전화 번호들은 증가하는 사전식 순서로 되어 있어야 한다. 만약 입력으로 들어온 전화번호 중에 중복이\n",
    "없다면 \"No duplicates.\"를 출력한다.\n",
    "\n",
    "Sample Input\n",
    "\n",
    "12\n",
    "4873279\n",
    "ITS-EASY\n",
    "888-4567\n",
    "3-10-10-10\n",
    "888-GLOP\n",
    "TUT-GLOP\n",
    "967-11-11\n",
    "310-GINO\n",
    "F101010\n",
    "888-1200\n",
    "-4-8-7-3-2-7-9-\n",
    "487-3279\n",
    "\n",
    "Sample Output\n",
    "\n",
    "310-1010 2\n",
    "487-3279 4\n",
    "888-4567 3"
   ]
  },
  {
   "cell_type": "code",
   "execution_count": 2,
   "metadata": {},
   "outputs": [
    {
     "name": "stdout",
     "output_type": "stream",
     "text": [
      "12 4873279 ITS-EASY 888-4567 3-10-10-10 888-GLOP TUT-GLOP 967-11-11 310-GINO F101010 888-1200 -4-8-7-3-2-7-9- 487-3279\n",
      "310-1010 4\n",
      "487-3279 8\n",
      "888-4567 6\n"
     ]
    }
   ],
   "source": [
    "num = str(input()).split()\n",
    "cnt = int(num[0])\n",
    "maps = [x for x in range(65, 90)]\n",
    "maps.remove(81)\n",
    "dic = {}\n",
    "[dic.setdefault(maps[j], i) for i in range(2, 10)\n",
    "                            for j in range(0+(i-2)*3, 3+(i-2)*3)]\n",
    "    \n",
    "for i in range(1, cnt+1):\n",
    "    #del la[:]\n",
    "    la = []\n",
    "    for j in num[i]:\n",
    "        a = ord(j)\n",
    "        if a == 45:\n",
    "            pass\n",
    "        elif 65<=a and a<=90:\n",
    "            la.append(dic.get(a))\n",
    "        else:\n",
    "            la.append(a-48)\n",
    "    \n",
    "    ll.append(int(''.join([chr(x+48) for x in la])))\n",
    "        \n",
    "if ll.count(3101010)>0:\n",
    "    print('310-1010',ll.count(3101010))\n",
    "if ll.count(4873279)>0:\n",
    "    print('487-3279',ll.count(4873279))\n",
    "if ll.count(8884567)>0:\n",
    "    print('888-4567',ll.count(8884567))"
   ]
  }
 ],
 "metadata": {
  "kernelspec": {
   "display_name": "Python 3",
   "language": "python",
   "name": "python3"
  },
  "language_info": {
   "codemirror_mode": {
    "name": "ipython",
    "version": 3
   },
   "file_extension": ".py",
   "mimetype": "text/x-python",
   "name": "python",
   "nbconvert_exporter": "python",
   "pygments_lexer": "ipython3",
   "version": "3.6.6"
  }
 },
 "nbformat": 4,
 "nbformat_minor": 4
}
