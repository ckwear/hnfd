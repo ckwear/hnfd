{
 "cells": [
  {
   "cell_type": "markdown",
   "metadata": {},
   "source": [
    "# Two Printers"
   ]
  },
  {
   "cell_type": "markdown",
   "metadata": {},
   "source": [
    "John과 Mary는 \"J&M 출판사\"를 설립하고 낡은 프린터 2대를 구입하였다.\n",
    "\n",
    "그들이 첫번째로 성사시킨 거래는 N개의 페이지로 구성된 문서를 출력하는 일이었다.\n",
    "\n",
    "그들이 구입한 두 대의 프린터는 각기 다른 속도록 문서를 출력하고 있다고 한다. 하나는 한 페이지를 출력하는 데 X초가 걸리고 다른 하나는 Y초가 소요된다고 한다.\n",
    "\n",
    "John과 Mary는 두 대의 프린터를 이용하여 전체 문서를 출력하는 데 드는 최소한의 시간이 알고 싶어졌다.\n",
    "\n",
    "입력과 출력\n",
    "\n",
    "입력데이터의 첫번 째 라인은 테스트케이스의 갯수를 뜻하고 그 갯수만큼의 라인이 추가로 입력된다. 추가되는 각 라인은 세 개의 정수값 X Y N 으로 구성된다. X는 첫번째 프린터가 한 페이지를 출력하는 데 드는 소요시간, Y는 두번째 프린터가 한 페이지를 출력하는 데 드는 소요시간을 뜻하고 N은 출력할 문서의 총 페이지 수를 의미한다. (단, 출력할 문서의 총 페이지 수는 1,000,000,000개를 초과하지 않는다.)\n",
    "\n",
    "출력은 프린팅에 드는 최소한의 시간을 테스트케이스의 갯수만큼 공백으로 구분하여 출력하도록 한다.\n",
    "\n",
    "입출력의 예는 다음과 같다:\n",
    "\n",
    "### input data:  \n",
    "2  \n",
    "1 1 5  \n",
    "3 5 4  \n",
    "\n",
    "### answer:  \n",
    "3 9  "
   ]
  },
  {
   "cell_type": "code",
   "execution_count": 17,
   "metadata": {},
   "outputs": [
    {
     "name": "stdout",
     "output_type": "stream",
     "text": [
      "3\n",
      "9\n"
     ]
    }
   ],
   "source": [
    "\n",
    "def CountPrint(h1, h2, n):\n",
    "    p1 = 0\n",
    "    if h1 == h2:\n",
    "        n = n +1\n",
    "\n",
    "    for i in range(100):\n",
    "        t = i//h1 + i//h2\n",
    "        if t == n:\n",
    "            \n",
    "            break\n",
    "    print(i)\n",
    "        \n",
    "CountPrint(1, 1, 5)\n",
    "CountPrint(5,3,4)\n",
    "\n",
    "4 3 5"
   ]
  },
  {
   "cell_type": "code",
   "execution_count": 10,
   "metadata": {},
   "outputs": [
    {
     "data": {
      "text/plain": [
       "9"
      ]
     },
     "execution_count": 10,
     "metadata": {},
     "output_type": "execute_result"
    }
   ],
   "source": [
    "def TwoPrint(x,y,n):\n",
    "    return round( (n-1) / (1/(x*1.0) + 1/(y*1.0)) + min(x,y)) \n",
    "\n",
    "TwoPrint(1,1,5)\n",
    "TwoPrint(3,5,4)\n"
   ]
  },
  {
   "cell_type": "markdown",
   "metadata": {},
   "source": [
    "#  Largest prime factor"
   ]
  },
  {
   "cell_type": "markdown",
   "metadata": {},
   "source": [
    "어떤 수를 소수의 곱으로만 나타내는 것을 소인수분해라 하고, 이 소수들을 그 수의 소인수라고 한다.\n",
    "\n",
    "예를 들면 13195의 소인수는 5, 7, 13, 29 이다.\n",
    "\n",
    "600851475143의 소인수 중에서 가장 큰 수를 구하시오."
   ]
  },
  {
   "cell_type": "code",
   "execution_count": 19,
   "metadata": {},
   "outputs": [
    {
     "data": {
      "text/plain": [
       "5.625"
      ]
     },
     "execution_count": 19,
     "metadata": {},
     "output_type": "execute_result"
    }
   ],
   "source": [
    "3/(1/3.0+1/5.0)"
   ]
  },
  {
   "cell_type": "code",
   "execution_count": null,
   "metadata": {},
   "outputs": [],
   "source": [
    "def PrimeFactor(n):\n",
    "    m = set()\n",
    "    i = 2\n",
    "    while i < n:\n",
    "        c = 0\n",
    "        j = 1 \n",
    "        if n%i == 0:\n",
    "            while j < i:\n",
    "                if i%j == 0:\n",
    "                    c += 1\n",
    "                j += 1\n",
    "        if c == 1:\n",
    "            m.add(i)\n",
    "        i +=1\n",
    "    print(m)\n",
    "    \n",
    "PrimeFactor(600851475143)\n",
    "\n"
   ]
  },
  {
   "cell_type": "code",
   "execution_count": 20,
   "metadata": {},
   "outputs": [
    {
     "data": {
      "text/plain": [
       "6857"
      ]
     },
     "execution_count": 20,
     "metadata": {},
     "output_type": "execute_result"
    }
   ],
   "source": [
    "def biggest_prime_factor(n):\n",
    "    i = 2\n",
    "    while i*i <= n:\n",
    "        q,r = divmod(n,i)\n",
    "        if r == 0:\n",
    "            n = q\n",
    "        else:\n",
    "            i += 1\n",
    "    return n\n",
    "\n",
    "biggest_prime_factor(6008,5147,5143)"
   ]
  },
  {
   "cell_type": "code",
   "execution_count": 11,
   "metadata": {},
   "outputs": [
    {
     "name": "stdout",
     "output_type": "stream",
     "text": [
      "6857.0\n"
     ]
    },
    {
     "data": {
      "text/plain": [
       "0"
      ]
     },
     "execution_count": 11,
     "metadata": {},
     "output_type": "execute_result"
    }
   ],
   "source": [
    "def Largest_prime(n):\n",
    "    cnt = 2\n",
    "    while cnt < n:\n",
    "        if n % cnt  ==  0:\n",
    "            Largest_prime(n/cnt)\n",
    "            return 0\n",
    "        cnt += 1\n",
    "    print(n)\n",
    "\n",
    "\n",
    "Largest_prime(600851475143)"
   ]
  },
  {
   "cell_type": "code",
   "execution_count": 21,
   "metadata": {},
   "outputs": [
    {
     "name": "stdout",
     "output_type": "stream",
     "text": [
      "3\n",
      "1\n"
     ]
    }
   ],
   "source": [
    "a, b = divmod(10, 3)\n",
    "print (a )\n",
    "print( b)"
   ]
  },
  {
   "cell_type": "markdown",
   "metadata": {},
   "source": [
    "# Simple Balanced Parentheses"
   ]
  },
  {
   "cell_type": "markdown",
   "metadata": {},
   "source": [
    "아래는 괄호를 이용한 연산식이다.\n",
    "\n",
    "(5+6)∗(7+8)/(4+3)  \n",
    "\n",
    "우리는 여는 괄호가 있으면 닫는 괄호가 반드시 있어야 한다는 것을 잘 알고 있다.\n",
    "\n",
    "다음은 정상적인(balanced) 괄호 사용의 예이다.\n",
    "\n",
    "(()()()())  \n",
    "(((())))  \n",
    "(()((())()))\n",
    "\n",
    "  다음은 비정상적인(not balanced) 괄호 사용의 예이다.\n",
    "\n",
    "((((((())  \n",
    "()))  \n",
    "(()()(()  \n",
    "(()))(  \n",
    "())(()  \n",
    "괄호의 사용이 잘 되었는지 잘못 되었는지 판별 해 주는 프로그램을 작성하시오."
   ]
  },
  {
   "cell_type": "code",
   "execution_count": 17,
   "metadata": {},
   "outputs": [
    {
     "name": "stdout",
     "output_type": "stream",
     "text": [
      "((((((())\n",
      "['(', '(', '(', '(', '(', '(', '(', ')', ')']\n",
      "[]\n"
     ]
    }
   ],
   "source": [
    "s = list(input())\n",
    "print(s)\n",
    "st = list()\n",
    "for i in range(len(s)):\n",
    "    if i == '(':\n",
    "        st.append(i)\n",
    "        print(st)\n",
    "    else:\n",
    "        if len(st) >= 1:\n",
    "            del st[-1]\n",
    "\n",
    "print(st)"
   ]
  }
 ],
 "metadata": {
  "kernelspec": {
   "display_name": "Python 3",
   "language": "python",
   "name": "python3"
  },
  "language_info": {
   "codemirror_mode": {
    "name": "ipython",
    "version": 3
   },
   "file_extension": ".py",
   "mimetype": "text/x-python",
   "name": "python",
   "nbconvert_exporter": "python",
   "pygments_lexer": "ipython3",
   "version": "3.7.6"
  }
 },
 "nbformat": 4,
 "nbformat_minor": 4
}
