{
 "cells": [
  {
   "cell_type": "markdown",
   "metadata": {},
   "source": [
    "# 비슷한 단어 찾아내기"
   ]
  },
  {
   "cell_type": "markdown",
   "metadata": {},
   "source": [
    "래와 같은 결과를 출력하는 function을 구현하라\n",
    "\n",
    "bool OneEditApart(string s1, string s2)\n",
    "\n",
    "OneEditApart(\"cat\", \"dog\") = false     \n",
    "OneEditApart(\"cat\", \"cats\") = true      \n",
    "OneEditApart(\"cat\", \"cut\") = true      \n",
    "OneEditApart(\"cat\", \"cast\") = true      \n",
    "OneEditApart(\"cat\", \"at\") = true     \n",
    "OneEditApart(\"cat\", \"acts\") = false      \n",
    "한개의 문자를 삽입, 제거, 변환을 했을때 s1, s2가 동일한지를 판별하는 OneEditApart 함수를 작성하시오."
   ]
  },
  {
   "cell_type": "markdown",
   "metadata": {},
   "source": [
    "# Josephus Problem"
   ]
  },
  {
   "cell_type": "code",
   "execution_count": 64,
   "metadata": {},
   "outputs": [
    {
     "name": "stdout",
     "output_type": "stream",
     "text": [
      "[0, 0, 0]\n",
      "[1, 2, 3]\n",
      "\n",
      "[1, 2, 3, 0]\n",
      "[1, 2, 3]\n",
      "\n",
      "[1, 0, 3]\n",
      "[1, 2, 3]\n",
      "\n",
      "[1, 2, 0, 3]\n",
      "[1, 2, 3]\n",
      "\n",
      "[2, 3]\n",
      "[1, 2, 3]\n",
      "\n",
      "[2, 1, 3, 0]\n",
      "[1, 2, 3]\n",
      "\n"
     ]
    }
   ],
   "source": [
    "def OneEditApart(n, c):\n",
    "    l = [0 for i in range(len(c))]\n",
    "    la = [i for i in range(1, len(n)+1)]\n",
    "    for i in range(len(n)):\n",
    "        for j in range(len(c)):\n",
    "            if n[i] == c[j]:\n",
    "                l[j]= i+1\n",
    "    \n",
    "    print(l)\n",
    "    print(la)\n",
    "\n",
    "    #ll = [True if la[i]==l[i] else False for i in range(len(l))]\n",
    "    #print(ll)\n",
    "    print()\n",
    "def main():\n",
    "\n",
    "\n",
    "    OneEditApart(\"cat\", \"dog\")\n",
    "    OneEditApart(\"cat\", \"cats\")\n",
    "    OneEditApart(\"cat\", \"cut\") \n",
    "    OneEditApart(\"cat\", \"cast\")\n",
    "    OneEditApart(\"cat\", \"at\") \n",
    "    OneEditApart(\"cat\", \"acts\") \n",
    "    \n",
    "if __name__=='__main__':\n",
    "    main()"
   ]
  },
  {
   "cell_type": "code",
   "execution_count": 2,
   "metadata": {},
   "outputs": [
    {
     "name": "stdout",
     "output_type": "stream",
     "text": [
      "False\n",
      "True\n",
      "True\n",
      "True\n",
      "True\n",
      "False\n"
     ]
    }
   ],
   "source": [
    "def OneEditApart(a, b):\n",
    "    if len(a) <len(b):\n",
    "        m = [b[0:n]+b[1+n:] for n in range(len(b))]\n",
    "        return a in m\n",
    "    elif len(a) == len(b):\n",
    "        m = [b[0:n]+a[n]+b[1+n:] for n in range(len(a))]\n",
    "        return a in m\n",
    "    else :\n",
    "        m2=[]\n",
    "        b = [i for i in b]\n",
    "        a = [i for i in a]\n",
    "        for lx,x in enumerate(a):\n",
    "            b.insert(lx, x)\n",
    "            c = b[:]\n",
    "            m2.append(c)\n",
    "            del b[lx]\n",
    "        return a in m2\n",
    "    \n",
    "print(OneEditApart(\"cat\", \"dog\"))\n",
    "print(OneEditApart(\"cat\", \"cats\"))\n",
    "print(OneEditApart(\"cat\", \"cut\")) \n",
    "print(OneEditApart(\"cat\", \"cast\"))\n",
    "print(OneEditApart(\"cat\", \"at\"))\n",
    "print(OneEditApart(\"cat\", \"acts\"))"
   ]
  },
  {
   "cell_type": "code",
   "execution_count": 3,
   "metadata": {},
   "outputs": [
    {
     "name": "stdout",
     "output_type": "stream",
     "text": [
      "False\n",
      "True\n",
      "True\n",
      "True\n",
      "True\n",
      "False\n"
     ]
    }
   ],
   "source": [
    "def OneDelete(a, b):\n",
    "    m = [b[0:n]+b[1+n:] for n in range(len(b))]\n",
    "    return a in m\n",
    "def OneEditApart(a, b):\n",
    "    if len(a) <len(b):\n",
    "        return OneDelete(a, b)\n",
    "    elif len(a) == len(b):\n",
    "        m = [b[0:n]+a[n]+b[1+n:] for n in range(len(a))]\n",
    "        return a in m\n",
    "    else :\n",
    "        return OneDelete(b, a)\n",
    "    \n",
    "print(OneEditApart(\"cat\", \"dog\"))\n",
    "print(OneEditApart(\"cat\", \"cats\"))\n",
    "print(OneEditApart(\"cat\", \"cut\")) \n",
    "print(OneEditApart(\"cat\", \"cast\"))\n",
    "print(OneEditApart(\"cat\", \"at\"))\n",
    "print(OneEditApart(\"cat\", \"acts\"))"
   ]
  },
  {
   "cell_type": "markdown",
   "metadata": {},
   "source": [
    "약 2,000년 전에는 전쟁에서 병사들이 적들에 의해 동굴에 갇히게 되는 경우가 종종 있었다고 한다.\n",
    "\n",
    "그들은 포로가 되는것을 방지하기 위해 동그랗게 서서 마지막 한 사람이 남을 때 까지 순서대로 돌아가며 세번째에 해당되는 사람을 죽여 나갔다고 한다.\n",
    "\n",
    "마지막으로 남게되는 사람은 자살하기로 약속되어 있었지만 보통 적들에게 항복을 하는 경우가 많았다고 한다.\n",
    "\n",
    "여러분이 풀어야 할 문제는 총 인원수(N)와 간격(K)이 주어졌을 때 가장 마지막에 살아남는 병사의 위치(the safe position)를 알아내는 것이다.\n",
    "\n",
    "예를 들어 병사수가 총 10명이고 돌아가며 세번째에 해당되는 병사를 제거하는 경우는 다음과 같다:\n",
    "\n",
    "N = 10, K = 3   \n",
    "\n",
    "위의 경우 다음과 같은 순서로 병사들이 제거된다. (괄호는 제거되는 병사를 의미한다)\n",
    "\n",
    "1st round: 1 2 (3) 4 5 (6) 7 8 (9) 10   \n",
    "2nd round:                            1 (2) 4 5 (7) 8 10   \n",
    "3rd round:                                                (1) 4 5 (8) 10   \n",
    "4th round:                                                               4 (5) 10   \n",
    "5th round:                                                                        4 (10)   \n",
    "\n",
    "위 예에서 끝가지 살아남는 병사는 4, 즉 4번째 병사이다.\n",
    "\n",
    "입력 데이터는 총 병사수 N과 간격 K이다.\n",
    "출력 데이터는 마지막까지 살아남는 병사의 위치이다.\n",
    "\n",
    "(단, 최초 시작은 1번 병사부터이다.)\n",
    "\n",
    "입출력 예는 다음과 같다:\n",
    "\n",
    "initial data:  \n",
    "10 3   \n",
    "\n",
    "answer:  \n",
    "4   "
   ]
  },
  {
   "cell_type": "code",
   "execution_count": 53,
   "metadata": {},
   "outputs": [
    {
     "data": {
      "text/plain": [
       "[4]"
      ]
     },
     "execution_count": 53,
     "metadata": {},
     "output_type": "execute_result"
    }
   ],
   "source": [
    "def Josephus(n,k): \n",
    "    a = list(range(1, n+1))\n",
    "    c = 0\n",
    "    while len(a)> 1:\n",
    "        tl = len(a)%k\n",
    "        del a[k-c-1::k]\n",
    "        c = (c+tl)%k\n",
    "    return a \n",
    "\n",
    "Josephus(10, 3)"
   ]
  },
  {
   "cell_type": "code",
   "execution_count": 14,
   "metadata": {
    "scrolled": true
   },
   "outputs": [
    {
     "data": {
      "text/plain": [
       "[4, 10]"
      ]
     },
     "execution_count": 14,
     "metadata": {},
     "output_type": "execute_result"
    }
   ],
   "source": [
    "def Josephus(n,k):\n",
    "    a = range(1,n+1)\n",
    "    m = k - 1\n",
    "    b = 0\n",
    "    while len(a) > 1:\n",
    "        b = ((len(a)+b)%k)\n",
    "        del a[m::k]\n",
    "        m = k - b - 1\n",
    "    return a\n",
    "\n",
    "print Josephus(10,3)"
   ]
  }
 ],
 "metadata": {
  "kernelspec": {
   "display_name": "Python 3",
   "language": "python",
   "name": "python3"
  },
  "language_info": {
   "codemirror_mode": {
    "name": "ipython",
    "version": 3
   },
   "file_extension": ".py",
   "mimetype": "text/x-python",
   "name": "python",
   "nbconvert_exporter": "python",
   "pygments_lexer": "ipython3",
   "version": "3.6.6"
  },
  "varInspector": {
   "cols": {
    "lenName": "1001000000",
    "lenType": "10000000",
    "lenVar": "1000000000"
   },
   "kernels_config": {
    "python": {
     "delete_cmd_postfix": "",
     "delete_cmd_prefix": "del ",
     "library": "var_list.py",
     "varRefreshCmd": "print(var_dic_list())"
    },
    "r": {
     "delete_cmd_postfix": ") ",
     "delete_cmd_prefix": "rm(",
     "library": "var_list.r",
     "varRefreshCmd": "cat(var_dic_list()) "
    }
   },
   "types_to_exclude": [
    "module",
    "function",
    "builtin_function_or_method",
    "instance",
    "_Feature"
   ],
   "window_display": true
  }
 },
 "nbformat": 4,
 "nbformat_minor": 4
}
