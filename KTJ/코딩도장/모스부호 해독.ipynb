{
 "cells": [
  {
   "cell_type": "markdown",
   "metadata": {},
   "source": [
    "A.-N-.\n",
    "B-...O---\n",
    "C\t-.-.\tP\t.--.\n",
    "D\t-..\tQ\t--.-\n",
    "E\t.\tR\t.-.\n",
    "F\t..-.\tS\t...\n",
    "G\t--.\tT\t-\n",
    "H\t....\tU\t..-\n",
    "I\t..\tV\t...-\n",
    "J\t.---W.--\n",
    "K\t-.-\tX\t-..-\n",
    "L\t.-..\tY\t-.--\n",
    "M\t--\tZ\t--.."
   ]
  },
  {
   "cell_type": "markdown",
   "metadata": {},
   "source": [
    "A\t.-\tN\t-.\n",
    "B\t-...\tO\t---\n",
    "C\t-.-.\tP\t.--.\n",
    "D\t-..\tQ\t--.-\n",
    "E\t.\tR\t.-.\n",
    "F\t..-.\tS\t...\n",
    "G\t--.\tT\t-\n",
    "H\t....\tU\t..-\n",
    "I\t..\tV\t...-\n",
    "J\t.---\tW\t.--\n",
    "K\t-.-\tX\t-..-\n",
    "L\t.-..\tY\t-.--\n",
    "M\t--\tZ\t--.."
   ]
  },
  {
   "cell_type": "markdown",
   "metadata": {},
   "source": [
    "A\t.-\tN\t-.\n",
    "B\t-...\tO\t---\n",
    "C\t-.-.\tP\t.--.\n",
    "D\t-..\tQ\t--.-\n",
    "E\t.\tR\t.-.\n",
    "F\t..-.\tS\t...\n",
    "G\t--.\tT\t-\n",
    "H\t....\tU\t..-\n",
    "I\t..\tV\t...-\n",
    "J\t.---\tW\t.--\n",
    "K\t-.-\tX\t-..-\n",
    "L\t.-..\tY\t-.--\n",
    "M\t--\tZ\t--.."
   ]
  },
  {
   "cell_type": "code",
   "execution_count": 37,
   "metadata": {},
   "outputs": [
    {
     "name": "stdout",
     "output_type": "stream",
     "text": [
      "['.-', '-.', '-...', '---', '-.-.', '.--.', '-..', '--.-', '.', '.-.', '..-.', '...', '--.', '-', '....', '..-', '..', '...-', '.---', '.--', '-.-', '-..-', '.-..', '-.--', '--', '--..']\n",
      "['....', '.', '...', '.-..', '.', '.', '.--.', '...', '.', '.-', '.-.', '.-..', '-.--']\n"
     ]
    },
    {
     "data": {
      "text/plain": [
       "['H', 'E', 'S', 'L', 'E', 'E', 'P', 'S', 'E', 'A', 'R', 'L', 'Y']"
      ]
     },
     "execution_count": 37,
     "metadata": {},
     "output_type": "execute_result"
    }
   ],
   "source": [
    "s = \"A .- N -. B -... O --- C -.-. P .--. D -.. Q --.- E . R .-. F ..-. S ... G --. T - H .... U ..- I .. V ...- J .--- W .-- K -.- X -..- L .-.. Y -.-- M -- Z --..\"\n",
    "s = s.split(' ')\n",
    "v = s[::2]\n",
    "k = s[1::2]\n",
    "ipt = '.... .  ... .-.. . . .--. ...  . .- .-. .-.. -.--'\n",
    "\n",
    "ipt = ipt.split(' ')\n",
    "for i in range(ipt.count('')):\n",
    "    ipt.remove('') \n",
    "\n",
    "r = [v[k.index(a)] for a in ipt]\n",
    "r\n"
   ]
  },
  {
   "cell_type": "code",
   "execution_count": 39,
   "metadata": {
    "scrolled": true
   },
   "outputs": [
    {
     "data": {
      "text/plain": [
       "[0, 1, 2, 3, 4, 5]"
      ]
     },
     "execution_count": 39,
     "metadata": {},
     "output_type": "execute_result"
    }
   ],
   "source": [
    "m = ['', ' ', '  ', '   ', '    ', '     ']\n",
    "m = [len(i) for i in m]\n",
    "m"
   ]
  }
 ],
 "metadata": {
  "kernelspec": {
   "display_name": "Python 3",
   "language": "python",
   "name": "python3"
  },
  "language_info": {
   "codemirror_mode": {
    "name": "ipython",
    "version": 3
   },
   "file_extension": ".py",
   "mimetype": "text/x-python",
   "name": "python",
   "nbconvert_exporter": "python",
   "pygments_lexer": "ipython3",
   "version": "3.6.6"
  }
 },
 "nbformat": 4,
 "nbformat_minor": 4
}
