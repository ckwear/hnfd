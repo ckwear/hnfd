{
 "cells": [
  {
   "cell_type": "raw",
   "metadata": {},
   "source": [
    "디브온에서 미니대안언어축제가 진행되던 M2 밖에 텍스트큐브 부스에서 재미있는 코드골프 문제 풀기가 있었습니다. 150자 이하로 푸신 분들에게는 즉석에서 제공되는 원두커피와 텀블러가 상으로 주어졌다고 합니다.\n",
    "\n",
    "문제는 아래와 같습니다. 이 결과가 나와야 하는데 언어 제약은 없답니다.\n",
    "\n",
    "     *  \n",
    "     *  \n",
    "    * *  \n",
    "   *   *  \n",
    "  *     *  \n",
    "**       **  \n",
    "  *     *  \n",
    "   *   *   \n",
    "    * *  \n",
    "     *  \n",
    "     *  "
   ]
  },
  {
   "cell_type": "code",
   "execution_count": 3,
   "metadata": {},
   "outputs": [
    {
     "name": "stdout",
     "output_type": "stream",
     "text": [
      "     *\n",
      "     *\n",
      "    * *\n",
      "   *   *\n",
      "  *     *\n",
      "**       **\n",
      "  *     *\n",
      "   *   *\n",
      "    * *\n",
      "     *\n",
      "     *\n"
     ]
    }
   ],
   "source": [
    "s=[32,32,80,136,260,1539]\n",
    "for x in s+s[-2::-1]:print(''.join([' *'[int(b)]for b in bin(x)[:1:-1]]))"
   ]
  },
  {
   "cell_type": "markdown",
   "metadata": {},
   "source": [
    "s=[32,32,80,136,260,1539]\n",
    "모양에 대한 각 줄의 별 위치를 2비트로 표현했다 2비트로 표현된 값을 10진법으로 변환시켰다. \n",
    "\n",
    "bin(x)\n",
    "\n",
    "- bin함수는 예를 들어 32->'0b100000'로 표현된다\n",
    "\n",
    "    - m[::-1]] : 그냥 문자열을 역방향으로 출력\n",
    "    - m[:0:-1]] : 왼쪽 한문자를 제외시키고 역방향으로 출력\n",
    "    - m[:1:-1]] : 왼쪽 두문자를 제외시키고 역방향으로 출력\n",
    "    \n",
    "bin(32)[:1:-1]\n",
    "\n",
    "따라서 위의 결과는 0또는 1만의 값을 갖게 된다.\n",
    "\n",
    "' *'[bin(32)[:1:-1]] *  \n",
    "위의 값은 한줄의 맵을 만들게 된다.\n"
   ]
  },
  {
   "cell_type": "code",
   "execution_count": 7,
   "metadata": {},
   "outputs": [
    {
     "data": {
      "text/plain": [
       "'000001b0'"
      ]
     },
     "execution_count": 7,
     "metadata": {},
     "output_type": "execute_result"
    }
   ],
   "source": [
    "bin(32)[::-1]"
   ]
  }
 ],
 "metadata": {
  "kernelspec": {
   "display_name": "Python 3",
   "language": "python",
   "name": "python3"
  },
  "language_info": {
   "codemirror_mode": {
    "name": "ipython",
    "version": 3
   },
   "file_extension": ".py",
   "mimetype": "text/x-python",
   "name": "python",
   "nbconvert_exporter": "python",
   "pygments_lexer": "ipython3",
   "version": "3.6.6"
  }
 },
 "nbformat": 4,
 "nbformat_minor": 4
}
